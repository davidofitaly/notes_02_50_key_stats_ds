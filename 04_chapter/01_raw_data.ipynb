{
  "nbformat": 4,
  "nbformat_minor": 0,
  "metadata": {
    "colab": {
      "provenance": [],
      "authorship_tag": "ABX9TyOeDvuESK/6zHOGkMVMFlYa",
      "include_colab_link": true
    },
    "kernelspec": {
      "name": "ir",
      "display_name": "R"
    },
    "language_info": {
      "name": "R"
    }
  },
  "cells": [
    {
      "cell_type": "markdown",
      "metadata": {
        "id": "view-in-github",
        "colab_type": "text"
      },
      "source": [
        "<a href=\"https://colab.research.google.com/github/davidofitaly/notes_02_50_key_stats_ds/blob/main/04_chapter/01_raw_data.ipynb\" target=\"_parent\"><img src=\"https://colab.research.google.com/assets/colab-badge.svg\" alt=\"Open In Colab\"/></a>"
      ]
    },
    {
      "cell_type": "markdown",
      "source": [
        "### Simple Linear Regression"
      ],
      "metadata": {
        "id": "O2dXMHR5Dsmb"
      }
    },
    {
      "cell_type": "markdown",
      "source": [
        "1. **Dependent Variable**:  \n",
        "   The outcome being predicted. Synonyms: response, $y$, target, result.\n",
        "\n",
        "2. **Independent Variable**:  \n",
        "   The predictor or feature used to explain the dependent variable. Synonyms: $x$, attribute, characteristic, predictor.\n",
        "\n",
        "3. **Intercept (Constant Term)**:  \n",
        "   The expected value of the dependent variable when the independent variable is zero. Denoted as $b_0$ or $\\beta_0$.\n",
        "\n",
        "4. **Regression Coefficient**:  \n",
        "   Represents the change in the dependent variable for a one-unit increase in the independent variable. Denoted as $b_1$ or $\\beta_1$.\n",
        "\n",
        "5. **Fitted (Predicted) Values**:  \n",
        "   The estimated values of the dependent variable. Denoted as $\\hat{y}$. Synonyms: forecasted values, approximated values.\n",
        "\n",
        "6. **Residuals (Error)**:  \n",
        "   The difference between observed and fitted values:  \n",
        "   $$ \\text{Residual} = y - \\hat{y} $$\n",
        "\n",
        "7. **Least Squares Method**:  \n",
        "   A technique to minimize the sum of squared residuals and find the best-fitting line:  \n",
        "   $$ \\text{Minimize } \\sum (y_i - (\\beta_0 + \\beta_1 x_i))^2 $$  \n",
        "   where $\\beta_0$ is the intercept, and $\\beta_1$ is the regression coefficient.\n"
      ],
      "metadata": {
        "id": "TiFCAEjdDqSk"
      }
    },
    {
      "cell_type": "markdown",
      "source": [
        "####Excercise 4.1\n",
        "#####Write a program that loads the state.csv dataset"
      ],
      "metadata": {
        "id": "JjvhJ_QPILIX"
      }
    },
    {
      "cell_type": "code",
      "execution_count": 4,
      "metadata": {
        "colab": {
          "base_uri": "https://localhost:8080/",
          "height": 286
        },
        "id": "VUa-4-llDn4H",
        "outputId": "2d14fa9f-6618-4742-9758-fcbf37af5255"
      },
      "outputs": [
        {
          "output_type": "display_data",
          "data": {
            "text/html": [
              "<table class=\"dataframe\">\n",
              "<caption>A data.frame: 6 × 2</caption>\n",
              "<thead>\n",
              "\t<tr><th></th><th scope=col>PEFR</th><th scope=col>Exposure</th></tr>\n",
              "\t<tr><th></th><th scope=col>&lt;int&gt;</th><th scope=col>&lt;int&gt;</th></tr>\n",
              "</thead>\n",
              "<tbody>\n",
              "\t<tr><th scope=row>1</th><td>390</td><td>0</td></tr>\n",
              "\t<tr><th scope=row>2</th><td>410</td><td>0</td></tr>\n",
              "\t<tr><th scope=row>3</th><td>430</td><td>0</td></tr>\n",
              "\t<tr><th scope=row>4</th><td>460</td><td>0</td></tr>\n",
              "\t<tr><th scope=row>5</th><td>420</td><td>1</td></tr>\n",
              "\t<tr><th scope=row>6</th><td>280</td><td>2</td></tr>\n",
              "</tbody>\n",
              "</table>\n"
            ],
            "text/markdown": "\nA data.frame: 6 × 2\n\n| <!--/--> | PEFR &lt;int&gt; | Exposure &lt;int&gt; |\n|---|---|---|\n| 1 | 390 | 0 |\n| 2 | 410 | 0 |\n| 3 | 430 | 0 |\n| 4 | 460 | 0 |\n| 5 | 420 | 1 |\n| 6 | 280 | 2 |\n\n",
            "text/latex": "A data.frame: 6 × 2\n\\begin{tabular}{r|ll}\n  & PEFR & Exposure\\\\\n  & <int> & <int>\\\\\n\\hline\n\t1 & 390 & 0\\\\\n\t2 & 410 & 0\\\\\n\t3 & 430 & 0\\\\\n\t4 & 460 & 0\\\\\n\t5 & 420 & 1\\\\\n\t6 & 280 & 2\\\\\n\\end{tabular}\n",
            "text/plain": [
              "  PEFR Exposure\n",
              "1 390  0       \n",
              "2 410  0       \n",
              "3 430  0       \n",
              "4 460  0       \n",
              "5 420  1       \n",
              "6 280  2       "
            ]
          },
          "metadata": {}
        }
      ],
      "source": [
        "# Define the URL of the CSV file on GitHub\n",
        "url <- \"https://raw.githubusercontent.com/davidofitaly/notes_02_50_key_stats_ds/main/04_chapter/files/LungDisease.csv\"\n",
        "\n",
        "# Load the data from the CSV file into the variable 'data_lung'\n",
        "data_lung <- read.csv(url)\n",
        "\n",
        "# Display the first few rows of the loaded dataset\n",
        "head(data_lung)"
      ]
    }
  ]
}