{
  "nbformat": 4,
  "nbformat_minor": 0,
  "metadata": {
    "colab": {
      "provenance": [],
      "authorship_tag": "ABX9TyM1dq4sDoKDP/Ede+EuLbt5",
      "include_colab_link": true
    },
    "kernelspec": {
      "name": "ir",
      "display_name": "R"
    },
    "language_info": {
      "name": "R"
    }
  },
  "cells": [
    {
      "cell_type": "markdown",
      "metadata": {
        "id": "view-in-github",
        "colab_type": "text"
      },
      "source": [
        "<a href=\"https://colab.research.google.com/github/davidofitaly/notes_02_50_key_stats_ds/blob/main/04_chapter/01_raw_data.ipynb\" target=\"_parent\"><img src=\"https://colab.research.google.com/assets/colab-badge.svg\" alt=\"Open In Colab\"/></a>"
      ]
    },
    {
      "cell_type": "markdown",
      "source": [
        "### Simple Linear Regression"
      ],
      "metadata": {
        "id": "O2dXMHR5Dsmb"
      }
    },
    {
      "cell_type": "markdown",
      "source": [
        "1. **Dependent Variable**:  \n",
        "   The outcome being predicted. Synonyms: response, $y$, target, result.\n",
        "\n",
        "2. **Independent Variable**:  \n",
        "   The predictor or feature used to explain the dependent variable. Synonyms: $x$, attribute, characteristic, predictor.\n",
        "\n",
        "3. **Intercept (Constant Term)**:  \n",
        "   The expected value of the dependent variable when the independent variable is zero. Denoted as $b_0$ or $\\beta_0$.\n",
        "\n",
        "4. **Regression Coefficient**:  \n",
        "   Represents the change in the dependent variable for a one-unit increase in the independent variable. Denoted as $b_1$ or $\\beta_1$.\n",
        "\n",
        "5. **Fitted (Predicted) Values**:  \n",
        "   The estimated values of the dependent variable. Denoted as $\\hat{y}$. Synonyms: forecasted values, approximated values.\n",
        "\n",
        "6. **Residuals (Error)**:  \n",
        "   The difference between observed and fitted values:  \n",
        "   $$ \\text{Residual} = y - \\hat{y} $$\n",
        "\n",
        "7. **Least Squares Method**:  \n",
        "   A technique to minimize the sum of squared residuals and find the best-fitting line:  \n",
        "   $$ \\text{Minimize } \\sum (y_i - (\\beta_0 + \\beta_1 x_i))^2 $$  \n",
        "   where $\\beta_0$ is the intercept, and $\\beta_1$ is the regression coefficient.\n"
      ],
      "metadata": {
        "id": "TiFCAEjdDqSk"
      }
    },
    {
      "cell_type": "markdown",
      "source": [
        "####Excercise 4.1\n",
        "#####Write a program that loads the `LungDisease.csv` dataset from the provided URL and performs a linear regression to predict PEFR based on Exposure. Then, display the results of the regression model.\n",
        "\n",
        "1. **Load the LungDisease dataset** from the provided GitHub URL into a variable called `data_lung`.\n",
        "2. **Fit a linear regression model** with PEFR as the dependent variable and Exposure as the independent variable.\n",
        "3. **Display the first few rows** of the dataset using the `head()` function.\n",
        "4. **Print the results of the regression model**, showing the coefficients for the intercept and Exposure."
      ],
      "metadata": {
        "id": "JjvhJ_QPILIX"
      }
    },
    {
      "cell_type": "code",
      "execution_count": 3,
      "metadata": {
        "colab": {
          "base_uri": "https://localhost:8080/",
          "height": 286
        },
        "id": "VUa-4-llDn4H",
        "outputId": "d62a56c4-0190-4fd2-d192-b5de00ea56e6"
      },
      "outputs": [
        {
          "output_type": "display_data",
          "data": {
            "text/html": [
              "<table class=\"dataframe\">\n",
              "<caption>A data.frame: 6 × 2</caption>\n",
              "<thead>\n",
              "\t<tr><th></th><th scope=col>PEFR</th><th scope=col>Exposure</th></tr>\n",
              "\t<tr><th></th><th scope=col>&lt;int&gt;</th><th scope=col>&lt;int&gt;</th></tr>\n",
              "</thead>\n",
              "<tbody>\n",
              "\t<tr><th scope=row>1</th><td>390</td><td>0</td></tr>\n",
              "\t<tr><th scope=row>2</th><td>410</td><td>0</td></tr>\n",
              "\t<tr><th scope=row>3</th><td>430</td><td>0</td></tr>\n",
              "\t<tr><th scope=row>4</th><td>460</td><td>0</td></tr>\n",
              "\t<tr><th scope=row>5</th><td>420</td><td>1</td></tr>\n",
              "\t<tr><th scope=row>6</th><td>280</td><td>2</td></tr>\n",
              "</tbody>\n",
              "</table>\n"
            ],
            "text/markdown": "\nA data.frame: 6 × 2\n\n| <!--/--> | PEFR &lt;int&gt; | Exposure &lt;int&gt; |\n|---|---|---|\n| 1 | 390 | 0 |\n| 2 | 410 | 0 |\n| 3 | 430 | 0 |\n| 4 | 460 | 0 |\n| 5 | 420 | 1 |\n| 6 | 280 | 2 |\n\n",
            "text/latex": "A data.frame: 6 × 2\n\\begin{tabular}{r|ll}\n  & PEFR & Exposure\\\\\n  & <int> & <int>\\\\\n\\hline\n\t1 & 390 & 0\\\\\n\t2 & 410 & 0\\\\\n\t3 & 430 & 0\\\\\n\t4 & 460 & 0\\\\\n\t5 & 420 & 1\\\\\n\t6 & 280 & 2\\\\\n\\end{tabular}\n",
            "text/plain": [
              "  PEFR Exposure\n",
              "1 390  0       \n",
              "2 410  0       \n",
              "3 430  0       \n",
              "4 460  0       \n",
              "5 420  1       \n",
              "6 280  2       "
            ]
          },
          "metadata": {}
        }
      ],
      "source": [
        "# Define the URL of the CSV file on GitHub\n",
        "url <- \"https://raw.githubusercontent.com/davidofitaly/notes_02_50_key_stats_ds/main/04_chapter/files/LungDisease.csv\"\n",
        "\n",
        "# Load the data from the CSV file into the variable 'data_lung'\n",
        "data_lung <- read.csv(url)\n",
        "\n",
        "# Display the first few rows of the loaded dataset\n",
        "head(data_lung)"
      ]
    },
    {
      "cell_type": "code",
      "source": [
        "# Fit linear regression model with PEFR as dependent and Exposure as independent variable\n",
        "# lm() fits a linear model. PEFR is predicted by Exposure in data_lung.\n",
        "model <- lm(PEFR ~ Exposure, data=data_lung)\n",
        "\n",
        "# Print the results\n",
        "print(model)"
      ],
      "metadata": {
        "id": "q7cTnGO_KB3P",
        "outputId": "3a3c769b-0da5-4e56-8bcd-92354f79f37f",
        "colab": {
          "base_uri": "https://localhost:8080/"
        }
      },
      "execution_count": 9,
      "outputs": [
        {
          "output_type": "stream",
          "name": "stdout",
          "text": [
            "\n",
            "Call:\n",
            "lm(formula = PEFR ~ Exposure, data = data_lung)\n",
            "\n",
            "Coefficients:\n",
            "(Intercept)     Exposure  \n",
            "    424.583       -4.185  \n",
            "\n"
          ]
        }
      ]
    },
    {
      "cell_type": "markdown",
      "source": [
        "####Exercise 4.2\n",
        "\n",
        "#####Based on the linear regression model you have created (`model`), follow these steps:\n",
        "\n",
        "1. **Generate the Predicted Values:**  \n",
        "   Use the model to calculate the predicted **PEFR** values based on the **Exposure** variable. These predicted values represent the expected **PEFR** for each data point according to the model.\n",
        "\n",
        "2. **Calculate the Residuals:**  \n",
        "   The residuals represent the difference between the observed **PEFR** values and the predicted values. Compute these residuals by subtracting the predicted values from the actual **PEFR** values.\n",
        "\n",
        "3. **Display the Results:**  "
      ],
      "metadata": {
        "id": "vjqkmBLRNPZs"
      }
    },
    {
      "cell_type": "code",
      "source": [
        "# Generate the predicted values (fitted values) based on the regression model\n",
        "fitted <- predict(model)\n",
        "\n",
        "# Calculate the residuals, i.e., the differences between the actual and predicted values\n",
        "resid <- residuals(model)\n",
        "\n",
        "# Display the first few predicted values\n",
        "print(head(fitted))\n",
        "\n",
        "# Display the first few residuals (errors)\n",
        "print(head(resid))\n"
      ],
      "metadata": {
        "id": "0rKfWvpkLxFA",
        "outputId": "b38dab61-244e-4ab7-e952-6476325823bf",
        "colab": {
          "base_uri": "https://localhost:8080/"
        }
      },
      "execution_count": 10,
      "outputs": [
        {
          "output_type": "stream",
          "name": "stdout",
          "text": [
            "       1        2        3        4        5        6 \n",
            "424.5828 424.5828 424.5828 424.5828 420.3982 416.2137 \n",
            "           1            2            3            4            5            6 \n",
            " -34.5828066  -14.5828066    5.4171934   35.4171934   -0.3982301 -136.2136536 \n"
          ]
        }
      ]
    }
  ]
}