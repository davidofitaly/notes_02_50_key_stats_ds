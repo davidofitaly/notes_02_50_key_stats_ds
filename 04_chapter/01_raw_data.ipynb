{
  "nbformat": 4,
  "nbformat_minor": 0,
  "metadata": {
    "colab": {
      "provenance": [],
      "authorship_tag": "ABX9TyM9ZgLwTX+7pFdwhqlrIIx+",
      "include_colab_link": true
    },
    "kernelspec": {
      "name": "ir",
      "display_name": "R"
    },
    "language_info": {
      "name": "R"
    }
  },
  "cells": [
    {
      "cell_type": "markdown",
      "metadata": {
        "id": "view-in-github",
        "colab_type": "text"
      },
      "source": [
        "<a href=\"https://colab.research.google.com/github/davidofitaly/notes_02_50_key_stats_ds/blob/main/04_chapter/01_raw_data.ipynb\" target=\"_parent\"><img src=\"https://colab.research.google.com/assets/colab-badge.svg\" alt=\"Open In Colab\"/></a>"
      ]
    },
    {
      "cell_type": "code",
      "source": [
        "library(MASS)"
      ],
      "metadata": {
        "id": "p6vcC6vQYeEi"
      },
      "execution_count": 35,
      "outputs": []
    },
    {
      "cell_type": "markdown",
      "source": [
        "### Simple Linear Regression"
      ],
      "metadata": {
        "id": "O2dXMHR5Dsmb"
      }
    },
    {
      "cell_type": "markdown",
      "source": [
        "1. **Dependent Variable**:  \n",
        "   The outcome being predicted. Synonyms: response, $y$, target, result.\n",
        "\n",
        "2. **Independent Variable**:  \n",
        "   The predictor or feature used to explain the dependent variable. Synonyms: $x$, attribute, characteristic, predictor.\n",
        "\n",
        "3. **Intercept (Constant Term)**:  \n",
        "   The expected value of the dependent variable when the independent variable is zero. Denoted as $b_0$ or $\\beta_0$.\n",
        "\n",
        "4. **Regression Coefficient**:  \n",
        "   Represents the change in the dependent variable for a one-unit increase in the independent variable. Denoted as $b_1$ or $\\beta_1$.\n",
        "\n",
        "5. **Fitted (Predicted) Values**:  \n",
        "   The estimated values of the dependent variable. Denoted as $\\hat{y}$. Synonyms: forecasted values, approximated values.\n",
        "\n",
        "6. **Residuals (Error)**:  \n",
        "   The difference between observed and fitted values:  \n",
        "   $$ \\text{Residual} = y - \\hat{y} $$\n",
        "\n",
        "7. **Least Squares Method**:  \n",
        "   A technique to minimize the sum of squared residuals and find the best-fitting line:  \n",
        "   $$ \\text{Minimize } \\sum (y_i - (\\beta_0 + \\beta_1 x_i))^2 $$  \n",
        "   where $\\beta_0$ is the intercept, and $\\beta_1$ is the regression coefficient.\n"
      ],
      "metadata": {
        "id": "TiFCAEjdDqSk"
      }
    },
    {
      "cell_type": "markdown",
      "source": [
        "####Excercise 4.1\n",
        "#####Write a program that loads the `LungDisease.csv` dataset from the provided URL and performs a linear regression to predict PEFR based on Exposure. Then, display the results of the regression model.\n",
        "\n",
        "1. **Load the LungDisease dataset** from the provided GitHub URL into a variable called `data_lung`.\n",
        "2. **Fit a linear regression model** with PEFR as the dependent variable and Exposure as the independent variable.\n",
        "3. **Display the first few rows** of the dataset using the `head()` function.\n",
        "4. **Print the results of the regression model**, showing the coefficients for the intercept and Exposure."
      ],
      "metadata": {
        "id": "JjvhJ_QPILIX"
      }
    },
    {
      "cell_type": "code",
      "execution_count": 1,
      "metadata": {
        "colab": {
          "base_uri": "https://localhost:8080/",
          "height": 286
        },
        "id": "VUa-4-llDn4H",
        "outputId": "653536ec-7af6-4c8c-f39b-142e9876c353"
      },
      "outputs": [
        {
          "output_type": "display_data",
          "data": {
            "text/html": [
              "<table class=\"dataframe\">\n",
              "<caption>A data.frame: 6 × 2</caption>\n",
              "<thead>\n",
              "\t<tr><th></th><th scope=col>PEFR</th><th scope=col>Exposure</th></tr>\n",
              "\t<tr><th></th><th scope=col>&lt;int&gt;</th><th scope=col>&lt;int&gt;</th></tr>\n",
              "</thead>\n",
              "<tbody>\n",
              "\t<tr><th scope=row>1</th><td>390</td><td>0</td></tr>\n",
              "\t<tr><th scope=row>2</th><td>410</td><td>0</td></tr>\n",
              "\t<tr><th scope=row>3</th><td>430</td><td>0</td></tr>\n",
              "\t<tr><th scope=row>4</th><td>460</td><td>0</td></tr>\n",
              "\t<tr><th scope=row>5</th><td>420</td><td>1</td></tr>\n",
              "\t<tr><th scope=row>6</th><td>280</td><td>2</td></tr>\n",
              "</tbody>\n",
              "</table>\n"
            ],
            "text/markdown": "\nA data.frame: 6 × 2\n\n| <!--/--> | PEFR &lt;int&gt; | Exposure &lt;int&gt; |\n|---|---|---|\n| 1 | 390 | 0 |\n| 2 | 410 | 0 |\n| 3 | 430 | 0 |\n| 4 | 460 | 0 |\n| 5 | 420 | 1 |\n| 6 | 280 | 2 |\n\n",
            "text/latex": "A data.frame: 6 × 2\n\\begin{tabular}{r|ll}\n  & PEFR & Exposure\\\\\n  & <int> & <int>\\\\\n\\hline\n\t1 & 390 & 0\\\\\n\t2 & 410 & 0\\\\\n\t3 & 430 & 0\\\\\n\t4 & 460 & 0\\\\\n\t5 & 420 & 1\\\\\n\t6 & 280 & 2\\\\\n\\end{tabular}\n",
            "text/plain": [
              "  PEFR Exposure\n",
              "1 390  0       \n",
              "2 410  0       \n",
              "3 430  0       \n",
              "4 460  0       \n",
              "5 420  1       \n",
              "6 280  2       "
            ]
          },
          "metadata": {}
        }
      ],
      "source": [
        "# Define the URL of the CSV file on GitHub\n",
        "url <- \"https://raw.githubusercontent.com/davidofitaly/notes_02_50_key_stats_ds/main/04_chapter/files/LungDisease.csv\"\n",
        "\n",
        "# Load the data from the CSV file into the variable 'data_lung'\n",
        "data_lung <- read.csv(url)\n",
        "\n",
        "# Display the first few rows of the loaded dataset\n",
        "head(data_lung)"
      ]
    },
    {
      "cell_type": "code",
      "source": [
        "# Fit linear regression model with PEFR as dependent and Exposure as independent variable\n",
        "# lm() fits a linear model. PEFR is predicted by Exposure in data_lung.\n",
        "model <- lm(PEFR ~ Exposure, data=data_lung)\n",
        "\n",
        "# Print the results\n",
        "print(model)"
      ],
      "metadata": {
        "id": "q7cTnGO_KB3P",
        "outputId": "1fd63977-0d33-4c59-edc4-0c7aa9f46b66",
        "colab": {
          "base_uri": "https://localhost:8080/"
        }
      },
      "execution_count": 2,
      "outputs": [
        {
          "output_type": "stream",
          "name": "stdout",
          "text": [
            "\n",
            "Call:\n",
            "lm(formula = PEFR ~ Exposure, data = data_lung)\n",
            "\n",
            "Coefficients:\n",
            "(Intercept)     Exposure  \n",
            "    424.583       -4.185  \n",
            "\n"
          ]
        }
      ]
    },
    {
      "cell_type": "markdown",
      "source": [
        "####Exercise 4.2\n",
        "\n",
        "#####Based on the linear regression model you have created (`model`), follow these steps:\n",
        "\n",
        "1. **Generate the Predicted Values:**  \n",
        "   Use the model to calculate the predicted **PEFR** values based on the **Exposure** variable. These predicted values represent the expected **PEFR** for each data point according to the model.\n",
        "\n",
        "2. **Calculate the Residuals:**  \n",
        "   The residuals represent the difference between the observed **PEFR** values and the predicted values. Compute these residuals by subtracting the predicted values from the actual **PEFR** values.\n",
        "\n",
        "3. **Display the Results:**  "
      ],
      "metadata": {
        "id": "vjqkmBLRNPZs"
      }
    },
    {
      "cell_type": "code",
      "source": [
        "# Generate the predicted values (fitted values) based on the regression model\n",
        "fitted <- predict(model)\n",
        "\n",
        "# Calculate the residuals, i.e., the differences between the actual and predicted values\n",
        "resid <- residuals(model)\n",
        "\n",
        "# Display the first few predicted values\n",
        "print(head(fitted))\n",
        "\n",
        "# Display the first few residuals (errors)\n",
        "print(head(resid))\n"
      ],
      "metadata": {
        "id": "0rKfWvpkLxFA",
        "outputId": "4b6addac-0f99-4413-c641-ae5ffda62873",
        "colab": {
          "base_uri": "https://localhost:8080/"
        }
      },
      "execution_count": 3,
      "outputs": [
        {
          "output_type": "stream",
          "name": "stdout",
          "text": [
            "       1        2        3        4        5        6 \n",
            "424.5828 424.5828 424.5828 424.5828 420.3982 416.2137 \n",
            "           1            2            3            4            5            6 \n",
            " -34.5828066  -14.5828066    5.4171934   35.4171934   -0.3982301 -136.2136536 \n"
          ]
        }
      ]
    },
    {
      "cell_type": "markdown",
      "source": [
        "### Multiple Regression"
      ],
      "metadata": {
        "id": "zwp6m7eZOWbd"
      }
    },
    {
      "cell_type": "markdown",
      "source": [
        "##### Multiple Regression  \n",
        "\n",
        "1. **Root Mean Squared Error (RMSE)**  \n",
        "   Measures the model’s prediction error:  \n",
        "   $$ RMSE = \\sqrt{\\frac{1}{n} \\sum (y_i - \\hat{y}_i)^2} $$  \n",
        "   - $n$ – number of observations (data points).  \n",
        "   - Lower RMSE → better model accuracy.  \n",
        "   - RMSE in the same unit as $y$.  \n",
        "\n",
        "2. **Residual Standard Error (RSE)**  \n",
        "   Estimates the standard deviation of residuals:  \n",
        "   $$ RSE = \\sqrt{\\frac{\\sum (y_i - \\hat{y}_i)^2}{n - p - 1}} $$  \n",
        "   - $p$ – number of independent variables (predictors).  \n",
        "   - Lower RSE → model fits data well.  \n",
        "   - Used for confidence interval estimation.  \n",
        "\n",
        "3. **R-Squared ($R^2$)**  \n",
        "   Explains the proportion of variance in $y$ explained by predictors:  \n",
        "   $$ R^2 = 1 - \\frac{SS_{res}}{SS_{tot}} $$  \n",
        "   - $SS_{res}$ – sum of squared residuals (errors).  \n",
        "   - $SS_{tot}$ – total sum of squares (variance in $y$).  \n",
        "   - Closer to 1 → better model fit.  \n",
        "   - $R^2 = 0.8$ → 80% of variance explained.  \n",
        "\n",
        "4. **t-Statistic**  \n",
        "   Assesses the significance of each regression coefficient:  \n",
        "   $$ t = \\frac{\\beta_j}{SE_{\\beta_j}} $$  \n",
        "   - $\\beta_j$ – estimated coefficient for predictor $j$.  \n",
        "   - $SE_{\\beta_j}$ – standard error of $\\beta_j$.  \n",
        "   - Higher absolute $t$-value → stronger evidence against $H_0$ (no effect).  \n",
        "   - Used in hypothesis testing.  \n",
        "\n",
        "5. **Weighted Regression**  \n",
        "   Accounts for heteroscedasticity by assigning weights $w_i$:  \n",
        "   $$ \\min \\sum w_i (y_i - \\hat{y}_i)^2 $$  \n",
        "   - Gives more influence to reliable observations.  \n",
        "   - Useful when residual variance is not constant.  \n",
        "\n"
      ],
      "metadata": {
        "id": "hqbyslltNy2M"
      }
    },
    {
      "cell_type": "markdown",
      "source": [
        "#### Exercise 4.3\n",
        "##### Write a program that loads the `house_sales.csv` dataset from the provided GitHub URL and performs a linear regression to predict `AdjSalePrice` based on several independent variables. Then, display the results of the regression model.\n",
        "\n",
        "1. **Load the `house_sales` dataset** from the provided GitHub URL into a variable called `data_house`, ensuring the separator is set to tab (`\\t`).\n",
        "2. **Fit a linear regression model** with `AdjSalePrice` as the dependent variable and `SqFtTotLiving`, `SqFtLot`, `Bathrooms`, `Bedrooms`, and `BldgGrade` as independent variables.\n",
        "3. **Display the first few rows** of the dataset, showing only the selected columns: `AdjSalePrice`, `SqFtTotLiving`, `SqFtLot`, `Bathrooms`, `Bedrooms`, and `BldgGrade`.\n",
        "4. **Print the results of the regression model**, showing the coefficients for the intercept and each of the independent variables.\n"
      ],
      "metadata": {
        "id": "EY2D0xBZWX1t"
      }
    },
    {
      "cell_type": "code",
      "source": [
        "# Define the URL of the CSV file on GitHub\n",
        "url <- \"https://raw.githubusercontent.com/davidofitaly/notes_02_50_key_stats_ds/main/04_chapter/files/house_sales.csv\"\n",
        "\n",
        "# Load the data from the CSV file into the variable 'data_house'\n",
        "# Specify the separator as tab ('\\t') to correctly read the file\n",
        "data_house <- read.csv(url, sep=\"\\t\")\n",
        "\n",
        "# Display the first few rows of selected columns from the dataset\n",
        "head(data_house[, c(\"AdjSalePrice\", \"SqFtTotLiving\", \"SqFtLot\",\n",
        "                          \"Bathrooms\", \"Bedrooms\", \"BldgGrade\")])\n"
      ],
      "metadata": {
        "id": "Sm_hpxxJRZdY",
        "outputId": "4f4bcd13-62d0-4bc0-ef9c-47969dec0cf6",
        "colab": {
          "base_uri": "https://localhost:8080/",
          "height": 286
        }
      },
      "execution_count": 29,
      "outputs": [
        {
          "output_type": "display_data",
          "data": {
            "text/html": [
              "<table class=\"dataframe\">\n",
              "<caption>A data.frame: 6 × 6</caption>\n",
              "<thead>\n",
              "\t<tr><th></th><th scope=col>AdjSalePrice</th><th scope=col>SqFtTotLiving</th><th scope=col>SqFtLot</th><th scope=col>Bathrooms</th><th scope=col>Bedrooms</th><th scope=col>BldgGrade</th></tr>\n",
              "\t<tr><th></th><th scope=col>&lt;dbl&gt;</th><th scope=col>&lt;int&gt;</th><th scope=col>&lt;int&gt;</th><th scope=col>&lt;dbl&gt;</th><th scope=col>&lt;int&gt;</th><th scope=col>&lt;int&gt;</th></tr>\n",
              "</thead>\n",
              "<tbody>\n",
              "\t<tr><th scope=row>1</th><td> 300805</td><td>2400</td><td> 9373</td><td>3.00</td><td>6</td><td> 7</td></tr>\n",
              "\t<tr><th scope=row>2</th><td>1076162</td><td>3764</td><td>20156</td><td>3.75</td><td>4</td><td>10</td></tr>\n",
              "\t<tr><th scope=row>3</th><td> 761805</td><td>2060</td><td>26036</td><td>1.75</td><td>4</td><td> 8</td></tr>\n",
              "\t<tr><th scope=row>4</th><td> 442065</td><td>3200</td><td> 8618</td><td>3.75</td><td>5</td><td> 7</td></tr>\n",
              "\t<tr><th scope=row>5</th><td> 297065</td><td>1720</td><td> 8620</td><td>1.75</td><td>4</td><td> 7</td></tr>\n",
              "\t<tr><th scope=row>6</th><td> 411781</td><td> 930</td><td> 1012</td><td>1.50</td><td>2</td><td> 8</td></tr>\n",
              "</tbody>\n",
              "</table>\n"
            ],
            "text/markdown": "\nA data.frame: 6 × 6\n\n| <!--/--> | AdjSalePrice &lt;dbl&gt; | SqFtTotLiving &lt;int&gt; | SqFtLot &lt;int&gt; | Bathrooms &lt;dbl&gt; | Bedrooms &lt;int&gt; | BldgGrade &lt;int&gt; |\n|---|---|---|---|---|---|---|\n| 1 |  300805 | 2400 |  9373 | 3.00 | 6 |  7 |\n| 2 | 1076162 | 3764 | 20156 | 3.75 | 4 | 10 |\n| 3 |  761805 | 2060 | 26036 | 1.75 | 4 |  8 |\n| 4 |  442065 | 3200 |  8618 | 3.75 | 5 |  7 |\n| 5 |  297065 | 1720 |  8620 | 1.75 | 4 |  7 |\n| 6 |  411781 |  930 |  1012 | 1.50 | 2 |  8 |\n\n",
            "text/latex": "A data.frame: 6 × 6\n\\begin{tabular}{r|llllll}\n  & AdjSalePrice & SqFtTotLiving & SqFtLot & Bathrooms & Bedrooms & BldgGrade\\\\\n  & <dbl> & <int> & <int> & <dbl> & <int> & <int>\\\\\n\\hline\n\t1 &  300805 & 2400 &  9373 & 3.00 & 6 &  7\\\\\n\t2 & 1076162 & 3764 & 20156 & 3.75 & 4 & 10\\\\\n\t3 &  761805 & 2060 & 26036 & 1.75 & 4 &  8\\\\\n\t4 &  442065 & 3200 &  8618 & 3.75 & 5 &  7\\\\\n\t5 &  297065 & 1720 &  8620 & 1.75 & 4 &  7\\\\\n\t6 &  411781 &  930 &  1012 & 1.50 & 2 &  8\\\\\n\\end{tabular}\n",
            "text/plain": [
              "  AdjSalePrice SqFtTotLiving SqFtLot Bathrooms Bedrooms BldgGrade\n",
              "1  300805      2400           9373   3.00      6         7       \n",
              "2 1076162      3764          20156   3.75      4        10       \n",
              "3  761805      2060          26036   1.75      4         8       \n",
              "4  442065      3200           8618   3.75      5         7       \n",
              "5  297065      1720           8620   1.75      4         7       \n",
              "6  411781       930           1012   1.50      2         8       "
            ]
          },
          "metadata": {}
        }
      ]
    },
    {
      "cell_type": "code",
      "source": [
        "# Fit a linear regression model to predict AdjSalePrice using several independent variables\n",
        "house_lm <- lm(AdjSalePrice ~ SqFtTotLiving + SqFtLot + Bathrooms + Bedrooms + BldgGrade, data=data_house, na.action = na.omit)\n",
        "\n",
        "# Print the model summary\n",
        "house_lm"
      ],
      "metadata": {
        "id": "7Fru3Jd3TTeT",
        "outputId": "f68d8b71-4b81-40cb-b060-098c6e1d562e",
        "colab": {
          "base_uri": "https://localhost:8080/",
          "height": 191
        }
      },
      "execution_count": 31,
      "outputs": [
        {
          "output_type": "display_data",
          "data": {
            "text/plain": [
              "\n",
              "Call:\n",
              "lm(formula = AdjSalePrice ~ SqFtTotLiving + SqFtLot + Bathrooms + \n",
              "    Bedrooms + BldgGrade, data = data_house, na.action = na.omit)\n",
              "\n",
              "Coefficients:\n",
              "  (Intercept)  SqFtTotLiving        SqFtLot      Bathrooms       Bedrooms  \n",
              "   -5.219e+05      2.288e+02     -6.051e-02     -1.944e+04     -4.778e+04  \n",
              "    BldgGrade  \n",
              "    1.061e+05  \n"
            ]
          },
          "metadata": {}
        }
      ]
    },
    {
      "cell_type": "markdown",
      "source": [
        "#### Exercise 4.4\n",
        "##### Based on the `house_lm` model, perform the following tasks:\n",
        "\n",
        "1. **View the summary of the model** by running the `summary(house_lm)` function. This will provide detailed information about the regression results, including coefficients, R-squared value, p-values, and significance of the predictors.\n",
        "2. **Interpret the coefficients** in the context of the model. Understand how each predictor (such as `SqFtTotLiving`, `Bathrooms`, `Bedrooms`, etc.) influences the predicted `AdjSalePrice`.\n",
        "3. **Examine the R-squared value** to assess the goodness of fit of the model. Determine how well the independent variables explain the variance in the dependent variable (`AdjSalePrice`).\n",
        "\n"
      ],
      "metadata": {
        "id": "XWB8xbkWW1Df"
      }
    },
    {
      "cell_type": "code",
      "source": [
        "# Set the option to prevent scientific notation in the output\n",
        "options(scipen = 999)\n",
        "\n",
        "# Display the summary of the linear regression model 'house_lm'\n",
        "summary(house_lm)\n"
      ],
      "metadata": {
        "id": "5dEIEUIzWogs",
        "outputId": "3912cae7-0ac0-4d99-8438-3612028f5d8b",
        "colab": {
          "base_uri": "https://localhost:8080/",
          "height": 416
        }
      },
      "execution_count": 34,
      "outputs": [
        {
          "output_type": "display_data",
          "data": {
            "text/plain": [
              "\n",
              "Call:\n",
              "lm(formula = AdjSalePrice ~ SqFtTotLiving + SqFtLot + Bathrooms + \n",
              "    Bedrooms + BldgGrade, data = data_house, na.action = na.omit)\n",
              "\n",
              "Residuals:\n",
              "     Min       1Q   Median       3Q      Max \n",
              "-1199508  -118879   -20982    87414  9472982 \n",
              "\n",
              "Coefficients:\n",
              "                   Estimate    Std. Error t value             Pr(>|t|)    \n",
              "(Intercept)   -521924.72204   15650.57362 -33.349 < 0.0000000000000002 ***\n",
              "SqFtTotLiving     228.83211       3.89837  58.699 < 0.0000000000000002 ***\n",
              "SqFtLot            -0.06051       0.06118  -0.989                0.323    \n",
              "Bathrooms      -19438.09896    3625.21876  -5.362         0.0000000832 ***\n",
              "Bedrooms       -47781.15338    2489.44263 -19.194 < 0.0000000000000002 ***\n",
              "BldgGrade      106117.20956    2396.13627  44.287 < 0.0000000000000002 ***\n",
              "---\n",
              "Signif. codes:  0 ‘***’ 0.001 ‘**’ 0.01 ‘*’ 0.05 ‘.’ 0.1 ‘ ’ 1\n",
              "\n",
              "Residual standard error: 261200 on 22683 degrees of freedom\n",
              "Multiple R-squared:  0.5407,\tAdjusted R-squared:  0.5406 \n",
              "F-statistic:  5340 on 5 and 22683 DF,  p-value: < 0.00000000000000022\n"
            ]
          },
          "metadata": {}
        }
      ]
    },
    {
      "cell_type": "markdown",
      "source": [
        "#### Exercise 4.5\n",
        "\n",
        "#####Based on the linear regression model `house_lm`, apply stepwise regression using AIC to select the best model. Use the `stepAIC()` function and set the `direction` argument to `\"both\"` to allow both forward and backward selection.\n"
      ],
      "metadata": {
        "id": "_MU8wIOiZSx5"
      }
    },
    {
      "cell_type": "code",
      "source": [
        "# Perform stepwise regression using AIC to select the best model\n",
        "step_lm <- stepAIC(house_lm, direction = \"both\")\n",
        "\n",
        "# Display the results of the stepwise regression\n",
        "step_lm\n"
      ],
      "metadata": {
        "id": "w_oPFZFbYnBZ",
        "outputId": "e9bee3e8-6520-48b6-c428-9aa70f144a46",
        "colab": {
          "base_uri": "https://localhost:8080/",
          "height": 538
        }
      },
      "execution_count": 37,
      "outputs": [
        {
          "output_type": "stream",
          "name": "stdout",
          "text": [
            "Start:  AIC=566015.4\n",
            "AdjSalePrice ~ SqFtTotLiving + SqFtLot + Bathrooms + Bedrooms + \n",
            "    BldgGrade\n",
            "\n",
            "                Df       Sum of Sq              RSS    AIC\n",
            "- SqFtLot        1     66750141148 1548148631912860 566014\n",
            "<none>                             1548081881771712 566015\n",
            "- Bathrooms      1   1962151674312 1550044033446024 566042\n",
            "- Bedrooms       1  25142151935270 1573224033706983 566379\n",
            "- BldgGrade      1 133857297270080 1681939179041792 567895\n",
            "- SqFtTotLiving  1 235159007954810 1783240889726523 569222\n",
            "\n",
            "Step:  AIC=566014.3\n",
            "AdjSalePrice ~ SqFtTotLiving + Bathrooms + Bedrooms + BldgGrade\n",
            "\n",
            "                Df       Sum of Sq              RSS    AIC\n",
            "<none>                             1548148631912861 566014\n",
            "+ SqFtLot        1     66750141148 1548081881771712 566015\n",
            "- Bathrooms      1   1928307868978 1550076939781839 566041\n",
            "- Bedrooms       1  25075461022645 1573224092935506 566377\n",
            "- BldgGrade      1 133921425601500 1682070057514361 567895\n",
            "- SqFtTotLiving  1 239771505547382 1787920137460243 569279\n"
          ]
        },
        {
          "output_type": "display_data",
          "data": {
            "text/plain": [
              "\n",
              "Call:\n",
              "lm(formula = AdjSalePrice ~ SqFtTotLiving + Bathrooms + Bedrooms + \n",
              "    BldgGrade, data = data_house, na.action = na.omit)\n",
              "\n",
              "Coefficients:\n",
              "  (Intercept)  SqFtTotLiving      Bathrooms       Bedrooms      BldgGrade  \n",
              "    -522415.7          228.2       -19240.4       -47650.5       106138.4  \n"
            ]
          },
          "metadata": {}
        }
      ]
    }
  ]
}