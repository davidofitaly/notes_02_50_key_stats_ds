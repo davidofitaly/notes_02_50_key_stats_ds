{
  "nbformat": 4,
  "nbformat_minor": 0,
  "metadata": {
    "colab": {
      "provenance": [],
      "authorship_tag": "ABX9TyNsXr8EfsGy3P2kOIQkedtu",
      "include_colab_link": true
    },
    "kernelspec": {
      "name": "ir",
      "display_name": "R"
    },
    "language_info": {
      "name": "R"
    }
  },
  "cells": [
    {
      "cell_type": "markdown",
      "metadata": {
        "id": "view-in-github",
        "colab_type": "text"
      },
      "source": [
        "<a href=\"https://colab.research.google.com/github/davidofitaly/notes_02_50_key_stats_ds/blob/main/04_chapter/01_raw_data.ipynb\" target=\"_parent\"><img src=\"https://colab.research.google.com/assets/colab-badge.svg\" alt=\"Open In Colab\"/></a>"
      ]
    },
    {
      "cell_type": "code",
      "source": [
        "library(MASS)\n",
        "library(ggplot2)\n",
        "library(dplyr)"
      ],
      "metadata": {
        "id": "p6vcC6vQYeEi",
        "outputId": "017bb08d-4139-46bf-ff2c-16f3f7936695",
        "colab": {
          "base_uri": "https://localhost:8080/"
        }
      },
      "execution_count": 39,
      "outputs": [
        {
          "output_type": "stream",
          "name": "stderr",
          "text": [
            "\n",
            "Attaching package: ‘dplyr’\n",
            "\n",
            "\n",
            "The following object is masked from ‘package:MASS’:\n",
            "\n",
            "    select\n",
            "\n",
            "\n",
            "The following objects are masked from ‘package:stats’:\n",
            "\n",
            "    filter, lag\n",
            "\n",
            "\n",
            "The following objects are masked from ‘package:base’:\n",
            "\n",
            "    intersect, setdiff, setequal, union\n",
            "\n",
            "\n"
          ]
        }
      ]
    },
    {
      "cell_type": "markdown",
      "source": [
        "### Simple Linear Regression"
      ],
      "metadata": {
        "id": "O2dXMHR5Dsmb"
      }
    },
    {
      "cell_type": "markdown",
      "source": [
        "1. **Dependent Variable**:  \n",
        "   The outcome being predicted. Synonyms: response, $y$, target, result.\n",
        "\n",
        "2. **Independent Variable**:  \n",
        "   The predictor or feature used to explain the dependent variable. Synonyms: $x$, attribute, characteristic, predictor.\n",
        "\n",
        "3. **Intercept (Constant Term)**:  \n",
        "   The expected value of the dependent variable when the independent variable is zero. Denoted as $b_0$ or $\\beta_0$.\n",
        "\n",
        "4. **Regression Coefficient**:  \n",
        "   Represents the change in the dependent variable for a one-unit increase in the independent variable. Denoted as $b_1$ or $\\beta_1$.\n",
        "\n",
        "5. **Fitted (Predicted) Values**:  \n",
        "   The estimated values of the dependent variable. Denoted as $\\hat{y}$. Synonyms: forecasted values, approximated values.\n",
        "\n",
        "6. **Residuals (Error)**:  \n",
        "   The difference between observed and fitted values:  \n",
        "   $$ \\text{Residual} = y - \\hat{y} $$\n",
        "\n",
        "7. **Least Squares Method**:  \n",
        "   A technique to minimize the sum of squared residuals and find the best-fitting line:  \n",
        "   $$ \\text{Minimize } \\sum (y_i - (\\beta_0 + \\beta_1 x_i))^2 $$  \n",
        "   where $\\beta_0$ is the intercept, and $\\beta_1$ is the regression coefficient.\n"
      ],
      "metadata": {
        "id": "TiFCAEjdDqSk"
      }
    },
    {
      "cell_type": "markdown",
      "source": [
        "####Excercise 4.1\n",
        "#####Write a program that loads the `LungDisease.csv` dataset from the provided URL and performs a linear regression to predict PEFR based on Exposure. Then, display the results of the regression model.\n",
        "\n",
        "1. **Load the LungDisease dataset** from the provided GitHub URL into a variable called `data_lung`.\n",
        "2. **Fit a linear regression model** with PEFR as the dependent variable and Exposure as the independent variable.\n",
        "3. **Display the first few rows** of the dataset using the `head()` function.\n",
        "4. **Print the results of the regression model**, showing the coefficients for the intercept and Exposure."
      ],
      "metadata": {
        "id": "JjvhJ_QPILIX"
      }
    },
    {
      "cell_type": "code",
      "execution_count": 5,
      "metadata": {
        "colab": {
          "base_uri": "https://localhost:8080/",
          "height": 286
        },
        "id": "VUa-4-llDn4H",
        "outputId": "fee054f9-b4e9-422a-b95a-2be85a21a0b9"
      },
      "outputs": [
        {
          "output_type": "display_data",
          "data": {
            "text/html": [
              "<table class=\"dataframe\">\n",
              "<caption>A data.frame: 6 × 2</caption>\n",
              "<thead>\n",
              "\t<tr><th></th><th scope=col>PEFR</th><th scope=col>Exposure</th></tr>\n",
              "\t<tr><th></th><th scope=col>&lt;int&gt;</th><th scope=col>&lt;int&gt;</th></tr>\n",
              "</thead>\n",
              "<tbody>\n",
              "\t<tr><th scope=row>1</th><td>390</td><td>0</td></tr>\n",
              "\t<tr><th scope=row>2</th><td>410</td><td>0</td></tr>\n",
              "\t<tr><th scope=row>3</th><td>430</td><td>0</td></tr>\n",
              "\t<tr><th scope=row>4</th><td>460</td><td>0</td></tr>\n",
              "\t<tr><th scope=row>5</th><td>420</td><td>1</td></tr>\n",
              "\t<tr><th scope=row>6</th><td>280</td><td>2</td></tr>\n",
              "</tbody>\n",
              "</table>\n"
            ],
            "text/markdown": "\nA data.frame: 6 × 2\n\n| <!--/--> | PEFR &lt;int&gt; | Exposure &lt;int&gt; |\n|---|---|---|\n| 1 | 390 | 0 |\n| 2 | 410 | 0 |\n| 3 | 430 | 0 |\n| 4 | 460 | 0 |\n| 5 | 420 | 1 |\n| 6 | 280 | 2 |\n\n",
            "text/latex": "A data.frame: 6 × 2\n\\begin{tabular}{r|ll}\n  & PEFR & Exposure\\\\\n  & <int> & <int>\\\\\n\\hline\n\t1 & 390 & 0\\\\\n\t2 & 410 & 0\\\\\n\t3 & 430 & 0\\\\\n\t4 & 460 & 0\\\\\n\t5 & 420 & 1\\\\\n\t6 & 280 & 2\\\\\n\\end{tabular}\n",
            "text/plain": [
              "  PEFR Exposure\n",
              "1 390  0       \n",
              "2 410  0       \n",
              "3 430  0       \n",
              "4 460  0       \n",
              "5 420  1       \n",
              "6 280  2       "
            ]
          },
          "metadata": {}
        }
      ],
      "source": [
        "# Define the URL of the CSV file on GitHub\n",
        "url <- \"https://raw.githubusercontent.com/davidofitaly/notes_02_50_key_stats_ds/main/04_chapter/files/LungDisease.csv\"\n",
        "\n",
        "# Load the data from the CSV file into the variable 'data_lung'\n",
        "data_lung <- read.csv(url)\n",
        "\n",
        "# Display the first few rows of the loaded dataset\n",
        "head(data_lung)"
      ]
    },
    {
      "cell_type": "code",
      "source": [
        "# Fit linear regression model with PEFR as dependent and Exposure as independent variable\n",
        "# lm() fits a linear model. PEFR is predicted by Exposure in data_lung.\n",
        "model <- lm(PEFR ~ Exposure, data=data_lung)\n",
        "\n",
        "# Print the results\n",
        "print(model)"
      ],
      "metadata": {
        "id": "q7cTnGO_KB3P",
        "outputId": "6c69f1c8-e01b-4216-9dc3-2f7f111f847f",
        "colab": {
          "base_uri": "https://localhost:8080/"
        }
      },
      "execution_count": 6,
      "outputs": [
        {
          "output_type": "stream",
          "name": "stdout",
          "text": [
            "\n",
            "Call:\n",
            "lm(formula = PEFR ~ Exposure, data = data_lung)\n",
            "\n",
            "Coefficients:\n",
            "(Intercept)     Exposure  \n",
            "    424.583       -4.185  \n",
            "\n"
          ]
        }
      ]
    },
    {
      "cell_type": "markdown",
      "source": [
        "####Exercise 4.2\n",
        "\n",
        "#####Based on the linear regression model you have created (`model`), follow these steps:\n",
        "\n",
        "1. **Generate the Predicted Values:**  \n",
        "   Use the model to calculate the predicted **PEFR** values based on the **Exposure** variable. These predicted values represent the expected **PEFR** for each data point according to the model.\n",
        "\n",
        "2. **Calculate the Residuals:**  \n",
        "   The residuals represent the difference between the observed **PEFR** values and the predicted values. Compute these residuals by subtracting the predicted values from the actual **PEFR** values.\n",
        "\n",
        "3. **Display the Results:**  "
      ],
      "metadata": {
        "id": "vjqkmBLRNPZs"
      }
    },
    {
      "cell_type": "code",
      "source": [
        "# Generate the predicted values (fitted values) based on the regression model\n",
        "fitted <- predict(model)\n",
        "\n",
        "# Calculate the residuals, i.e., the differences between the actual and predicted values\n",
        "resid <- residuals(model)\n",
        "\n",
        "# Display the first few predicted values\n",
        "print(head(fitted))\n",
        "\n",
        "# Display the first few residuals (errors)\n",
        "print(head(resid))\n"
      ],
      "metadata": {
        "id": "0rKfWvpkLxFA",
        "outputId": "f06238c5-a330-406a-9853-7f2f15584ae9",
        "colab": {
          "base_uri": "https://localhost:8080/"
        }
      },
      "execution_count": 7,
      "outputs": [
        {
          "output_type": "stream",
          "name": "stdout",
          "text": [
            "       1        2        3        4        5        6 \n",
            "424.5828 424.5828 424.5828 424.5828 420.3982 416.2137 \n",
            "           1            2            3            4            5            6 \n",
            " -34.5828066  -14.5828066    5.4171934   35.4171934   -0.3982301 -136.2136536 \n"
          ]
        }
      ]
    },
    {
      "cell_type": "markdown",
      "source": [
        "### Multiple Regression"
      ],
      "metadata": {
        "id": "zwp6m7eZOWbd"
      }
    },
    {
      "cell_type": "markdown",
      "source": [
        "##### Multiple Regression  \n",
        "\n",
        "1. **Root Mean Squared Error (RMSE)**  \n",
        "   Measures the model’s prediction error:  \n",
        "   $$ RMSE = \\sqrt{\\frac{1}{n} \\sum (y_i - \\hat{y}_i)^2} $$  \n",
        "   - $n$ – number of observations (data points).  \n",
        "   - Lower RMSE → better model accuracy.  \n",
        "   - RMSE in the same unit as $y$.  \n",
        "\n",
        "2. **Residual Standard Error (RSE)**  \n",
        "   Estimates the standard deviation of residuals:  \n",
        "   $$ RSE = \\sqrt{\\frac{\\sum (y_i - \\hat{y}_i)^2}{n - p - 1}} $$  \n",
        "   - $p$ – number of independent variables (predictors).  \n",
        "   - Lower RSE → model fits data well.  \n",
        "   - Used for confidence interval estimation.  \n",
        "\n",
        "3. **R-Squared ($R^2$)**  \n",
        "   Explains the proportion of variance in $y$ explained by predictors:  \n",
        "   $$ R^2 = 1 - \\frac{SS_{res}}{SS_{tot}} $$  \n",
        "   - $SS_{res}$ – sum of squared residuals (errors).  \n",
        "   - $SS_{tot}$ – total sum of squares (variance in $y$).  \n",
        "   - Closer to 1 → better model fit.  \n",
        "   - $R^2 = 0.8$ → 80% of variance explained.  \n",
        "\n",
        "4. **t-Statistic**  \n",
        "   Assesses the significance of each regression coefficient:  \n",
        "   $$ t = \\frac{\\beta_j}{SE_{\\beta_j}} $$  \n",
        "   - $\\beta_j$ – estimated coefficient for predictor $j$.  \n",
        "   - $SE_{\\beta_j}$ – standard error of $\\beta_j$.  \n",
        "   - Higher absolute $t$-value → stronger evidence against $H_0$ (no effect).  \n",
        "   - Used in hypothesis testing.  \n",
        "\n",
        "5. **Weighted Regression**  \n",
        "   Accounts for heteroscedasticity by assigning weights $w_i$:  \n",
        "   $$ \\min \\sum w_i (y_i - \\hat{y}_i)^2 $$  \n",
        "   - Gives more influence to reliable observations.  \n",
        "   - Useful when residual variance is not constant.  \n",
        "\n"
      ],
      "metadata": {
        "id": "hqbyslltNy2M"
      }
    },
    {
      "cell_type": "markdown",
      "source": [
        "#### Exercise 4.3\n",
        "##### Write a program that loads the `house_sales.csv` dataset from the provided GitHub URL and performs a linear regression to predict `AdjSalePrice` based on several independent variables. Then, display the results of the regression model.\n",
        "\n",
        "1. **Load the `house_sales` dataset** from the provided GitHub URL into a variable called `data_house`, ensuring the separator is set to tab (`\\t`).\n",
        "2. **Fit a linear regression model** with `AdjSalePrice` as the dependent variable and `SqFtTotLiving`, `SqFtLot`, `Bathrooms`, `Bedrooms`, and `BldgGrade` as independent variables.\n",
        "3. **Display the first few rows** of the dataset, showing only the selected columns: `AdjSalePrice`, `SqFtTotLiving`, `SqFtLot`, `Bathrooms`, `Bedrooms`, and `BldgGrade`.\n",
        "4. **Print the results of the regression model**, showing the coefficients for the intercept and each of the independent variables.\n"
      ],
      "metadata": {
        "id": "EY2D0xBZWX1t"
      }
    },
    {
      "cell_type": "code",
      "source": [
        "# Define the URL of the CSV file on GitHub\n",
        "url <- \"https://raw.githubusercontent.com/davidofitaly/notes_02_50_key_stats_ds/main/04_chapter/files/house_sales.csv\"\n",
        "\n",
        "# Load the data from the CSV file into the variable 'data_house'\n",
        "# Specify the separator as tab ('\\t') to correctly read the file\n",
        "data_house <- read.csv(url, sep=\"\\t\")\n",
        "\n",
        "# Display the first few rows of selected columns from the dataset\n",
        "head(data_house[, c(\"AdjSalePrice\", \"SqFtTotLiving\", \"SqFtLot\",\n",
        "                          \"Bathrooms\", \"Bedrooms\", \"BldgGrade\")])\n",
        "\n",
        "\n",
        "print(head(data_house))"
      ],
      "metadata": {
        "id": "Sm_hpxxJRZdY",
        "outputId": "51b6e4bb-5de9-4489-8523-93f061e19042",
        "colab": {
          "base_uri": "https://localhost:8080/",
          "height": 772
        }
      },
      "execution_count": 37,
      "outputs": [
        {
          "output_type": "display_data",
          "data": {
            "text/html": [
              "<table class=\"dataframe\">\n",
              "<caption>A data.frame: 6 × 6</caption>\n",
              "<thead>\n",
              "\t<tr><th></th><th scope=col>AdjSalePrice</th><th scope=col>SqFtTotLiving</th><th scope=col>SqFtLot</th><th scope=col>Bathrooms</th><th scope=col>Bedrooms</th><th scope=col>BldgGrade</th></tr>\n",
              "\t<tr><th></th><th scope=col>&lt;dbl&gt;</th><th scope=col>&lt;int&gt;</th><th scope=col>&lt;int&gt;</th><th scope=col>&lt;dbl&gt;</th><th scope=col>&lt;int&gt;</th><th scope=col>&lt;int&gt;</th></tr>\n",
              "</thead>\n",
              "<tbody>\n",
              "\t<tr><th scope=row>1</th><td> 300805</td><td>2400</td><td> 9373</td><td>3.00</td><td>6</td><td> 7</td></tr>\n",
              "\t<tr><th scope=row>2</th><td>1076162</td><td>3764</td><td>20156</td><td>3.75</td><td>4</td><td>10</td></tr>\n",
              "\t<tr><th scope=row>3</th><td> 761805</td><td>2060</td><td>26036</td><td>1.75</td><td>4</td><td> 8</td></tr>\n",
              "\t<tr><th scope=row>4</th><td> 442065</td><td>3200</td><td> 8618</td><td>3.75</td><td>5</td><td> 7</td></tr>\n",
              "\t<tr><th scope=row>5</th><td> 297065</td><td>1720</td><td> 8620</td><td>1.75</td><td>4</td><td> 7</td></tr>\n",
              "\t<tr><th scope=row>6</th><td> 411781</td><td> 930</td><td> 1012</td><td>1.50</td><td>2</td><td> 8</td></tr>\n",
              "</tbody>\n",
              "</table>\n"
            ],
            "text/markdown": "\nA data.frame: 6 × 6\n\n| <!--/--> | AdjSalePrice &lt;dbl&gt; | SqFtTotLiving &lt;int&gt; | SqFtLot &lt;int&gt; | Bathrooms &lt;dbl&gt; | Bedrooms &lt;int&gt; | BldgGrade &lt;int&gt; |\n|---|---|---|---|---|---|---|\n| 1 |  300805 | 2400 |  9373 | 3.00 | 6 |  7 |\n| 2 | 1076162 | 3764 | 20156 | 3.75 | 4 | 10 |\n| 3 |  761805 | 2060 | 26036 | 1.75 | 4 |  8 |\n| 4 |  442065 | 3200 |  8618 | 3.75 | 5 |  7 |\n| 5 |  297065 | 1720 |  8620 | 1.75 | 4 |  7 |\n| 6 |  411781 |  930 |  1012 | 1.50 | 2 |  8 |\n\n",
            "text/latex": "A data.frame: 6 × 6\n\\begin{tabular}{r|llllll}\n  & AdjSalePrice & SqFtTotLiving & SqFtLot & Bathrooms & Bedrooms & BldgGrade\\\\\n  & <dbl> & <int> & <int> & <dbl> & <int> & <int>\\\\\n\\hline\n\t1 &  300805 & 2400 &  9373 & 3.00 & 6 &  7\\\\\n\t2 & 1076162 & 3764 & 20156 & 3.75 & 4 & 10\\\\\n\t3 &  761805 & 2060 & 26036 & 1.75 & 4 &  8\\\\\n\t4 &  442065 & 3200 &  8618 & 3.75 & 5 &  7\\\\\n\t5 &  297065 & 1720 &  8620 & 1.75 & 4 &  7\\\\\n\t6 &  411781 &  930 &  1012 & 1.50 & 2 &  8\\\\\n\\end{tabular}\n",
            "text/plain": [
              "  AdjSalePrice SqFtTotLiving SqFtLot Bathrooms Bedrooms BldgGrade\n",
              "1  300805      2400           9373   3.00      6         7       \n",
              "2 1076162      3764          20156   3.75      4        10       \n",
              "3  761805      2060          26036   1.75      4         8       \n",
              "4  442065      3200           8618   3.75      5         7       \n",
              "5  297065      1720           8620   1.75      4         7       \n",
              "6  411781       930           1012   1.50      2         8       "
            ]
          },
          "metadata": {}
        },
        {
          "output_type": "stream",
          "name": "stdout",
          "text": [
            "  DocumentDate SalePrice PropertyID  PropertyType         ym zhvi_px  zhvi_idx\n",
            "1   2014-09-16    280000    1000102     Multiplex 2014-09-01  405100 0.9308364\n",
            "2   2006-06-16   1000000    1200013 Single Family 2006-06-01  404400 0.9292279\n",
            "3   2007-01-29    745000    1200019 Single Family 2007-01-01  425600 0.9779412\n",
            "4   2008-02-25    425000    2800016 Single Family 2008-02-01  418400 0.9613971\n",
            "5   2013-03-29    240000    2800024 Single Family 2013-03-01  351600 0.8079044\n",
            "6   2009-03-30    349900    3600090     Townhouse 2009-03-01  369800 0.8497243\n",
            "  AdjSalePrice NbrLivingUnits SqFtLot SqFtTotLiving SqFtFinBasement Bathrooms\n",
            "1       300805              2    9373          2400               0      3.00\n",
            "2      1076162              1   20156          3764            1452      3.75\n",
            "3       761805              1   26036          2060             900      1.75\n",
            "4       442065              1    8618          3200            1640      3.75\n",
            "5       297065              1    8620          1720               0      1.75\n",
            "6       411781              1    1012           930               0      1.50\n",
            "  Bedrooms BldgGrade YrBuilt YrRenovated TrafficNoise LandVal ImpsVal ZipCode\n",
            "1        6         7    1991           0            0   70000  229000   98002\n",
            "2        4        10    2005           0            0  203000  590000   98166\n",
            "3        4         8    1947           0            0  183000  275000   98166\n",
            "4        5         7    1966           0            0  104000  229000   98168\n",
            "5        4         7    1948           0            0  104000  205000   98168\n",
            "6        2         8    2008           0            0  170000  207000   98144\n",
            "  NewConstruction\n",
            "1           FALSE\n",
            "2            TRUE\n",
            "3           FALSE\n",
            "4           FALSE\n",
            "5           FALSE\n",
            "6            TRUE\n"
          ]
        }
      ]
    },
    {
      "cell_type": "code",
      "source": [
        "# Fit a linear regression model to predict AdjSalePrice using several independent variables\n",
        "house_lm <- lm(AdjSalePrice ~ SqFtTotLiving + SqFtLot + Bathrooms + Bedrooms + BldgGrade, data=data_house, na.action = na.omit)\n",
        "\n",
        "# Print the model summary\n",
        "house_lm"
      ],
      "metadata": {
        "id": "7Fru3Jd3TTeT",
        "outputId": "059d1dc8-b53b-462e-bb7f-aecf160c4fd7",
        "colab": {
          "base_uri": "https://localhost:8080/",
          "height": 191
        }
      },
      "execution_count": 9,
      "outputs": [
        {
          "output_type": "display_data",
          "data": {
            "text/plain": [
              "\n",
              "Call:\n",
              "lm(formula = AdjSalePrice ~ SqFtTotLiving + SqFtLot + Bathrooms + \n",
              "    Bedrooms + BldgGrade, data = data_house, na.action = na.omit)\n",
              "\n",
              "Coefficients:\n",
              "  (Intercept)  SqFtTotLiving        SqFtLot      Bathrooms       Bedrooms  \n",
              "   -5.219e+05      2.288e+02     -6.051e-02     -1.944e+04     -4.778e+04  \n",
              "    BldgGrade  \n",
              "    1.061e+05  \n"
            ]
          },
          "metadata": {}
        }
      ]
    },
    {
      "cell_type": "markdown",
      "source": [
        "#### Exercise 4.4\n",
        "##### Based on the `house_lm` model, perform the following tasks:\n",
        "\n",
        "1. **View the summary of the model** by running the `summary(house_lm)` function. This will provide detailed information about the regression results, including coefficients, R-squared value, p-values, and significance of the predictors.\n",
        "2. **Interpret the coefficients** in the context of the model. Understand how each predictor (such as `SqFtTotLiving`, `Bathrooms`, `Bedrooms`, etc.) influences the predicted `AdjSalePrice`.\n",
        "3. **Examine the R-squared value** to assess the goodness of fit of the model. Determine how well the independent variables explain the variance in the dependent variable (`AdjSalePrice`).\n",
        "\n"
      ],
      "metadata": {
        "id": "XWB8xbkWW1Df"
      }
    },
    {
      "cell_type": "code",
      "source": [
        "# Set the option to prevent scientific notation in the output\n",
        "options(scipen = 999)\n",
        "\n",
        "# Display the summary of the linear regression model 'house_lm'\n",
        "summary(house_lm)\n"
      ],
      "metadata": {
        "id": "5dEIEUIzWogs",
        "outputId": "34144af4-3fdb-4896-c21f-f38da0d8a25e",
        "colab": {
          "base_uri": "https://localhost:8080/",
          "height": 416
        }
      },
      "execution_count": 10,
      "outputs": [
        {
          "output_type": "display_data",
          "data": {
            "text/plain": [
              "\n",
              "Call:\n",
              "lm(formula = AdjSalePrice ~ SqFtTotLiving + SqFtLot + Bathrooms + \n",
              "    Bedrooms + BldgGrade, data = data_house, na.action = na.omit)\n",
              "\n",
              "Residuals:\n",
              "     Min       1Q   Median       3Q      Max \n",
              "-1199508  -118879   -20982    87414  9472982 \n",
              "\n",
              "Coefficients:\n",
              "                   Estimate    Std. Error t value             Pr(>|t|)    \n",
              "(Intercept)   -521924.72204   15650.57362 -33.349 < 0.0000000000000002 ***\n",
              "SqFtTotLiving     228.83211       3.89837  58.699 < 0.0000000000000002 ***\n",
              "SqFtLot            -0.06051       0.06118  -0.989                0.323    \n",
              "Bathrooms      -19438.09896    3625.21876  -5.362         0.0000000832 ***\n",
              "Bedrooms       -47781.15338    2489.44263 -19.194 < 0.0000000000000002 ***\n",
              "BldgGrade      106117.20956    2396.13627  44.287 < 0.0000000000000002 ***\n",
              "---\n",
              "Signif. codes:  0 ‘***’ 0.001 ‘**’ 0.01 ‘*’ 0.05 ‘.’ 0.1 ‘ ’ 1\n",
              "\n",
              "Residual standard error: 261200 on 22683 degrees of freedom\n",
              "Multiple R-squared:  0.5407,\tAdjusted R-squared:  0.5406 \n",
              "F-statistic:  5340 on 5 and 22683 DF,  p-value: < 0.00000000000000022\n"
            ]
          },
          "metadata": {}
        }
      ]
    },
    {
      "cell_type": "markdown",
      "source": [
        "#### Exercise 4.5\n",
        "\n",
        "#####Based on the linear regression model `house_lm`, apply stepwise regression using AIC to select the best model. Use the `stepAIC()` function and set the `direction` argument to `\"both\"` to allow both forward and backward selection.\n"
      ],
      "metadata": {
        "id": "_MU8wIOiZSx5"
      }
    },
    {
      "cell_type": "code",
      "source": [
        "# Perform stepwise regression using AIC to select the best model\n",
        "step_lm <- stepAIC(house_lm, direction = \"both\")\n",
        "\n",
        "# Display the results of the stepwise regression\n",
        "step_lm\n"
      ],
      "metadata": {
        "id": "w_oPFZFbYnBZ",
        "outputId": "992c7ed8-632c-455f-d8c7-11956b0b8289",
        "colab": {
          "base_uri": "https://localhost:8080/",
          "height": 538
        }
      },
      "execution_count": 11,
      "outputs": [
        {
          "output_type": "stream",
          "name": "stdout",
          "text": [
            "Start:  AIC=566015.4\n",
            "AdjSalePrice ~ SqFtTotLiving + SqFtLot + Bathrooms + Bedrooms + \n",
            "    BldgGrade\n",
            "\n",
            "                Df       Sum of Sq              RSS    AIC\n",
            "- SqFtLot        1     66750141148 1548148631912860 566014\n",
            "<none>                             1548081881771712 566015\n",
            "- Bathrooms      1   1962151674312 1550044033446024 566042\n",
            "- Bedrooms       1  25142151935270 1573224033706983 566379\n",
            "- BldgGrade      1 133857297270080 1681939179041792 567895\n",
            "- SqFtTotLiving  1 235159007954810 1783240889726523 569222\n",
            "\n",
            "Step:  AIC=566014.3\n",
            "AdjSalePrice ~ SqFtTotLiving + Bathrooms + Bedrooms + BldgGrade\n",
            "\n",
            "                Df       Sum of Sq              RSS    AIC\n",
            "<none>                             1548148631912861 566014\n",
            "+ SqFtLot        1     66750141148 1548081881771712 566015\n",
            "- Bathrooms      1   1928307868978 1550076939781839 566041\n",
            "- Bedrooms       1  25075461022645 1573224092935506 566377\n",
            "- BldgGrade      1 133921425601500 1682070057514361 567895\n",
            "- SqFtTotLiving  1 239771505547382 1787920137460243 569279\n"
          ]
        },
        {
          "output_type": "display_data",
          "data": {
            "text/plain": [
              "\n",
              "Call:\n",
              "lm(formula = AdjSalePrice ~ SqFtTotLiving + Bathrooms + Bedrooms + \n",
              "    BldgGrade, data = data_house, na.action = na.omit)\n",
              "\n",
              "Coefficients:\n",
              "  (Intercept)  SqFtTotLiving      Bathrooms       Bedrooms      BldgGrade  \n",
              "    -522415.7          228.2       -19240.4       -47650.5       106138.4  \n"
            ]
          },
          "metadata": {}
        }
      ]
    },
    {
      "cell_type": "markdown",
      "source": [
        "###Prediction Using Regression  "
      ],
      "metadata": {
        "id": "yBGNSxecZCB5"
      }
    },
    {
      "cell_type": "markdown",
      "source": [
        "1. **Prediction Interval**  \n",
        "   A **prediction interval** provides a range within which a future observation is expected to fall with a given probability. It accounts for both model uncertainty and the natural variability of the data.  \n",
        "   $$ \\hat{y} \\pm t_{\\alpha/2, n-p-1} \\cdot SE_{\\text{pred}} $$  \n",
        "   where:  \n",
        "   - $\\hat{y}$ is the predicted value,  \n",
        "   - $t_{\\alpha/2, n-p-1}$ is the critical value from the t-distribution,  \n",
        "   - $SE_{\\text{pred}}$ is the standard error of prediction.  \n",
        "   Key point: Prediction intervals are wider than confidence intervals because they include future variability.  \n",
        "\n",
        "2. **Extrapolation**  \n",
        "   **Extrapolation** occurs when a model is used to predict values outside the range of the training data. This can lead to unreliable predictions because the relationship between variables may not hold beyond observed values.  \n",
        "   - **Safe range**: Predictions are more reliable when made within the range of the training data (interpolation).  \n",
        "   - **Risk**: Extrapolating far beyond observed values increases the likelihood of significant errors.  \n"
      ],
      "metadata": {
        "id": "BRzp6y2OY0gt"
      }
    },
    {
      "cell_type": "markdown",
      "source": [
        "#### Exercise 4.6\n",
        "\n",
        "#####Based on the linear regression model `house_lm`, perform the following tasks:\n",
        "\n",
        "1. **Make predictions**:  \n",
        "   - Use the `predict()` function to estimate `AdjSalePrice` for new observations with specified values of `SqFtTotLiving`, `SqFtLot`, `Bathrooms`, `Bedrooms`, and `BldgGrade`.  \n",
        "   - Store the predicted values in a variable called `predicted_prices`.\n",
        "\n",
        "2. **Calculate a prediction interval**:  \n",
        "   - Generate a **prediction interval** for the new observations, providing both lower and upper bounds for possible sale prices.  \n",
        "   - Store the results in a variable called `prediction_intervals`.\n",
        "\n",
        "3. **Interpret the results**:  \n",
        "   - Compare the predicted values with their prediction intervals.  \n",
        "   - Discuss the reliability of these predictions and the importance of prediction intervals in regression models.  "
      ],
      "metadata": {
        "id": "drLapc-jc9vq"
      }
    },
    {
      "cell_type": "code",
      "source": [
        "# Define new observations (example houses)\n",
        "new_houses <- data.frame(\n",
        "  SqFtTotLiving = c(2000, 2500),\n",
        "  SqFtLot = c(5000, 7000),\n",
        "  Bathrooms = c(2, 3),\n",
        "  Bedrooms = c(3, 4),\n",
        "  BldgGrade = c(7, 8)\n",
        ")\n",
        "\n",
        "# Make predictions for new houses\n",
        "predicted_prices <- predict(house_lm, newdata = new_houses)\n",
        "\n",
        "# Generate prediction intervals\n",
        "prediction_intervals <- predict(house_lm, newdata = new_houses, interval = \"prediction\")\n",
        "\n",
        "# Display the results\n",
        "print(predicted_prices)\n",
        "print(prediction_intervals)\n"
      ],
      "metadata": {
        "id": "-nyhqyVJc7OX",
        "outputId": "a7f716c1-7bde-4998-beb1-f663e8540417",
        "colab": {
          "base_uri": "https://localhost:8080/"
        }
      },
      "execution_count": 33,
      "outputs": [
        {
          "output_type": "stream",
          "name": "stdout",
          "text": [
            "       1        2 \n",
            "496037.8 649230.8 \n",
            "       fit      lwr     upr\n",
            "1 496037.8 -16042.3 1008118\n",
            "2 649230.8 137143.9 1161318\n"
          ]
        }
      ]
    },
    {
      "cell_type": "markdown",
      "source": [
        "#### Exercise 4.7\n",
        "\n",
        "**Visualization** of the linear regression model:\n",
        "\n",
        "1. **Plot the regression line** along with the **prediction intervals** for new observations.\n",
        "2. **Highlight the predicted points** on the graph.\n",
        "\n"
      ],
      "metadata": {
        "id": "eGEvETKpdUfA"
      }
    },
    {
      "cell_type": "code",
      "source": [
        "# Prepare data for the plot\n",
        "plot_data <- data.frame(\n",
        "  SqFtTotLiving = new_houses$SqFtTotLiving,  # Total square footage\n",
        "  PredictedPrice = predicted_prices,  # Predicted prices\n",
        "  Lower = prediction_intervals[, \"lwr\"],  # Lower bound of the interval\n",
        "  Upper = prediction_intervals[, \"upr\"]   # Upper bound of the interval\n",
        ")\n",
        "\n",
        "# Check that the data has only two points\n",
        "print(plot_data)\n",
        "\n",
        "# Create the plot (only points for predicted prices and error bars for intervals)\n",
        "ggplot(plot_data, aes(x = SqFtTotLiving, y = PredictedPrice)) +\n",
        "  geom_point(color = \"blue\", size = 3) +  # Points for the predicted prices\n",
        "  geom_errorbar(aes(ymin = Lower, ymax = Upper), width = 0.2, color = \"red\") +  # Prediction intervals as error bars\n",
        "  labs(title = \"Prediction of Sale Prices with Prediction Intervals\",  # Title of the plot\n",
        "       x = \"Total Square Footage (SqFtTotLiving)\",  # X-axis label\n",
        "       y = \"Predicted Sale Price (AdjSalePrice)\")  # Y-axis label\n",
        "\n",
        "\n"
      ],
      "metadata": {
        "id": "j-PVGiGfdSBl",
        "outputId": "07bc1697-e88e-412c-bc2d-f93044e7f09d",
        "colab": {
          "base_uri": "https://localhost:8080/",
          "height": 489
        }
      },
      "execution_count": 34,
      "outputs": [
        {
          "output_type": "stream",
          "name": "stdout",
          "text": [
            "  SqFtTotLiving PredictedPrice    Lower   Upper\n",
            "1          2000       496037.8 -16042.3 1008118\n",
            "2          2500       649230.8 137143.9 1161318\n"
          ]
        },
        {
          "output_type": "display_data",
          "data": {
            "text/plain": [
              "plot without title"
            ],
            "image/png": "[encoded data removed]"
          },
          "metadata": {
            "image/png": {
              "width": 420,
              "height": 420
            }
          }
        }
      ]
    },
    {
      "cell_type": "markdown",
      "source": [
        "###Categorical Variables in Regression"
      ],
      "metadata": {
        "id": "RE807eTup-sK"
      }
    },
    {
      "cell_type": "markdown",
      "source": [
        "#####Categorical variables in regression require special handling, as regression models such as linear regression expect numerical data. Several methods are commonly used to include categorical variables in regression models:\n",
        "\n",
        "##### 1. Dummy Variable\n",
        "- **Definition**: A dummy variable is a binary variable (0 or 1) that represents a category. Each category of a categorical variable is represented by a separate dummy variable, where the variable takes a value of 1 if the observation belongs to that category, or 0 if it does not.\n",
        "\n",
        "- **Example**: For a variable \"Color\" with categories \"Red\", \"Blue\", and \"Green\", we create three dummy variables:  \n",
        "  - `Color_Red` (1 if the color is Red, 0 otherwise)\n",
        "  - `Color_Blue` (1 if the color is Blue, 0 otherwise)\n",
        "  - `Color_Green` (1 if the color is Green, 0 otherwise)\n",
        "\n",
        "##### 2. Reference Coding\n",
        "- **Definition**: Reference coding involves selecting one category as the \"reference\" (baseline) and coding it as 0 in the dummy variable. The remaining categories are represented as dummy variables with a value of 1 or 0.\n",
        "  \n",
        "- **Example**: For the \"Color\" variable with categories \"Red\", \"Blue\", and \"Green\", we can select \"Red\" as the reference category. Reference coding would look like:\n",
        "  - `Color_Blue` (1 if the color is Blue, 0 otherwise)\n",
        "  - `Color_Green` (1 if the color is Green, 0 otherwise)\n",
        "  \n",
        "  The \"Red\" category is implicitly represented by the value 0 in both dummy variables. This approach avoids redundancy and reduces the number of variables.\n",
        "\n",
        "##### 3. One-Hot Encoding\n",
        "- **Definition**: One-hot encoding involves creating dummy variables for each category of a categorical variable. Each category is represented by a separate binary variable, where the value is 1 if the observation belongs to that category, and 0 if it does not.\n",
        "  \n",
        "- **Example**: For the \"Color\" variable with categories \"Red\", \"Blue\", and \"Green\", one-hot encoding would look like:\n",
        "  - `Color_Red` (1 if the color is Red, 0 otherwise)\n",
        "  - `Color_Blue` (1 if the color is Blue, 0 otherwise)\n",
        "  - `Color_Green` (1 if the color is Green, 0 otherwise)\n",
        "  \n",
        "  All categories are represented by binary variables.\n",
        "\n",
        "##### 4. Deviation Coding\n",
        "- **Definition**: Deviation coding (also called sum coding) is similar to reference coding, but instead of coding the reference category as 0, we assign it a central value (such as the mean or median). The remaining categories are represented by dummy variables.\n",
        "\n",
        "- **Example**: For the \"Color\" variable with categories \"Red\", \"Blue\", and \"Green\", in deviation coding, all categories are represented by binary variables, and the reference category could take the mean value for the variable across the dataset. This method helps avoid the introduction of too many additional variables while still capturing differences relative to the central value.\n"
      ],
      "metadata": {
        "id": "kI3oPSIvp3oM"
      }
    },
    {
      "cell_type": "markdown",
      "source": [
        "####Exercise 4.8\n",
        "\n",
        "\n",
        "1. **Use one-hot encoding** (via `model.matrix`) to convert the `PropertyType` column into a set of binary dummy variables.\n",
        "2. **Exclude the intercept** term by using `-1` in the formula to avoid multicollinearity.\n",
        "3. **Display the first few rows** of the resulting dummy variable matrix.\n",
        "4. **Interpret the matrix**: Explain what each column represents and how it encodes the original `PropertyType` information."
      ],
      "metadata": {
        "id": "qyrzAUzDyP0m"
      }
    },
    {
      "cell_type": "code",
      "source": [
        "# Display the first few rows of the 'PropertyType' column from the 'data_house' dataset\n",
        "head(data_house[, 'PropertyType'])\n",
        "\n",
        "# Apply model.matrix to convert the 'PropertyType' column into dummy (binary) variables\n",
        "# The '~' indicates we are creating dummy variables for 'PropertyType'\n",
        "# The result will have a column for each category (e.g., 'Single Family', 'Townhouse', etc.)\n",
        "prop_type_dummies <- model.matrix(~PropertyType, data=data_house)\n",
        "\n",
        "# Display the first few rows of the dummy variable matrix for 'PropertyType'\n",
        "# Each category of 'PropertyType' will be represented as a separate column with 0 or 1 values\n",
        "head(prop_type_dummies)\n"
      ],
      "metadata": {
        "id": "QdwC4AeduvM3",
        "outputId": "d49d05fb-77f4-4213-a901-990fd0d6b5da",
        "colab": {
          "base_uri": "https://localhost:8080/",
          "height": 272
        }
      },
      "execution_count": 61,
      "outputs": [
        {
          "output_type": "display_data",
          "data": {
            "text/html": [
              "<style>\n",
              ".list-inline {list-style: none; margin:0; padding: 0}\n",
              ".list-inline>li {display: inline-block}\n",
              ".list-inline>li:not(:last-child)::after {content: \"\\00b7\"; padding: 0 .5ex}\n",
              "</style>\n",
              "<ol class=list-inline><li>'Multiplex'</li><li>'Single Family'</li><li>'Single Family'</li><li>'Single Family'</li><li>'Single Family'</li><li>'Townhouse'</li></ol>\n"
            ],
            "text/markdown": "1. 'Multiplex'\n2. 'Single Family'\n3. 'Single Family'\n4. 'Single Family'\n5. 'Single Family'\n6. 'Townhouse'\n\n\n",
            "text/latex": "\\begin{enumerate*}\n\\item 'Multiplex'\n\\item 'Single Family'\n\\item 'Single Family'\n\\item 'Single Family'\n\\item 'Single Family'\n\\item 'Townhouse'\n\\end{enumerate*}\n",
            "text/plain": [
              "[1] \"Multiplex\"     \"Single Family\" \"Single Family\" \"Single Family\"\n",
              "[5] \"Single Family\" \"Townhouse\"    "
            ]
          },
          "metadata": {}
        },
        {
          "output_type": "display_data",
          "data": {
            "text/html": [
              "<table class=\"dataframe\">\n",
              "<caption>A matrix: 6 × 3 of type dbl</caption>\n",
              "<thead>\n",
              "\t<tr><th></th><th scope=col>(Intercept)</th><th scope=col>PropertyTypeSingle Family</th><th scope=col>PropertyTypeTownhouse</th></tr>\n",
              "</thead>\n",
              "<tbody>\n",
              "\t<tr><th scope=row>1</th><td>1</td><td>0</td><td>0</td></tr>\n",
              "\t<tr><th scope=row>2</th><td>1</td><td>1</td><td>0</td></tr>\n",
              "\t<tr><th scope=row>3</th><td>1</td><td>1</td><td>0</td></tr>\n",
              "\t<tr><th scope=row>4</th><td>1</td><td>1</td><td>0</td></tr>\n",
              "\t<tr><th scope=row>5</th><td>1</td><td>1</td><td>0</td></tr>\n",
              "\t<tr><th scope=row>6</th><td>1</td><td>0</td><td>1</td></tr>\n",
              "</tbody>\n",
              "</table>\n"
            ],
            "text/markdown": "\nA matrix: 6 × 3 of type dbl\n\n| <!--/--> | (Intercept) | PropertyTypeSingle Family | PropertyTypeTownhouse |\n|---|---|---|---|\n| 1 | 1 | 0 | 0 |\n| 2 | 1 | 1 | 0 |\n| 3 | 1 | 1 | 0 |\n| 4 | 1 | 1 | 0 |\n| 5 | 1 | 1 | 0 |\n| 6 | 1 | 0 | 1 |\n\n",
            "text/latex": "A matrix: 6 × 3 of type dbl\n\\begin{tabular}{r|lll}\n  & (Intercept) & PropertyTypeSingle Family & PropertyTypeTownhouse\\\\\n\\hline\n\t1 & 1 & 0 & 0\\\\\n\t2 & 1 & 1 & 0\\\\\n\t3 & 1 & 1 & 0\\\\\n\t4 & 1 & 1 & 0\\\\\n\t5 & 1 & 1 & 0\\\\\n\t6 & 1 & 0 & 1\\\\\n\\end{tabular}\n",
            "text/plain": [
              "  (Intercept) PropertyTypeSingle Family PropertyTypeTownhouse\n",
              "1 1           0                         0                    \n",
              "2 1           1                         0                    \n",
              "3 1           1                         0                    \n",
              "4 1           1                         0                    \n",
              "5 1           1                         0                    \n",
              "6 1           0                         1                    "
            ]
          },
          "metadata": {}
        }
      ]
    },
    {
      "cell_type": "markdown",
      "source": [
        "### Interpretation of Regression Equation"
      ],
      "metadata": {
        "id": "lmkPL0YF4tIz"
      }
    },
    {
      "cell_type": "markdown",
      "source": [
        "#####In regression analysis, the goal is to understand the relationship between dependent and independent variables. However, there are several key concepts that help interpret regression equations effectively:\n",
        "\n",
        "1. **Correlated Variables**\n",
        "   - Correlation refers to the degree to which two or more variables are related. In regression analysis, it's important to identify if the independent variables are correlated because highly correlated variables can distort the interpretation of their individual effects.\n",
        "   - For instance, if two predictors (e.g., age and income) are highly correlated, it becomes difficult to separate their individual impacts on the dependent variable.\n",
        "\n",
        "2. **Multicollinearity**\n",
        "   - Multicollinearity occurs when two or more predictors in the regression model are highly correlated. This can cause problems because it makes it hard to assess the individual effect of each predictor on the dependent variable.\n",
        "   - Symptoms of multicollinearity include inflated standard errors for coefficients and unstable coefficient estimates.\n",
        "   - It can be detected using Variance Inflation Factor (VIF) or correlation matrices. If VIF values are large (typically > 10), it indicates multicollinearity.\n",
        "\n",
        "3. **Confounding Variables**\n",
        "   - A confounding variable is one that affects both the independent variable and the dependent variable, creating a false impression of the relationship between them.\n",
        "   - For example, in a study measuring the relationship between exercise and weight loss, a confounding variable like diet could influence the results. Therefore, it's important to control for confounding variables to make valid interpretations.\n",
        "\n",
        "4. **Main Effects**  \n",
        "   The direct impact of an independent variable on the dependent variable, assuming other variables are constant.\n",
        "\n",
        "5. **Interactions**  \n",
        "   When the effect of one predictor depends on another. Interaction terms in a model show how relationships change based on the value of other variables.\n"
      ],
      "metadata": {
        "id": "437ymYWX4jzs"
      }
    }
  ]
}