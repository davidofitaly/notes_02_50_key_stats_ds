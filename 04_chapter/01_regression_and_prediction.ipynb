{
  "nbformat": 4,
  "nbformat_minor": 0,
  "metadata": {
    "colab": {
      "provenance": [],
      "authorship_tag": "ABX9TyMQ0thjMMvtVdk7nc06JGyU",
      "include_colab_link": true
    },
    "kernelspec": {
      "name": "ir",
      "display_name": "R"
    },
    "language_info": {
      "name": "R"
    }
  },
  "cells": [
    {
      "cell_type": "markdown",
      "metadata": {
        "id": "view-in-github",
        "colab_type": "text"
      },
      "source": [
        "<a href=\"https://colab.research.google.com/github/davidofitaly/notes_02_50_key_stats_ds/blob/main/04_chapter/01_regression_and_prediction.ipynb\" target=\"_parent\"><img src=\"https://colab.research.google.com/assets/colab-badge.svg\" alt=\"Open In Colab\"/></a>"
      ]
    },
    {
      "cell_type": "markdown",
      "source": [
        "### Table of contents:\n",
        "1. [Import of libraries](#0)\n",
        "2. [Simple Linear Regression](#1)\n",
        "3. [Multiple Regression](#2)\n",
        "4. [Prediction Using Regression](#3)\n",
        "5. [Categorical Variables in Regression](#4)\n",
        "6. [Iterpretation of Regression Equation](#5)\n",
        "7. [Regression Diagnostics](#6)\n",
        "8. [Polynomial and Spline Regression](#7)\n",
        "\n"
      ],
      "metadata": {
        "id": "M0CyNpcWpJUu"
      }
    },
    {
      "cell_type": "markdown",
      "source": [
        "###<a name='0'></a>Import of libraries"
      ],
      "metadata": {
        "id": "1zU4SgnopKfl"
      }
    },
    {
      "cell_type": "code",
      "source": [
        "# Loading necessary libraries in R\n",
        "\n",
        "# 1. 'MASS' - a package containing various functions for statistical analysis and visualization,\n",
        "#    commonly used for statistical modeling and data analysis.\n",
        "library(MASS)\n",
        "\n",
        "# 2. 'ggplot2' - a package for creating plots and visualizations in R.\n",
        "#    It allows the creation of advanced, aesthetic plots using the \"grammar of graphics\" system.\n",
        "library(ggplot2)\n",
        "\n",
        "# 3. 'dplyr' - a package for data manipulation. It makes it easy to select, filter, transform,\n",
        "#    and aggregate data within data frames. It's widely used for working with data in R.\n",
        "library(dplyr)"
      ],
      "metadata": {
        "id": "p6vcC6vQYeEi",
        "outputId": "2278a086-5c69-4562-c10e-7d500c8bb751",
        "colab": {
          "base_uri": "https://localhost:8080/"
        }
      },
      "execution_count": null,
      "outputs": [
        {
          "output_type": "stream",
          "name": "stderr",
          "text": [
            "\n",
            "Attaching package: ‘dplyr’\n",
            "\n",
            "\n",
            "The following object is masked from ‘package:MASS’:\n",
            "\n",
            "    select\n",
            "\n",
            "\n",
            "The following objects are masked from ‘package:stats’:\n",
            "\n",
            "    filter, lag\n",
            "\n",
            "\n",
            "The following objects are masked from ‘package:base’:\n",
            "\n",
            "    intersect, setdiff, setequal, union\n",
            "\n",
            "\n"
          ]
        }
      ]
    },
    {
      "cell_type": "markdown",
      "source": [
        "###<a name='1'></a>Simple Linear Regression"
      ],
      "metadata": {
        "id": "O2dXMHR5Dsmb"
      }
    },
    {
      "cell_type": "markdown",
      "source": [
        "1. **Dependent Variable**:  \n",
        "   The outcome being predicted. Synonyms: response, $y$, target, result.\n",
        "\n",
        "2. **Independent Variable**:  \n",
        "   The predictor or feature used to explain the dependent variable. Synonyms: $x$, attribute, characteristic, predictor.\n",
        "\n",
        "3. **Intercept (Constant Term)**:  \n",
        "   The expected value of the dependent variable when the independent variable is zero. Denoted as $b_0$ or $\\beta_0$.\n",
        "\n",
        "4. **Regression Coefficient**:  \n",
        "   Represents the change in the dependent variable for a one-unit increase in the independent variable. Denoted as $b_1$ or $\\beta_1$.\n",
        "\n",
        "5. **Fitted (Predicted) Values**:  \n",
        "   The estimated values of the dependent variable. Denoted as $\\hat{y}$. Synonyms: forecasted values, approximated values.\n",
        "\n",
        "6. **Residuals (Error)**:  \n",
        "   The difference between observed and fitted values:  \n",
        "   $$ \\text{Residual} = y - \\hat{y} $$\n",
        "\n",
        "7. **Least Squares Method**:  \n",
        "   A technique to minimize the sum of squared residuals and find the best-fitting line:  \n",
        "   $$ \\text{Minimize } \\sum (y_i - (\\beta_0 + \\beta_1 x_i))^2 $$  \n",
        "   where $\\beta_0$ is the intercept, and $\\beta_1$ is the regression coefficient.\n"
      ],
      "metadata": {
        "id": "TiFCAEjdDqSk"
      }
    },
    {
      "cell_type": "markdown",
      "source": [
        "####Excercise 4.1\n",
        "#####Write a program that loads the `LungDisease.csv` dataset from the provided URL and performs a linear regression to predict PEFR based on Exposure. Then, display the results of the regression model.\n",
        "\n",
        "1. **Load the LungDisease dataset** from the provided GitHub URL into a variable called `data_lung`.\n",
        "2. **Fit a linear regression model** with PEFR as the dependent variable and Exposure as the independent variable.\n",
        "3. **Display the first few rows** of the dataset using the `head()` function.\n",
        "4. **Print the results of the regression model**, showing the coefficients for the intercept and Exposure."
      ],
      "metadata": {
        "id": "JjvhJ_QPILIX"
      }
    },
    {
      "cell_type": "code",
      "execution_count": null,
      "metadata": {
        "colab": {
          "base_uri": "https://localhost:8080/",
          "height": 286
        },
        "id": "VUa-4-llDn4H",
        "outputId": "159e2a15-a520-4239-e6af-b29f1172d689"
      },
      "outputs": [
        {
          "output_type": "display_data",
          "data": {
            "text/html": [
              "<table class=\"dataframe\">\n",
              "<caption>A data.frame: 6 × 2</caption>\n",
              "<thead>\n",
              "\t<tr><th></th><th scope=col>PEFR</th><th scope=col>Exposure</th></tr>\n",
              "\t<tr><th></th><th scope=col>&lt;int&gt;</th><th scope=col>&lt;int&gt;</th></tr>\n",
              "</thead>\n",
              "<tbody>\n",
              "\t<tr><th scope=row>1</th><td>390</td><td>0</td></tr>\n",
              "\t<tr><th scope=row>2</th><td>410</td><td>0</td></tr>\n",
              "\t<tr><th scope=row>3</th><td>430</td><td>0</td></tr>\n",
              "\t<tr><th scope=row>4</th><td>460</td><td>0</td></tr>\n",
              "\t<tr><th scope=row>5</th><td>420</td><td>1</td></tr>\n",
              "\t<tr><th scope=row>6</th><td>280</td><td>2</td></tr>\n",
              "</tbody>\n",
              "</table>\n"
            ],
            "text/markdown": "\nA data.frame: 6 × 2\n\n| <!--/--> | PEFR &lt;int&gt; | Exposure &lt;int&gt; |\n|---|---|---|\n| 1 | 390 | 0 |\n| 2 | 410 | 0 |\n| 3 | 430 | 0 |\n| 4 | 460 | 0 |\n| 5 | 420 | 1 |\n| 6 | 280 | 2 |\n\n",
            "text/latex": "A data.frame: 6 × 2\n\\begin{tabular}{r|ll}\n  & PEFR & Exposure\\\\\n  & <int> & <int>\\\\\n\\hline\n\t1 & 390 & 0\\\\\n\t2 & 410 & 0\\\\\n\t3 & 430 & 0\\\\\n\t4 & 460 & 0\\\\\n\t5 & 420 & 1\\\\\n\t6 & 280 & 2\\\\\n\\end{tabular}\n",
            "text/plain": [
              "  PEFR Exposure\n",
              "1 390  0       \n",
              "2 410  0       \n",
              "3 430  0       \n",
              "4 460  0       \n",
              "5 420  1       \n",
              "6 280  2       "
            ]
          },
          "metadata": {}
        }
      ],
      "source": [
        "# Define the URL of the CSV file on GitHub\n",
        "url <- \"https://raw.githubusercontent.com/davidofitaly/notes_02_50_key_stats_ds/main/04_chapter/files/LungDisease.csv\"\n",
        "\n",
        "# Load the data from the CSV file into the variable 'data_lung'\n",
        "data_lung <- read.csv(url)\n",
        "\n",
        "# Display the first few rows of the loaded dataset\n",
        "head(data_lung)"
      ]
    },
    {
      "cell_type": "code",
      "source": [
        "# Fit linear regression model with PEFR as dependent and Exposure as independent variable\n",
        "# lm() fits a linear model. PEFR is predicted by Exposure in data_lung.\n",
        "model <- lm(PEFR ~ Exposure, data=data_lung)\n",
        "\n",
        "# Print the results\n",
        "print(model)"
      ],
      "metadata": {
        "id": "q7cTnGO_KB3P",
        "outputId": "ed05ab29-b7fb-4592-b261-0046ee9d3a06",
        "colab": {
          "base_uri": "https://localhost:8080/"
        }
      },
      "execution_count": null,
      "outputs": [
        {
          "output_type": "stream",
          "name": "stdout",
          "text": [
            "\n",
            "Call:\n",
            "lm(formula = PEFR ~ Exposure, data = data_lung)\n",
            "\n",
            "Coefficients:\n",
            "(Intercept)     Exposure  \n",
            "    424.583       -4.185  \n",
            "\n"
          ]
        }
      ]
    },
    {
      "cell_type": "markdown",
      "source": [
        "####Exercise 4.2\n",
        "\n",
        "#####Based on the linear regression model you have created (`model`), follow these steps:\n",
        "\n",
        "1. **Generate the Predicted Values:**  \n",
        "   Use the model to calculate the predicted **PEFR** values based on the **Exposure** variable. These predicted values represent the expected **PEFR** for each data point according to the model.\n",
        "\n",
        "2. **Calculate the Residuals:**  \n",
        "   The residuals represent the difference between the observed **PEFR** values and the predicted values. Compute these residuals by subtracting the predicted values from the actual **PEFR** values.\n",
        "\n",
        "3. **Display the Results:**  "
      ],
      "metadata": {
        "id": "vjqkmBLRNPZs"
      }
    },
    {
      "cell_type": "code",
      "source": [
        "# Generate the predicted values (fitted values) based on the regression model\n",
        "fitted <- predict(model)\n",
        "\n",
        "# Calculate the residuals, i.e., the differences between the actual and predicted values\n",
        "resid <- residuals(model)\n",
        "\n",
        "# Display the first few predicted values\n",
        "print(head(fitted))\n",
        "\n",
        "# Display the first few residuals (errors)\n",
        "print(head(resid))\n"
      ],
      "metadata": {
        "id": "0rKfWvpkLxFA",
        "outputId": "f6bd9455-b082-44cb-f2c2-8acefc70e333",
        "colab": {
          "base_uri": "https://localhost:8080/"
        }
      },
      "execution_count": null,
      "outputs": [
        {
          "output_type": "stream",
          "name": "stdout",
          "text": [
            "       1        2        3        4        5        6 \n",
            "424.5828 424.5828 424.5828 424.5828 420.3982 416.2137 \n",
            "           1            2            3            4            5            6 \n",
            " -34.5828066  -14.5828066    5.4171934   35.4171934   -0.3982301 -136.2136536 \n"
          ]
        }
      ]
    },
    {
      "cell_type": "markdown",
      "source": [
        "###<a name='2'></a>Multiple Regression"
      ],
      "metadata": {
        "id": "zwp6m7eZOWbd"
      }
    },
    {
      "cell_type": "markdown",
      "source": [
        "##### Multiple Regression  \n",
        "\n",
        "1. **Root Mean Squared Error (RMSE)**  \n",
        "   Measures the model’s prediction error:  \n",
        "   $$ RMSE = \\sqrt{\\frac{1}{n} \\sum (y_i - \\hat{y}_i)^2} $$  \n",
        "   - $n$ – number of observations (data points).  \n",
        "   - Lower RMSE → better model accuracy.  \n",
        "   - RMSE in the same unit as $y$.  \n",
        "\n",
        "2. **Residual Standard Error (RSE)**  \n",
        "   Estimates the standard deviation of residuals:  \n",
        "   $$ RSE = \\sqrt{\\frac{\\sum (y_i - \\hat{y}_i)^2}{n - p - 1}} $$  \n",
        "   - $p$ – number of independent variables (predictors).  \n",
        "   - Lower RSE → model fits data well.  \n",
        "   - Used for confidence interval estimation.  \n",
        "\n",
        "3. **R-Squared ($R^2$)**  \n",
        "   Explains the proportion of variance in $y$ explained by predictors:  \n",
        "   $$ R^2 = 1 - \\frac{SS_{res}}{SS_{tot}} $$  \n",
        "   - $SS_{res}$ – sum of squared residuals (errors).  \n",
        "   - $SS_{tot}$ – total sum of squares (variance in $y$).  \n",
        "   - Closer to 1 → better model fit.  \n",
        "   - $R^2 = 0.8$ → 80% of variance explained.  \n",
        "\n",
        "4. **t-Statistic**  \n",
        "   Assesses the significance of each regression coefficient:  \n",
        "   $$ t = \\frac{\\beta_j}{SE_{\\beta_j}} $$  \n",
        "   - $\\beta_j$ – estimated coefficient for predictor $j$.  \n",
        "   - $SE_{\\beta_j}$ – standard error of $\\beta_j$.  \n",
        "   - Higher absolute $t$-value → stronger evidence against $H_0$ (no effect).  \n",
        "   - Used in hypothesis testing.  \n",
        "\n",
        "5. **Weighted Regression**  \n",
        "   Accounts for heteroscedasticity by assigning weights $w_i$:  \n",
        "   $$ \\min \\sum w_i (y_i - \\hat{y}_i)^2 $$  \n",
        "   - Gives more influence to reliable observations.  \n",
        "   - Useful when residual variance is not constant.  \n",
        "\n"
      ],
      "metadata": {
        "id": "hqbyslltNy2M"
      }
    },
    {
      "cell_type": "markdown",
      "source": [
        "#### Exercise 4.3\n",
        "##### Write a program that loads the `house_sales.csv` dataset from the provided GitHub URL and performs a linear regression to predict `AdjSalePrice` based on several independent variables. Then, display the results of the regression model.\n",
        "\n",
        "1. **Load the `house_sales` dataset** from the provided GitHub URL into a variable called `data_house`, ensuring the separator is set to tab (`\\t`).\n",
        "2. **Fit a linear regression model** with `AdjSalePrice` as the dependent variable and `SqFtTotLiving`, `SqFtLot`, `Bathrooms`, `Bedrooms`, and `BldgGrade` as independent variables.\n",
        "3. **Display the first few rows** of the dataset, showing only the selected columns: `AdjSalePrice`, `SqFtTotLiving`, `SqFtLot`, `Bathrooms`, `Bedrooms`, and `BldgGrade`.\n",
        "4. **Print the results of the regression model**, showing the coefficients for the intercept and each of the independent variables.\n"
      ],
      "metadata": {
        "id": "EY2D0xBZWX1t"
      }
    },
    {
      "cell_type": "code",
      "source": [
        "# Define the URL of the CSV file on GitHub\n",
        "url <- \"https://raw.githubusercontent.com/davidofitaly/notes_02_50_key_stats_ds/main/04_chapter/files/house_sales.csv\"\n",
        "\n",
        "# Load the data from the CSV file into the variable 'data_house'\n",
        "# Specify the separator as tab ('\\t') to correctly read the file\n",
        "data_house <- read.csv(url, sep=\"\\t\")\n",
        "\n",
        "# Display the first few rows of selected columns from the dataset\n",
        "head(data_house[, c(\"AdjSalePrice\", \"SqFtTotLiving\", \"SqFtLot\",\n",
        "                          \"Bathrooms\", \"Bedrooms\", \"BldgGrade\")])\n"
      ],
      "metadata": {
        "id": "Sm_hpxxJRZdY",
        "outputId": "35bf62fc-21f0-43e0-8c55-0fa33e9083c0",
        "colab": {
          "base_uri": "https://localhost:8080/",
          "height": 286
        }
      },
      "execution_count": null,
      "outputs": [
        {
          "output_type": "display_data",
          "data": {
            "text/html": [
              "<table class=\"dataframe\">\n",
              "<caption>A data.frame: 6 × 6</caption>\n",
              "<thead>\n",
              "\t<tr><th></th><th scope=col>AdjSalePrice</th><th scope=col>SqFtTotLiving</th><th scope=col>SqFtLot</th><th scope=col>Bathrooms</th><th scope=col>Bedrooms</th><th scope=col>BldgGrade</th></tr>\n",
              "\t<tr><th></th><th scope=col>&lt;dbl&gt;</th><th scope=col>&lt;int&gt;</th><th scope=col>&lt;int&gt;</th><th scope=col>&lt;dbl&gt;</th><th scope=col>&lt;int&gt;</th><th scope=col>&lt;int&gt;</th></tr>\n",
              "</thead>\n",
              "<tbody>\n",
              "\t<tr><th scope=row>1</th><td> 300805</td><td>2400</td><td> 9373</td><td>3.00</td><td>6</td><td> 7</td></tr>\n",
              "\t<tr><th scope=row>2</th><td>1076162</td><td>3764</td><td>20156</td><td>3.75</td><td>4</td><td>10</td></tr>\n",
              "\t<tr><th scope=row>3</th><td> 761805</td><td>2060</td><td>26036</td><td>1.75</td><td>4</td><td> 8</td></tr>\n",
              "\t<tr><th scope=row>4</th><td> 442065</td><td>3200</td><td> 8618</td><td>3.75</td><td>5</td><td> 7</td></tr>\n",
              "\t<tr><th scope=row>5</th><td> 297065</td><td>1720</td><td> 8620</td><td>1.75</td><td>4</td><td> 7</td></tr>\n",
              "\t<tr><th scope=row>6</th><td> 411781</td><td> 930</td><td> 1012</td><td>1.50</td><td>2</td><td> 8</td></tr>\n",
              "</tbody>\n",
              "</table>\n"
            ],
            "text/markdown": "\nA data.frame: 6 × 6\n\n| <!--/--> | AdjSalePrice &lt;dbl&gt; | SqFtTotLiving &lt;int&gt; | SqFtLot &lt;int&gt; | Bathrooms &lt;dbl&gt; | Bedrooms &lt;int&gt; | BldgGrade &lt;int&gt; |\n|---|---|---|---|---|---|---|\n| 1 |  300805 | 2400 |  9373 | 3.00 | 6 |  7 |\n| 2 | 1076162 | 3764 | 20156 | 3.75 | 4 | 10 |\n| 3 |  761805 | 2060 | 26036 | 1.75 | 4 |  8 |\n| 4 |  442065 | 3200 |  8618 | 3.75 | 5 |  7 |\n| 5 |  297065 | 1720 |  8620 | 1.75 | 4 |  7 |\n| 6 |  411781 |  930 |  1012 | 1.50 | 2 |  8 |\n\n",
            "text/latex": "A data.frame: 6 × 6\n\\begin{tabular}{r|llllll}\n  & AdjSalePrice & SqFtTotLiving & SqFtLot & Bathrooms & Bedrooms & BldgGrade\\\\\n  & <dbl> & <int> & <int> & <dbl> & <int> & <int>\\\\\n\\hline\n\t1 &  300805 & 2400 &  9373 & 3.00 & 6 &  7\\\\\n\t2 & 1076162 & 3764 & 20156 & 3.75 & 4 & 10\\\\\n\t3 &  761805 & 2060 & 26036 & 1.75 & 4 &  8\\\\\n\t4 &  442065 & 3200 &  8618 & 3.75 & 5 &  7\\\\\n\t5 &  297065 & 1720 &  8620 & 1.75 & 4 &  7\\\\\n\t6 &  411781 &  930 &  1012 & 1.50 & 2 &  8\\\\\n\\end{tabular}\n",
            "text/plain": [
              "  AdjSalePrice SqFtTotLiving SqFtLot Bathrooms Bedrooms BldgGrade\n",
              "1  300805      2400           9373   3.00      6         7       \n",
              "2 1076162      3764          20156   3.75      4        10       \n",
              "3  761805      2060          26036   1.75      4         8       \n",
              "4  442065      3200           8618   3.75      5         7       \n",
              "5  297065      1720           8620   1.75      4         7       \n",
              "6  411781       930           1012   1.50      2         8       "
            ]
          },
          "metadata": {}
        }
      ]
    },
    {
      "cell_type": "code",
      "source": [
        "# Fit a linear regression model to predict AdjSalePrice using several independent variables\n",
        "house_lm <- lm(AdjSalePrice ~ SqFtTotLiving + SqFtLot + Bathrooms + Bedrooms + BldgGrade, data=data_house, na.action = na.omit)\n",
        "\n",
        "# Print the model summary\n",
        "house_lm"
      ],
      "metadata": {
        "id": "7Fru3Jd3TTeT",
        "outputId": "c31e4415-48c6-4dc1-ecb6-c7289a558397",
        "colab": {
          "base_uri": "https://localhost:8080/",
          "height": 191
        }
      },
      "execution_count": null,
      "outputs": [
        {
          "output_type": "display_data",
          "data": {
            "text/plain": [
              "\n",
              "Call:\n",
              "lm(formula = AdjSalePrice ~ SqFtTotLiving + SqFtLot + Bathrooms + \n",
              "    Bedrooms + BldgGrade, data = data_house, na.action = na.omit)\n",
              "\n",
              "Coefficients:\n",
              "  (Intercept)  SqFtTotLiving        SqFtLot      Bathrooms       Bedrooms  \n",
              "   -5.219e+05      2.288e+02     -6.051e-02     -1.944e+04     -4.778e+04  \n",
              "    BldgGrade  \n",
              "    1.061e+05  \n"
            ]
          },
          "metadata": {}
        }
      ]
    },
    {
      "cell_type": "markdown",
      "source": [
        "#### Exercise 4.4\n",
        "##### Based on the `house_lm` model, perform the following tasks:\n",
        "\n",
        "1. **View the summary of the model** by running the `summary(house_lm)` function. This will provide detailed information about the regression results, including coefficients, R-squared value, p-values, and significance of the predictors.\n",
        "2. **Interpret the coefficients** in the context of the model. Understand how each predictor (such as `SqFtTotLiving`, `Bathrooms`, `Bedrooms`, etc.) influences the predicted `AdjSalePrice`.\n",
        "3. **Examine the R-squared value** to assess the goodness of fit of the model. Determine how well the independent variables explain the variance in the dependent variable (`AdjSalePrice`).\n",
        "\n"
      ],
      "metadata": {
        "id": "XWB8xbkWW1Df"
      }
    },
    {
      "cell_type": "code",
      "source": [
        "# Set the option to prevent scientific notation in the output\n",
        "options(scipen = 999)\n",
        "\n",
        "# Display the summary of the linear regression model 'house_lm'\n",
        "summary(house_lm)\n"
      ],
      "metadata": {
        "id": "5dEIEUIzWogs",
        "outputId": "65df7923-5cab-4ba1-bfd7-85cd324722cd",
        "colab": {
          "base_uri": "https://localhost:8080/",
          "height": 416
        }
      },
      "execution_count": null,
      "outputs": [
        {
          "output_type": "display_data",
          "data": {
            "text/plain": [
              "\n",
              "Call:\n",
              "lm(formula = AdjSalePrice ~ SqFtTotLiving + SqFtLot + Bathrooms + \n",
              "    Bedrooms + BldgGrade, data = data_house, na.action = na.omit)\n",
              "\n",
              "Residuals:\n",
              "     Min       1Q   Median       3Q      Max \n",
              "-1199508  -118879   -20982    87414  9472982 \n",
              "\n",
              "Coefficients:\n",
              "                   Estimate    Std. Error t value             Pr(>|t|)    \n",
              "(Intercept)   -521924.72204   15650.57362 -33.349 < 0.0000000000000002 ***\n",
              "SqFtTotLiving     228.83211       3.89837  58.699 < 0.0000000000000002 ***\n",
              "SqFtLot            -0.06051       0.06118  -0.989                0.323    \n",
              "Bathrooms      -19438.09896    3625.21876  -5.362         0.0000000832 ***\n",
              "Bedrooms       -47781.15338    2489.44263 -19.194 < 0.0000000000000002 ***\n",
              "BldgGrade      106117.20956    2396.13627  44.287 < 0.0000000000000002 ***\n",
              "---\n",
              "Signif. codes:  0 ‘***’ 0.001 ‘**’ 0.01 ‘*’ 0.05 ‘.’ 0.1 ‘ ’ 1\n",
              "\n",
              "Residual standard error: 261200 on 22683 degrees of freedom\n",
              "Multiple R-squared:  0.5407,\tAdjusted R-squared:  0.5406 \n",
              "F-statistic:  5340 on 5 and 22683 DF,  p-value: < 0.00000000000000022\n"
            ]
          },
          "metadata": {}
        }
      ]
    },
    {
      "cell_type": "markdown",
      "source": [
        "#### Exercise 4.5\n",
        "\n",
        "#####Based on the linear regression model `house_lm`, apply stepwise regression using AIC to select the best model. Use the `stepAIC()` function and set the `direction` argument to `\"both\"` to allow both forward and backward selection.\n"
      ],
      "metadata": {
        "id": "_MU8wIOiZSx5"
      }
    },
    {
      "cell_type": "code",
      "source": [
        "# Perform stepwise regression using AIC to select the best model\n",
        "step_lm <- stepAIC(house_lm, direction = \"both\")\n",
        "\n",
        "# Display the results of the stepwise regression\n",
        "step_lm\n"
      ],
      "metadata": {
        "id": "w_oPFZFbYnBZ",
        "outputId": "4f32408a-b85d-42ad-d936-16df57cae70f",
        "colab": {
          "base_uri": "https://localhost:8080/",
          "height": 538
        }
      },
      "execution_count": null,
      "outputs": [
        {
          "output_type": "stream",
          "name": "stdout",
          "text": [
            "Start:  AIC=566015.4\n",
            "AdjSalePrice ~ SqFtTotLiving + SqFtLot + Bathrooms + Bedrooms + \n",
            "    BldgGrade\n",
            "\n",
            "                Df       Sum of Sq              RSS    AIC\n",
            "- SqFtLot        1     66750141148 1548148631912860 566014\n",
            "<none>                             1548081881771712 566015\n",
            "- Bathrooms      1   1962151674312 1550044033446024 566042\n",
            "- Bedrooms       1  25142151935270 1573224033706983 566379\n",
            "- BldgGrade      1 133857297270080 1681939179041792 567895\n",
            "- SqFtTotLiving  1 235159007954810 1783240889726523 569222\n",
            "\n",
            "Step:  AIC=566014.3\n",
            "AdjSalePrice ~ SqFtTotLiving + Bathrooms + Bedrooms + BldgGrade\n",
            "\n",
            "                Df       Sum of Sq              RSS    AIC\n",
            "<none>                             1548148631912861 566014\n",
            "+ SqFtLot        1     66750141148 1548081881771712 566015\n",
            "- Bathrooms      1   1928307868978 1550076939781839 566041\n",
            "- Bedrooms       1  25075461022645 1573224092935506 566377\n",
            "- BldgGrade      1 133921425601500 1682070057514361 567895\n",
            "- SqFtTotLiving  1 239771505547382 1787920137460243 569279\n"
          ]
        },
        {
          "output_type": "display_data",
          "data": {
            "text/plain": [
              "\n",
              "Call:\n",
              "lm(formula = AdjSalePrice ~ SqFtTotLiving + Bathrooms + Bedrooms + \n",
              "    BldgGrade, data = data_house, na.action = na.omit)\n",
              "\n",
              "Coefficients:\n",
              "  (Intercept)  SqFtTotLiving      Bathrooms       Bedrooms      BldgGrade  \n",
              "    -522415.7          228.2       -19240.4       -47650.5       106138.4  \n"
            ]
          },
          "metadata": {}
        }
      ]
    },
    {
      "cell_type": "markdown",
      "source": [
        "###<a name='3'></a>Prediction Using Regression  "
      ],
      "metadata": {
        "id": "yBGNSxecZCB5"
      }
    },
    {
      "cell_type": "markdown",
      "source": [
        "1. **Prediction Interval**  \n",
        "   A **prediction interval** provides a range within which a future observation is expected to fall with a given probability. It accounts for both model uncertainty and the natural variability of the data.  \n",
        "   $$ \\hat{y} \\pm t_{\\alpha/2, n-p-1} \\cdot SE_{\\text{pred}} $$  \n",
        "   where:  \n",
        "   - $\\hat{y}$ is the predicted value,  \n",
        "   - $t_{\\alpha/2, n-p-1}$ is the critical value from the t-distribution,  \n",
        "   - $SE_{\\text{pred}}$ is the standard error of prediction.  \n",
        "   Key point: Prediction intervals are wider than confidence intervals because they include future variability.  \n",
        "\n",
        "2. **Extrapolation**  \n",
        "   **Extrapolation** occurs when a model is used to predict values outside the range of the training data. This can lead to unreliable predictions because the relationship between variables may not hold beyond observed values.  \n",
        "   - **Safe range**: Predictions are more reliable when made within the range of the training data (interpolation).  \n",
        "   - **Risk**: Extrapolating far beyond observed values increases the likelihood of significant errors.  \n"
      ],
      "metadata": {
        "id": "BRzp6y2OY0gt"
      }
    },
    {
      "cell_type": "markdown",
      "source": [
        "#### Exercise 4.6\n",
        "\n",
        "#####Based on the linear regression model `house_lm`, perform the following tasks:\n",
        "\n",
        "1. **Make predictions**:  \n",
        "   - Use the `predict()` function to estimate `AdjSalePrice` for new observations with specified values of `SqFtTotLiving`, `SqFtLot`, `Bathrooms`, `Bedrooms`, and `BldgGrade`.  \n",
        "   - Store the predicted values in a variable called `predicted_prices`.\n",
        "\n",
        "2. **Calculate a prediction interval**:  \n",
        "   - Generate a **prediction interval** for the new observations, providing both lower and upper bounds for possible sale prices.  \n",
        "   - Store the results in a variable called `prediction_intervals`.\n",
        "\n",
        "3. **Interpret the results**:  \n",
        "   - Compare the predicted values with their prediction intervals.  \n",
        "   - Discuss the reliability of these predictions and the importance of prediction intervals in regression models.  "
      ],
      "metadata": {
        "id": "drLapc-jc9vq"
      }
    },
    {
      "cell_type": "code",
      "source": [
        "# Define new observations (example houses)\n",
        "new_houses <- data.frame(\n",
        "  SqFtTotLiving = c(2000, 2500),\n",
        "  SqFtLot = c(5000, 7000),\n",
        "  Bathrooms = c(2, 3),\n",
        "  Bedrooms = c(3, 4),\n",
        "  BldgGrade = c(7, 8)\n",
        ")\n",
        "\n",
        "# Make predictions for new houses\n",
        "predicted_prices <- predict(house_lm, newdata = new_houses)\n",
        "\n",
        "# Generate prediction intervals\n",
        "prediction_intervals <- predict(house_lm, newdata = new_houses, interval = \"prediction\")\n",
        "\n",
        "# Display the results\n",
        "print(predicted_prices)\n",
        "print(prediction_intervals)\n"
      ],
      "metadata": {
        "id": "-nyhqyVJc7OX",
        "outputId": "2c5e3c84-8c86-4883-c1b0-d8670c0fe0dd",
        "colab": {
          "base_uri": "https://localhost:8080/"
        }
      },
      "execution_count": null,
      "outputs": [
        {
          "output_type": "stream",
          "name": "stdout",
          "text": [
            "       1        2 \n",
            "496037.8 649230.8 \n",
            "       fit      lwr     upr\n",
            "1 496037.8 -16042.3 1008118\n",
            "2 649230.8 137143.9 1161318\n"
          ]
        }
      ]
    },
    {
      "cell_type": "markdown",
      "source": [
        "#### Exercise 4.7\n",
        "\n",
        "**Visualization** of the linear regression model:\n",
        "\n",
        "1. **Plot the regression line** along with the **prediction intervals** for new observations.\n",
        "2. **Highlight the predicted points** on the graph.\n",
        "\n"
      ],
      "metadata": {
        "id": "eGEvETKpdUfA"
      }
    },
    {
      "cell_type": "code",
      "source": [
        "# Prepare data for the plot\n",
        "plot_data <- data.frame(\n",
        "  SqFtTotLiving = new_houses$SqFtTotLiving,  # Total square footage\n",
        "  PredictedPrice = predicted_prices,  # Predicted prices\n",
        "  Lower = prediction_intervals[, \"lwr\"],  # Lower bound of the interval\n",
        "  Upper = prediction_intervals[, \"upr\"]   # Upper bound of the interval\n",
        ")\n",
        "\n",
        "# Check that the data has only two points\n",
        "print(plot_data)\n",
        "\n",
        "# Create the plot (only points for predicted prices and error bars for intervals)\n",
        "ggplot(plot_data, aes(x = SqFtTotLiving, y = PredictedPrice)) +\n",
        "  geom_point(color = \"blue\", size = 3) +  # Points for the predicted prices\n",
        "  geom_errorbar(aes(ymin = Lower, ymax = Upper), width = 0.2, color = \"red\") +  # Prediction intervals as error bars\n",
        "  labs(title = \"Prediction of Sale Prices with Prediction Intervals\",  # Title of the plot\n",
        "       x = \"Total Square Footage (SqFtTotLiving)\",  # X-axis label\n",
        "       y = \"Predicted Sale Price (AdjSalePrice)\")  # Y-axis label\n",
        "\n",
        "\n"
      ],
      "metadata": {
        "id": "j-PVGiGfdSBl",
        "outputId": "22d8c215-2fe4-4f34-c349-1eb87472aba0",
        "colab": {
          "base_uri": "https://localhost:8080/",
          "height": 489
        }
      },
      "execution_count": null,
      "outputs": [
        {
          "output_type": "stream",
          "name": "stdout",
          "text": [
            "  SqFtTotLiving PredictedPrice    Lower   Upper\n",
            "1          2000       496037.8 -16042.3 1008118\n",
            "2          2500       649230.8 137143.9 1161318\n"
          ]
        },
        {
          "output_type": "display_data",
          "data": {
            "text/plain": [
              "plot without title"
            ],
            "image/png": "[encoded data removed]"
          },
          "metadata": {
            "image/png": {
              "width": 420,
              "height": 420
            }
          }
        }
      ]
    },
    {
      "cell_type": "markdown",
      "source": [
        "###<a name='4'></a>Categorical Variables in Regression"
      ],
      "metadata": {
        "id": "RE807eTup-sK"
      }
    },
    {
      "cell_type": "markdown",
      "source": [
        "#####Categorical variables in regression require special handling, as regression models such as linear regression expect numerical data. Several methods are commonly used to include categorical variables in regression models:\n",
        "\n",
        "##### 1. Dummy Variable\n",
        "- **Definition**: A dummy variable is a binary variable (0 or 1) that represents a category. Each category of a categorical variable is represented by a separate dummy variable, where the variable takes a value of 1 if the observation belongs to that category, or 0 if it does not.\n",
        "\n",
        "- **Example**: For a variable \"Color\" with categories \"Red\", \"Blue\", and \"Green\", we create three dummy variables:  \n",
        "  - `Color_Red` (1 if the color is Red, 0 otherwise)\n",
        "  - `Color_Blue` (1 if the color is Blue, 0 otherwise)\n",
        "  - `Color_Green` (1 if the color is Green, 0 otherwise)\n",
        "\n",
        "##### 2. Reference Coding\n",
        "- **Definition**: Reference coding involves selecting one category as the \"reference\" (baseline) and coding it as 0 in the dummy variable. The remaining categories are represented as dummy variables with a value of 1 or 0.\n",
        "  \n",
        "- **Example**: For the \"Color\" variable with categories \"Red\", \"Blue\", and \"Green\", we can select \"Red\" as the reference category. Reference coding would look like:\n",
        "  - `Color_Blue` (1 if the color is Blue, 0 otherwise)\n",
        "  - `Color_Green` (1 if the color is Green, 0 otherwise)\n",
        "  \n",
        "  The \"Red\" category is implicitly represented by the value 0 in both dummy variables. This approach avoids redundancy and reduces the number of variables.\n",
        "\n",
        "##### 3. One-Hot Encoding\n",
        "- **Definition**: One-hot encoding involves creating dummy variables for each category of a categorical variable. Each category is represented by a separate binary variable, where the value is 1 if the observation belongs to that category, and 0 if it does not.\n",
        "  \n",
        "- **Example**: For the \"Color\" variable with categories \"Red\", \"Blue\", and \"Green\", one-hot encoding would look like:\n",
        "  - `Color_Red` (1 if the color is Red, 0 otherwise)\n",
        "  - `Color_Blue` (1 if the color is Blue, 0 otherwise)\n",
        "  - `Color_Green` (1 if the color is Green, 0 otherwise)\n",
        "  \n",
        "  All categories are represented by binary variables.\n",
        "\n",
        "##### 4. Deviation Coding\n",
        "- **Definition**: Deviation coding (also called sum coding) is similar to reference coding, but instead of coding the reference category as 0, we assign it a central value (such as the mean or median). The remaining categories are represented by dummy variables.\n",
        "\n",
        "- **Example**: For the \"Color\" variable with categories \"Red\", \"Blue\", and \"Green\", in deviation coding, all categories are represented by binary variables, and the reference category could take the mean value for the variable across the dataset. This method helps avoid the introduction of too many additional variables while still capturing differences relative to the central value.\n"
      ],
      "metadata": {
        "id": "kI3oPSIvp3oM"
      }
    },
    {
      "cell_type": "markdown",
      "source": [
        "####Exercise 4.8\n",
        "\n",
        "\n",
        "1. **Use one-hot encoding** (via `model.matrix`) to convert the `PropertyType` column into a set of binary dummy variables.\n",
        "2. **Exclude the intercept** term by using `-1` in the formula to avoid multicollinearity.\n",
        "3. **Display the first few rows** of the resulting dummy variable matrix.\n",
        "4. **Interpret the matrix**: Explain what each column represents and how it encodes the original `PropertyType` information."
      ],
      "metadata": {
        "id": "qyrzAUzDyP0m"
      }
    },
    {
      "cell_type": "code",
      "source": [
        "# Display the first few rows of the 'PropertyType' column from the 'data_house' dataset\n",
        "head(data_house[, 'PropertyType'])\n",
        "\n",
        "# Apply model.matrix to convert the 'PropertyType' column into dummy (binary) variables\n",
        "# The '~' indicates we are creating dummy variables for 'PropertyType'\n",
        "# The result will have a column for each category (e.g., 'Single Family', 'Townhouse', etc.)\n",
        "prop_type_dummies <- model.matrix(~PropertyType, data=data_house)\n",
        "\n",
        "# Display the first few rows of the dummy variable matrix for 'PropertyType'\n",
        "# Each category of 'PropertyType' will be represented as a separate column with 0 or 1 values\n",
        "head(prop_type_dummies)\n"
      ],
      "metadata": {
        "id": "QdwC4AeduvM3",
        "outputId": "d49d05fb-77f4-4213-a901-990fd0d6b5da",
        "colab": {
          "base_uri": "https://localhost:8080/",
          "height": 272
        }
      },
      "execution_count": null,
      "outputs": [
        {
          "output_type": "display_data",
          "data": {
            "text/html": [
              "<style>\n",
              ".list-inline {list-style: none; margin:0; padding: 0}\n",
              ".list-inline>li {display: inline-block}\n",
              ".list-inline>li:not(:last-child)::after {content: \"\\00b7\"; padding: 0 .5ex}\n",
              "</style>\n",
              "<ol class=list-inline><li>'Multiplex'</li><li>'Single Family'</li><li>'Single Family'</li><li>'Single Family'</li><li>'Single Family'</li><li>'Townhouse'</li></ol>\n"
            ],
            "text/markdown": "1. 'Multiplex'\n2. 'Single Family'\n3. 'Single Family'\n4. 'Single Family'\n5. 'Single Family'\n6. 'Townhouse'\n\n\n",
            "text/latex": "\\begin{enumerate*}\n\\item 'Multiplex'\n\\item 'Single Family'\n\\item 'Single Family'\n\\item 'Single Family'\n\\item 'Single Family'\n\\item 'Townhouse'\n\\end{enumerate*}\n",
            "text/plain": [
              "[1] \"Multiplex\"     \"Single Family\" \"Single Family\" \"Single Family\"\n",
              "[5] \"Single Family\" \"Townhouse\"    "
            ]
          },
          "metadata": {}
        },
        {
          "output_type": "display_data",
          "data": {
            "text/html": [
              "<table class=\"dataframe\">\n",
              "<caption>A matrix: 6 × 3 of type dbl</caption>\n",
              "<thead>\n",
              "\t<tr><th></th><th scope=col>(Intercept)</th><th scope=col>PropertyTypeSingle Family</th><th scope=col>PropertyTypeTownhouse</th></tr>\n",
              "</thead>\n",
              "<tbody>\n",
              "\t<tr><th scope=row>1</th><td>1</td><td>0</td><td>0</td></tr>\n",
              "\t<tr><th scope=row>2</th><td>1</td><td>1</td><td>0</td></tr>\n",
              "\t<tr><th scope=row>3</th><td>1</td><td>1</td><td>0</td></tr>\n",
              "\t<tr><th scope=row>4</th><td>1</td><td>1</td><td>0</td></tr>\n",
              "\t<tr><th scope=row>5</th><td>1</td><td>1</td><td>0</td></tr>\n",
              "\t<tr><th scope=row>6</th><td>1</td><td>0</td><td>1</td></tr>\n",
              "</tbody>\n",
              "</table>\n"
            ],
            "text/markdown": "\nA matrix: 6 × 3 of type dbl\n\n| <!--/--> | (Intercept) | PropertyTypeSingle Family | PropertyTypeTownhouse |\n|---|---|---|---|\n| 1 | 1 | 0 | 0 |\n| 2 | 1 | 1 | 0 |\n| 3 | 1 | 1 | 0 |\n| 4 | 1 | 1 | 0 |\n| 5 | 1 | 1 | 0 |\n| 6 | 1 | 0 | 1 |\n\n",
            "text/latex": "A matrix: 6 × 3 of type dbl\n\\begin{tabular}{r|lll}\n  & (Intercept) & PropertyTypeSingle Family & PropertyTypeTownhouse\\\\\n\\hline\n\t1 & 1 & 0 & 0\\\\\n\t2 & 1 & 1 & 0\\\\\n\t3 & 1 & 1 & 0\\\\\n\t4 & 1 & 1 & 0\\\\\n\t5 & 1 & 1 & 0\\\\\n\t6 & 1 & 0 & 1\\\\\n\\end{tabular}\n",
            "text/plain": [
              "  (Intercept) PropertyTypeSingle Family PropertyTypeTownhouse\n",
              "1 1           0                         0                    \n",
              "2 1           1                         0                    \n",
              "3 1           1                         0                    \n",
              "4 1           1                         0                    \n",
              "5 1           1                         0                    \n",
              "6 1           0                         1                    "
            ]
          },
          "metadata": {}
        }
      ]
    },
    {
      "cell_type": "markdown",
      "source": [
        "###<a name='5'></a>Interpretation of Regression Equation"
      ],
      "metadata": {
        "id": "lmkPL0YF4tIz"
      }
    },
    {
      "cell_type": "markdown",
      "source": [
        "#####In regression analysis, the goal is to understand the relationship between dependent and independent variables. However, there are several key concepts that help interpret regression equations effectively:\n",
        "\n",
        "1. **Correlated Variables**\n",
        "   - Correlation refers to the degree to which two or more variables are related. In regression analysis, it's important to identify if the independent variables are correlated because highly correlated variables can distort the interpretation of their individual effects.\n",
        "   - For instance, if two predictors (e.g., age and income) are highly correlated, it becomes difficult to separate their individual impacts on the dependent variable.\n",
        "\n",
        "2. **Multicollinearity**\n",
        "   - Multicollinearity occurs when two or more predictors in the regression model are highly correlated. This can cause problems because it makes it hard to assess the individual effect of each predictor on the dependent variable.\n",
        "   - Symptoms of multicollinearity include inflated standard errors for coefficients and unstable coefficient estimates.\n",
        "   - It can be detected using Variance Inflation Factor (VIF) or correlation matrices. If VIF values are large (typically > 10), it indicates multicollinearity.\n",
        "\n",
        "3. **Confounding Variables**\n",
        "   - A confounding variable is one that affects both the independent variable and the dependent variable, creating a false impression of the relationship between them.\n",
        "   - For example, in a study measuring the relationship between exercise and weight loss, a confounding variable like diet could influence the results. Therefore, it's important to control for confounding variables to make valid interpretations.\n",
        "\n",
        "4. **Main Effects**  \n",
        "   The direct impact of an independent variable on the dependent variable, assuming other variables are constant.\n",
        "\n",
        "5. **Interactions**  \n",
        "   When the effect of one predictor depends on another. Interaction terms in a model show how relationships change based on the value of other variables.\n"
      ],
      "metadata": {
        "id": "437ymYWX4jzs"
      }
    },
    {
      "cell_type": "markdown",
      "source": [
        "###<a name='6'></a>Regression Diagnostics"
      ],
      "metadata": {
        "id": "Xj8XKiQLdu7b"
      }
    },
    {
      "cell_type": "markdown",
      "source": [
        "#####Regression diagnostics help assess model validity and detect issues affecting accuracy.\n",
        "\n",
        "1. **Standardized Residuals**  \n",
        "   - Residuals (errors) scaled by their standard deviation.  \n",
        "   - Values beyond ±2 indicate potential outliers.\n",
        "\n",
        "2. **Outliers**  \n",
        "   - Observations with extreme residuals that deviate significantly from the model.  \n",
        "   - Can distort results if not properly handled.\n",
        "\n",
        "3. **Influential Observations**  \n",
        "   - Data points that have a strong effect on regression coefficients.  \n",
        "   - Measured using Cook’s Distance or DFBETAS.\n",
        "\n",
        "4. **Leverage**  \n",
        "   - Measures how far an observation's independent variables deviate from the mean.  \n",
        "   - High leverage points can disproportionately affect the regression line.\n",
        "\n",
        "5. **Abnormal Residuals**  \n",
        "   - Residuals that do not follow expected distribution patterns.  \n",
        "   - May indicate model misspecification or missing variables.\n",
        "\n",
        "6. **Heteroskedasticity**  \n",
        "   - Unequal variance of residuals across levels of an independent variable.  \n",
        "   - Can be detected with a residual plot; resolved using transformations or robust standard errors.\n",
        "\n",
        "7. **Partial Residual Plot**  \n",
        "   - Visualizes the relationship between a predictor and the dependent variable after accounting for other predictors.  \n",
        "   - Helps assess linearity and detect nonlinear effects.\n",
        "\n"
      ],
      "metadata": {
        "id": "VqmOQ2iEde9o"
      }
    },
    {
      "cell_type": "markdown",
      "source": [
        "#### Exercise 4.9\n",
        "\n",
        "##### Using the regression model `house_lm`, perform the following tasks:\n",
        "\n",
        "1. **Calculate Cook's Distance** for each observation to assess influential points.  \n",
        "2. **Create a Cook's Distance plot** to visualize the influence of individual observations.  \n",
        "3. **Add a threshold line** at `4/n` (where `n` is the number of observations) to identify potentially influential points.  \n",
        "4. **Interpret the results** by determining which observations have a strong impact on the model.  \n"
      ],
      "metadata": {
        "id": "ggVH9GwXiz0X"
      }
    },
    {
      "cell_type": "code",
      "source": [
        "# Calculate Cook's Distance for each observation\n",
        "cooks_dist <- cooks.distance(house_lm)\n",
        "\n",
        "# Create a Cook's Distance plot\n",
        "plot(cooks_dist, type = \"h\", main = \"Cook's Distance Plot\",\n",
        "     ylab = \"Cook's Distance\", xlab = \"Observation Index\", col = \"blue\")\n",
        "\n",
        "# Add a horizontal threshold line (commonly 4/n, where n is the number of observations)\n",
        "abline(h = 4 / length(cooks_dist), col = \"red\", lty = 2)\n"
      ],
      "metadata": {
        "id": "0hZsII2pf8p7",
        "outputId": "33186b2f-356e-49bc-c916-cde3cb70fa45",
        "colab": {
          "base_uri": "https://localhost:8080/",
          "height": 437
        }
      },
      "execution_count": null,
      "outputs": [
        {
          "output_type": "display_data",
          "data": {
            "text/plain": [
              "Plot with title “Cook's Distance Plot”"
            ],
            "image/png": "[encoded data removed]"
          },
          "metadata": {
            "image/png": {
              "width": 420,
              "height": 420
            }
          }
        }
      ]
    },
    {
      "cell_type": "markdown",
      "source": [
        "###<a name='7'></a>Polynomial and Spline Regression"
      ],
      "metadata": {
        "id": "C9poleADlq3t"
      }
    },
    {
      "cell_type": "markdown",
      "source": [
        "\n",
        "1. **Polynomial Regression**  \n",
        "   - Extends linear regression by adding polynomial terms:  \n",
        "$ y = \\beta_0 + \\beta_1 x + \\beta_2 x^2 + \\dots + \\beta_n x^n + \\epsilon $\n",
        "   - Captures nonlinear relationships but can lead to **overfitting** at high degrees.  \n",
        "   - **Degree selection** is crucial to balance flexibility and generalization.\n",
        "\n",
        "2. **Spline Regression**  \n",
        "   - Uses piecewise polynomials to model complex relationships while avoiding overfitting.  \n",
        "   - Breakpoints (knots) divide the range into segments, fitting a polynomial in each.   \n",
        "\n",
        "3. **Comparison**  \n",
        "   - **Polynomial regression** fits a single equation to the entire range.  \n",
        "   - **Spline regression** fits different equations in subranges, improving flexibility without extreme oscillations.  \n"
      ],
      "metadata": {
        "id": "Au6b0ySqlpBw"
      }
    },
    {
      "cell_type": "markdown",
      "source": [
        "#### Exercise 4.10\n",
        "\n",
        "1. Fit a linear regression model and polynomial regression models with degrees 2, 3, and 4 to the dataset. Use the variable `SqFtTotLiving` as the independent variable and `AdjSalePrice` as the dependent variable.\n",
        "2. Compare the models using the summary statistics and plot the fitted regression lines.\n",
        "3. Evaluate which polynomial degree provides the best fit to the data by visual inspection and statistical significance.\n",
        "\n"
      ],
      "metadata": {
        "id": "ZKajHFWLn-ec"
      }
    },
    {
      "cell_type": "code",
      "source": [
        "# Load data, for example from 'data_house'\n",
        "# Selecting variables, e.g., the relationship between 'SqFtTotLiving' and 'SalePrice'\n",
        "x <- data_house$SqFtTotLiving\n",
        "y <- data_house$AdjSalePrice\n",
        "\n",
        "# 1. Linear regression\n",
        "lm_model <- lm(y ~ x)\n",
        "summary(lm_model)\n",
        "\n",
        "# 2. Polynomial regression (degree 2)\n",
        "poly2_model <- lm(y ~ poly(x, 2))  # degree 2\n",
        "summary(poly2_model)\n",
        "\n",
        "# 3. Polynomial regression (degree 3)\n",
        "poly3_model <- lm(y ~ poly(x, 3))  # degree 3\n",
        "summary(poly3_model)\n",
        "\n",
        "# 4. Polynomial regression (degree 4)\n",
        "poly4_model <- lm(y ~ poly(x, 4))  # degree 4\n",
        "summary(poly4_model)\n",
        "\n",
        "# Comparing models on a plot\n",
        "library(ggplot2)\n",
        "ggplot(data_house, aes(x = SqFtTotLiving, y = AdjSalePrice)) +\n",
        "  geom_point(color = \"blue\") +  # Scatter plot of the data points\n",
        "  geom_smooth(method = \"lm\", formula = y ~ poly(x, 1), se = FALSE, color = \"red\") +  # Degree 1 (linear)\n",
        "  geom_smooth(method = \"lm\", formula = y ~ poly(x, 2), se = FALSE, color = \"green\") +  # Degree 2 (quadratic)\n",
        "  geom_smooth(method = \"lm\", formula = y ~ poly(x, 3), se = FALSE, color = \"purple\") +  # Degree 3 (cubic)\n",
        "  geom_smooth(method = \"lm\", formula = y ~ poly(x, 4), se = FALSE, color = \"orange\") +  # Degree 4 (quartic)\n",
        "  labs(title = \"Polynomial Regression of Sale Price\",\n",
        "       x = \"Total Square Footage (SqFtTotLiving)\",\n",
        "       y = \"Adjusted Sale Price (AdjSalePrice)\")\n"
      ],
      "metadata": {
        "id": "wrzsVUJrmzH-",
        "outputId": "6de054bd-00f3-4f17-eca1-183728aed97f",
        "colab": {
          "base_uri": "https://localhost:8080/",
          "height": 1000
        }
      },
      "execution_count": null,
      "outputs": [
        {
          "output_type": "display_data",
          "data": {
            "text/plain": [
              "\n",
              "Call:\n",
              "lm(formula = y ~ x)\n",
              "\n",
              "Residuals:\n",
              "     Min       1Q   Median       3Q      Max \n",
              "-1593958  -133682   -17578    95589  9472861 \n",
              "\n",
              "Coefficients:\n",
              "              Estimate Std. Error t value            Pr(>|t|)    \n",
              "(Intercept) -44710.191   4573.553  -9.776 <0.0000000000000002 ***\n",
              "x              293.215      2.013 145.667 <0.0000000000000002 ***\n",
              "---\n",
              "Signif. codes:  0 ‘***’ 0.001 ‘**’ 0.01 ‘*’ 0.05 ‘.’ 0.1 ‘ ’ 1\n",
              "\n",
              "Residual standard error: 277100 on 22687 degrees of freedom\n",
              "Multiple R-squared:  0.4833,\tAdjusted R-squared:  0.4833 \n",
              "F-statistic: 2.122e+04 on 1 and 22687 DF,  p-value: < 0.00000000000000022\n"
            ]
          },
          "metadata": {}
        },
        {
          "output_type": "display_data",
          "data": {
            "text/plain": [
              "\n",
              "Call:\n",
              "lm(formula = y ~ poly(x, 2))\n",
              "\n",
              "Residuals:\n",
              "     Min       1Q   Median       3Q      Max \n",
              "-2684029  -113945   -24208    78404  8182276 \n",
              "\n",
              "Coefficients:\n",
              "            Estimate Std. Error t value            Pr(>|t|)    \n",
              "(Intercept)   565252       1723  328.13 <0.0000000000000002 ***\n",
              "poly(x, 2)1 40358139     259483  155.53 <0.0000000000000002 ***\n",
              "poly(x, 2)2 14628688     259483   56.38 <0.0000000000000002 ***\n",
              "---\n",
              "Signif. codes:  0 ‘***’ 0.001 ‘**’ 0.01 ‘*’ 0.05 ‘.’ 0.1 ‘ ’ 1\n",
              "\n",
              "Residual standard error: 259500 on 22686 degrees of freedom\n",
              "Multiple R-squared:  0.5468,\tAdjusted R-squared:  0.5467 \n",
              "F-statistic: 1.368e+04 on 2 and 22686 DF,  p-value: < 0.00000000000000022\n"
            ]
          },
          "metadata": {}
        },
        {
          "output_type": "display_data",
          "data": {
            "text/plain": [
              "\n",
              "Call:\n",
              "lm(formula = y ~ poly(x, 3))\n",
              "\n",
              "Residuals:\n",
              "     Min       1Q   Median       3Q      Max \n",
              "-2875920  -114618   -23761    78095  8144856 \n",
              "\n",
              "Coefficients:\n",
              "            Estimate Std. Error t value             Pr(>|t|)    \n",
              "(Intercept)   565252       1722  328.18 < 0.0000000000000002 ***\n",
              "poly(x, 3)1 40358139     259438  155.56 < 0.0000000000000002 ***\n",
              "poly(x, 3)2 14628688     259438   56.39 < 0.0000000000000002 ***\n",
              "poly(x, 3)3   770491     259438    2.97              0.00298 ** \n",
              "---\n",
              "Signif. codes:  0 ‘***’ 0.001 ‘**’ 0.01 ‘*’ 0.05 ‘.’ 0.1 ‘ ’ 1\n",
              "\n",
              "Residual standard error: 259400 on 22685 degrees of freedom\n",
              "Multiple R-squared:  0.547,\tAdjusted R-squared:  0.5469 \n",
              "F-statistic:  9129 on 3 and 22685 DF,  p-value: < 0.00000000000000022\n"
            ]
          },
          "metadata": {}
        },
        {
          "output_type": "display_data",
          "data": {
            "text/plain": [
              "\n",
              "Call:\n",
              "lm(formula = y ~ poly(x, 4))\n",
              "\n",
              "Residuals:\n",
              "     Min       1Q   Median       3Q      Max \n",
              "-2883068  -114578   -23917    78118  8147912 \n",
              "\n",
              "Coefficients:\n",
              "            Estimate Std. Error t value             Pr(>|t|)    \n",
              "(Intercept)   565252       1722 328.176 < 0.0000000000000002 ***\n",
              "poly(x, 4)1 40358139     259444 155.556 < 0.0000000000000002 ***\n",
              "poly(x, 4)2 14628688     259444  56.385 < 0.0000000000000002 ***\n",
              "poly(x, 4)3   770491     259444   2.970              0.00298 ** \n",
              "poly(x, 4)4    53955     259444   0.208              0.83526    \n",
              "---\n",
              "Signif. codes:  0 ‘***’ 0.001 ‘**’ 0.01 ‘*’ 0.05 ‘.’ 0.1 ‘ ’ 1\n",
              "\n",
              "Residual standard error: 259400 on 22684 degrees of freedom\n",
              "Multiple R-squared:  0.547,\tAdjusted R-squared:  0.5469 \n",
              "F-statistic:  6846 on 4 and 22684 DF,  p-value: < 0.00000000000000022\n"
            ]
          },
          "metadata": {}
        },
        {
          "output_type": "display_data",
          "data": {
            "text/plain": [
              "plot without title"
            ],
            "image/png": "[encoded data removed]"
          },
          "metadata": {
            "image/png": {
              "width": 420,
              "height": 420
            }
          }
        }
      ]
    }
  ]
}