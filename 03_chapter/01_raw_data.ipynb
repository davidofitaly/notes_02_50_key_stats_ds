{
  "nbformat": 4,
  "nbformat_minor": 0,
  "metadata": {
    "colab": {
      "provenance": [],
      "authorship_tag": "ABX9TyPRi6JThXrDXtWh9oOPkyIX",
      "include_colab_link": true
    },
    "kernelspec": {
      "name": "python3",
      "display_name": "Python 3"
    },
    "language_info": {
      "name": "python"
    }
  },
  "cells": [
    {
      "cell_type": "markdown",
      "metadata": {
        "id": "view-in-github",
        "colab_type": "text"
      },
      "source": [
        "<a href=\"https://colab.research.google.com/github/davidofitaly/notes_02_50_key_stats_ds/blob/main/03_chapter/01_raw_data.ipynb\" target=\"_parent\"><img src=\"https://colab.research.google.com/assets/colab-badge.svg\" alt=\"Open In Colab\"/></a>"
      ]
    },
    {
      "cell_type": "markdown",
      "source": [
        "###A/B Testing"
      ],
      "metadata": {
        "id": "vTs9rkkgjLhq"
      }
    },
    {
      "cell_type": "markdown",
      "source": [
        "#####**A/B Testing** is a statistical method used to compare two versions of a variable (A and B) to determine which one performs better. It is widely used in fields like marketing, web design, and product development to optimize user experience and outcomes.\n",
        "\n",
        "#####Key Concepts in A/B Testing\n",
        "\n",
        "1. **Hypothesis**:\n",
        "   - Define a clear hypothesis about what you expect to achieve (e.g., \"Changing the call-to-action button color will increase the click-through rate\").\n",
        "\n",
        "2. **Control and Treatment Groups**:\n",
        "   - The **Control Group** (A): Represents the original version.\n",
        "   - The **Treatment Group** (B): Represents the modified version.\n",
        "\n",
        "3. **Metric of Interest**:\n",
        "   - Identify the key performance indicator (KPI) to measure success (e.g., conversion rate, click-through rate).\n",
        "\n",
        "4. **Randomization**:\n",
        "   - Assign users randomly to either group to ensure unbiased results.\n",
        "\n",
        "5. **Sample Size**:\n",
        "   - Determine an adequate sample size to ensure statistical power and avoid misleading conclusions.\n",
        "\n",
        "#####Steps in A/B Testing\n",
        "\n",
        "1. **Define Objectives**:\n",
        "   - Determine what you want to test and the metrics you'll use to evaluate success.\n",
        "\n",
        "2. **Design the Experiment**:\n",
        "   - Create versions A and B.\n",
        "   - Decide how to split traffic between them (typically 50/50).\n",
        "\n",
        "3. **Run the Test**:\n",
        "   - Collect data over a defined period to ensure meaningful results.\n",
        "\n",
        "4. **Analyze Results**:\n",
        "   - Use statistical tests (e.g., t-tests) to compare metrics for A and B.\n",
        "   - Check for statistical significance to confirm differences are not due to random chance.\n",
        "\n",
        "5. **Draw Conclusions**:\n",
        "   - If version B performs better, implement the changes.\n",
        "   - If no significant difference is observed, consider revising the experiment.\n",
        "\n",
        "#####Statistical Analysis in A/B Testing\n",
        "\n",
        "1. **Null and Alternative Hypotheses**:\n",
        "   - Null Hypothesis ($H_0$): There is no difference between A and B.\n",
        "   - Alternative Hypothesis ($H_1$): There is a difference between A and B.\n",
        "\n",
        "2. **Significance Level ($\\alpha$)**:\n",
        "   - Commonly set at 0.05 (5%), meaning there’s a 5% chance of rejecting $H_0$ when it’s true.\n",
        "\n",
        "3. **P-value**:\n",
        "   - The probability of observing the results if $H_0$ is true.\n",
        "   - If $p \\leq \\alpha$, reject the null hypothesis.\n",
        "\n",
        "4. **Effect Size**:\n",
        "   - Measure the magnitude of the difference between groups to determine its practical importance.\n",
        "\n",
        "#####Example of A/B Testing\n",
        "\n",
        "**Scenario**: A company tests two versions of a landing page:\n",
        "- Version A: The original design.\n",
        "- Version B: A redesigned page with a new headline.\n",
        "\n",
        "**Metric**: Conversion rate (percentage of users who sign up).\n",
        "\n",
        "**Results**:\n",
        "- Conversion Rate for A: 10%.\n",
        "- Conversion Rate for B: 12%.\n",
        "- Using a t-test, the p-value is calculated as 0.03.\n",
        "\n",
        "**Conclusion**: Since $p = 0.03 < 0.05$, reject $H_0$ and conclude that version B significantly increases the conversion rate.\n",
        "\n"
      ],
      "metadata": {
        "id": "tvDNmCytjEJv"
      }
    },
    {
      "cell_type": "markdown",
      "source": [
        "###Hypothesis Testing"
      ],
      "metadata": {
        "id": "G0mSoh0hna5n"
      }
    },
    {
      "cell_type": "markdown",
      "source": [
        "#####Hypothesis testing is a statistical method used to make inferences or draw conclusions about a population based on sample data. It involves formulating and testing assumptions, known as hypotheses.\n",
        "\n",
        "#####Key Components of Hypothesis Testing\n",
        "\n",
        "1. **Null Hypothesis ($H_0$)**:\n",
        "   - Represents the default assumption.\n",
        "   - It assumes that there is no effect, no difference, or no relationship between variables.\n",
        "   - Example: \"$H_0$: The new drug has no effect on blood pressure compared to the placebo.\"\n",
        "\n",
        "2. **Alternative Hypothesis ($H_1$)**:\n",
        "   - Represents the assumption contrary to the null hypothesis.\n",
        "   - It assumes that there is an effect, a difference, or a relationship between variables.\n",
        "   - Example: \"$H_1$: The new drug reduces blood pressure compared to the placebo.\"\n",
        "\n",
        "#####Types of Hypothesis Tests\n",
        "\n",
        "1. **One-Tailed Test (One-Sided Test)**:\n",
        "   - Used when the alternative hypothesis specifies the direction of the effect or difference.\n",
        "   - Example: \"$H_1$: The new website design increases conversion rates compared to the old design.\"\n",
        "   - In this case, you only test for an **increase**.\n",
        "\n",
        "2. **Two-Tailed Test (Two-Sided Test)**:\n",
        "   - Used when the alternative hypothesis does not specify the direction of the effect or difference.\n",
        "   - Example: \"$H_1$: The new website design results in a different conversion rate compared to the old design.\"\n",
        "   - In this case, you test for both an **increase** and a **decrease**.\n",
        "\n",
        "#####Steps in Hypothesis Testing\n",
        "\n",
        "1. **State the Hypotheses**:\n",
        "   - Define the null hypothesis ($H_0$) and alternative hypothesis ($H_1$).\n",
        "\n",
        "2. **Choose a Significance Level ($\\alpha$)**:\n",
        "   - Commonly set at 0.05 (5%), meaning there is a 5% chance of rejecting $H_0$ when it is true.\n",
        "\n",
        "3. **Select the Appropriate Test**:\n",
        "   - Depending on the data and hypothesis, choose a statistical test (e.g., t-test, z-test, chi-square test).\n",
        "\n",
        "4. **Calculate the Test Statistic**:\n",
        "   - Compute the value based on the sample data.\n",
        "\n",
        "5. **Determine the P-value or Critical Value**:\n",
        "   - The **p-value** indicates the probability of observing the data if $H_0$ is true.\n",
        "   - Compare the p-value with $\\alpha$ to decide whether to reject $H_0$.\n",
        "\n",
        "6. **Draw a Conclusion**:\n",
        "   - If $p \\leq \\alpha$, reject $H_0$ (evidence supports $H_1$).\n",
        "   - If $p > \\alpha$, fail to reject $H_0$ (insufficient evidence to support $H_1$).\n",
        "\n",
        "#####One-Tailed vs. Two-Tailed Example\n",
        "\n",
        "**Scenario**: A factory claims that its light bulbs last 1000 hours on average. You want to test this claim.\n",
        "\n",
        "- **One-Tailed Test**:\n",
        "  - $H_0$: The mean lifespan is $\\geq$ 1000 hours.\n",
        "  - $H_1$: The mean lifespan is < 1000 hours.\n",
        "  - Use this if you only care whether the bulbs last **less** than 1000 hours.\n",
        "\n",
        "- **Two-Tailed Test**:\n",
        "  - $H_0$: The mean lifespan is 1000 hours.\n",
        "  - $H_1$: The mean lifespan is not 1000 hours.\n",
        "  - Use this if you care whether the bulbs last **more** or **less** than 1000 hours.\n",
        "\n",
        "\n"
      ],
      "metadata": {
        "id": "s2t5mFe7nNv6"
      }
    },
    {
      "cell_type": "code",
      "execution_count": null,
      "metadata": {
        "id": "zwiHmNmpjBQl"
      },
      "outputs": [],
      "source": []
    }
  ]
}