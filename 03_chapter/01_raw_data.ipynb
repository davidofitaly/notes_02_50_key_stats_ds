{
  "nbformat": 4,
  "nbformat_minor": 0,
  "metadata": {
    "colab": {
      "provenance": [],
      "authorship_tag": "ABX9TyPHRDx5guNFkSRzY3bhiBSz",
      "include_colab_link": true
    },
    "kernelspec": {
      "name": "ir",
      "display_name": "R"
    },
    "language_info": {
      "name": "R"
    }
  },
  "cells": [
    {
      "cell_type": "markdown",
      "metadata": {
        "id": "view-in-github",
        "colab_type": "text"
      },
      "source": [
        "<a href=\"https://colab.research.google.com/github/davidofitaly/notes_02_50_key_stats_ds/blob/main/03_chapter/01_raw_data.ipynb\" target=\"_parent\"><img src=\"https://colab.research.google.com/assets/colab-badge.svg\" alt=\"Open In Colab\"/></a>"
      ]
    },
    {
      "cell_type": "markdown",
      "source": [
        "###A/B Testing"
      ],
      "metadata": {
        "id": "vTs9rkkgjLhq"
      }
    },
    {
      "cell_type": "markdown",
      "source": [
        "#####**A/B Testing** is a statistical method used to compare two versions of a variable (A and B) to determine which one performs better. It is widely used in fields like marketing, web design, and product development to optimize user experience and outcomes.\n",
        "\n",
        "#####Key Concepts in A/B Testing\n",
        "\n",
        "1. **Hypothesis**:\n",
        "   - Define a clear hypothesis about what you expect to achieve (e.g., \"Changing the call-to-action button color will increase the click-through rate\").\n",
        "\n",
        "2. **Control and Treatment Groups**:\n",
        "   - The **Control Group** (A): Represents the original version.\n",
        "   - The **Treatment Group** (B): Represents the modified version.\n",
        "\n",
        "3. **Metric of Interest**:\n",
        "   - Identify the key performance indicator (KPI) to measure success (e.g., conversion rate, click-through rate).\n",
        "\n",
        "4. **Randomization**:\n",
        "   - Assign users randomly to either group to ensure unbiased results.\n",
        "\n",
        "5. **Sample Size**:\n",
        "   - Determine an adequate sample size to ensure statistical power and avoid misleading conclusions.\n",
        "\n",
        "#####Steps in A/B Testing\n",
        "\n",
        "1. **Define Objectives**:\n",
        "   - Determine what you want to test and the metrics you'll use to evaluate success.\n",
        "\n",
        "2. **Design the Experiment**:\n",
        "   - Create versions A and B.\n",
        "   - Decide how to split traffic between them (typically 50/50).\n",
        "\n",
        "3. **Run the Test**:\n",
        "   - Collect data over a defined period to ensure meaningful results.\n",
        "\n",
        "4. **Analyze Results**:\n",
        "   - Use statistical tests (e.g., t-tests) to compare metrics for A and B.\n",
        "   - Check for statistical significance to confirm differences are not due to random chance.\n",
        "\n",
        "5. **Draw Conclusions**:\n",
        "   - If version B performs better, implement the changes.\n",
        "   - If no significant difference is observed, consider revising the experiment.\n",
        "\n",
        "#####Statistical Analysis in A/B Testing\n",
        "\n",
        "1. **Null and Alternative Hypotheses**:\n",
        "   - Null Hypothesis ($H_0$): There is no difference between A and B.\n",
        "   - Alternative Hypothesis ($H_1$): There is a difference between A and B.\n",
        "\n",
        "2. **Significance Level ($\\alpha$)**:\n",
        "   - Commonly set at 0.05 (5%), meaning there’s a 5% chance of rejecting $H_0$ when it’s true.\n",
        "\n",
        "3. **P-value**:\n",
        "   - The probability of observing the results if $H_0$ is true.\n",
        "   - If $p \\leq \\alpha$, reject the null hypothesis.\n",
        "\n",
        "4. **Effect Size**:\n",
        "   - Measure the magnitude of the difference between groups to determine its practical importance.\n",
        "\n",
        "#####Example of A/B Testing\n",
        "\n",
        "**Scenario**: A company tests two versions of a landing page:\n",
        "- Version A: The original design.\n",
        "- Version B: A redesigned page with a new headline.\n",
        "\n",
        "**Metric**: Conversion rate (percentage of users who sign up).\n",
        "\n",
        "**Results**:\n",
        "- Conversion Rate for A: 10%.\n",
        "- Conversion Rate for B: 12%.\n",
        "- Using a t-test, the p-value is calculated as 0.03.\n",
        "\n",
        "**Conclusion**: Since $p = 0.03 < 0.05$, reject $H_0$ and conclude that version B significantly increases the conversion rate.\n",
        "\n"
      ],
      "metadata": {
        "id": "tvDNmCytjEJv"
      }
    },
    {
      "cell_type": "markdown",
      "source": [
        "###Hypothesis Testing"
      ],
      "metadata": {
        "id": "G0mSoh0hna5n"
      }
    },
    {
      "cell_type": "markdown",
      "source": [
        "#####Hypothesis testing is a statistical method used to make inferences or draw conclusions about a population based on sample data. It involves formulating and testing assumptions, known as hypotheses.\n",
        "\n",
        "#####Key Components of Hypothesis Testing\n",
        "\n",
        "1. **Null Hypothesis ($H_0$)**:\n",
        "   - Represents the default assumption.\n",
        "   - It assumes that there is no effect, no difference, or no relationship between variables.\n",
        "   - Example: \"$H_0$: The new drug has no effect on blood pressure compared to the placebo.\"\n",
        "\n",
        "2. **Alternative Hypothesis ($H_1$)**:\n",
        "   - Represents the assumption contrary to the null hypothesis.\n",
        "   - It assumes that there is an effect, a difference, or a relationship between variables.\n",
        "   - Example: \"$H_1$: The new drug reduces blood pressure compared to the placebo.\"\n",
        "\n",
        "#####Types of Hypothesis Tests\n",
        "\n",
        "1. **One-Tailed Test (One-Sided Test)**:\n",
        "   - Used when the alternative hypothesis specifies the direction of the effect or difference.\n",
        "   - Example: \"$H_1$: The new website design increases conversion rates compared to the old design.\"\n",
        "   - In this case, you only test for an **increase**.\n",
        "\n",
        "2. **Two-Tailed Test (Two-Sided Test)**:\n",
        "   - Used when the alternative hypothesis does not specify the direction of the effect or difference.\n",
        "   - Example: \"$H_1$: The new website design results in a different conversion rate compared to the old design.\"\n",
        "   - In this case, you test for both an **increase** and a **decrease**.\n",
        "\n",
        "#####Steps in Hypothesis Testing\n",
        "\n",
        "1. **State the Hypotheses**:\n",
        "   - Define the null hypothesis ($H_0$) and alternative hypothesis ($H_1$).\n",
        "\n",
        "2. **Choose a Significance Level ($\\alpha$)**:\n",
        "   - Commonly set at 0.05 (5%), meaning there is a 5% chance of rejecting $H_0$ when it is true.\n",
        "\n",
        "3. **Select the Appropriate Test**:\n",
        "   - Depending on the data and hypothesis, choose a statistical test (e.g., t-test, z-test, chi-square test).\n",
        "\n",
        "4. **Calculate the Test Statistic**:\n",
        "   - Compute the value based on the sample data.\n",
        "\n",
        "5. **Determine the P-value or Critical Value**:\n",
        "   - The **p-value** indicates the probability of observing the data if $H_0$ is true.\n",
        "   - Compare the p-value with $\\alpha$ to decide whether to reject $H_0$.\n",
        "\n",
        "6. **Draw a Conclusion**:\n",
        "   - If $p \\leq \\alpha$, reject $H_0$ (evidence supports $H_1$).\n",
        "   - If $p > \\alpha$, fail to reject $H_0$ (insufficient evidence to support $H_1$).\n",
        "\n",
        "#####One-Tailed vs. Two-Tailed Example\n",
        "\n",
        "**Scenario**: A factory claims that its light bulbs last 1000 hours on average. You want to test this claim.\n",
        "\n",
        "- **One-Tailed Test**:\n",
        "  - $H_0$: The mean lifespan is $\\geq$ 1000 hours.\n",
        "  - $H_1$: The mean lifespan is < 1000 hours.\n",
        "  - Use this if you only care whether the bulbs last **less** than 1000 hours.\n",
        "\n",
        "- **Two-Tailed Test**:\n",
        "  - $H_0$: The mean lifespan is 1000 hours.\n",
        "  - $H_1$: The mean lifespan is not 1000 hours.\n",
        "  - Use this if you care whether the bulbs last **more** or **less** than 1000 hours.\n",
        "\n",
        "\n"
      ],
      "metadata": {
        "id": "s2t5mFe7nNv6"
      }
    },
    {
      "cell_type": "markdown",
      "source": [
        "###Randomization Tests"
      ],
      "metadata": {
        "id": "tCifQJBMYUsk"
      }
    },
    {
      "cell_type": "markdown",
      "source": [
        "#####Randomization tests are non-parametric methods used to evaluate hypotheses by leveraging randomization or permutation techniques. They are particularly useful when standard statistical assumptions (e.g., normality) are not met.\n",
        "\n",
        "##### Permutation Test\n",
        "\n",
        "Assesses group differences by shuffling data labels to create a null distribution.\n",
        "\n",
        "Steps:\n",
        "1. Compute the observed test statistic (e.g., mean difference).  \n",
        "2. Randomly shuffle labels and recompute the statistic.  \n",
        "3. Compare the observed statistic to the null distribution.\n",
        "\n",
        "p-Value:\n",
        "$$\n",
        "p = \\frac{\\text{Count of extreme statistics}}{\\text{Total permutations}}\n",
        "$$\n",
        "\n",
        "##### Randomization Test\n",
        "\n",
        "Evaluates hypotheses by randomly assigning data to groups and generating a reference distribution.\n",
        "\n",
        "Steps:\n",
        "1. Randomly assign observations to groups.  \n",
        "2. Compute the test statistic for each randomization.  \n",
        "3. Compare the observed statistic to the reference distribution.\n"
      ],
      "metadata": {
        "id": "-rYAmQIvYQjh"
      }
    },
    {
      "cell_type": "markdown",
      "source": [
        "#### Exercise 3.1\n",
        "\n",
        "Given two groups of data, `group1` and `group2`, perform a **permutation test** to assess whether the observed difference in means is statistically significant.\n",
        "\n",
        "1. Generate two random samples of 10 values each from a normal distribution: `group1` (mean = 5, standard deviation = 1) and `group2` (mean = 6, standard deviation = 1).\n",
        "2. Compute the observed mean difference between `group1` and `group2`.\n",
        "3. Perform a permutation test with 10,000 permutations:\n",
        "   - Randomly shuffle the data and split it into two new groups for each permutation.\n",
        "   - Compute the mean difference for each permutation.\n",
        "4. Calculate the p-value based on how extreme the observed mean difference is in the context of the permutation distribution.\n",
        "5. Display the observed mean difference, p-value, and a histogram of the permutation distribution.\n"
      ],
      "metadata": {
        "id": "R5PLWVCWa-8Y"
      }
    },
    {
      "cell_type": "code",
      "execution_count": null,
      "metadata": {
        "id": "zwiHmNmpjBQl",
        "outputId": "4ce1579d-f9b7-4f9d-8b09-0361b84536e0",
        "colab": {
          "base_uri": "https://localhost:8080/",
          "height": 472
        }
      },
      "outputs": [
        {
          "output_type": "stream",
          "name": "stdout",
          "text": [
            "Observed Mean Difference: -0.2892465 \n",
            "P-value: 0.6235 \n"
          ]
        },
        {
          "output_type": "display_data",
          "data": {
            "text/plain": [
              "Plot with title “Permutation Test”"
            ],
            "image/png": "[encoded data removed]"
          },
          "metadata": {
            "image/png": {
              "width": 420,
              "height": 420
            }
          }
        }
      ],
      "source": [
        "# Generate sample data\n",
        "set.seed(42)\n",
        "group1 <- rnorm(10, mean = 5, sd = 1)  # Group 1 (mean = 5)\n",
        "group2 <- rnorm(10, mean = 6, sd = 1)  # Group 2 (mean = 6)\n",
        "\n",
        "# Observed statistic: Difference in means\n",
        "obs_diff <- mean(group1) - mean(group2)\n",
        "\n",
        "# Combine data\n",
        "combined <- c(group1, group2)\n",
        "n <- length(group1)\n",
        "\n",
        "# Perform permutation test\n",
        "n_permutations <- 10000\n",
        "perm_diff <- numeric(n_permutations)\n",
        "\n",
        "for (i in 1:n_permutations) {\n",
        "  permuted <- sample(combined)  # Shuffle combined data\n",
        "  perm_group1 <- permuted[1:n]  # Split into groups\n",
        "  perm_group2 <- permuted[(n + 1):length(combined)]\n",
        "  perm_diff[i] <- mean(perm_group1) - mean(perm_group2)\n",
        "}\n",
        "\n",
        "# Calculate p-value\n",
        "p_value <- mean(abs(perm_diff) >= abs(obs_diff))\n",
        "\n",
        "# Results\n",
        "cat(\"Observed Mean Difference:\", obs_diff, \"\\n\")\n",
        "cat(\"P-value:\", p_value, \"\\n\")\n",
        "\n",
        "# Plot permutation distribution\n",
        "hist(perm_diff, breaks = 30, main = \"Permutation Test\",\n",
        "     xlab = \"Mean Difference\", col = \"lightblue\", border = \"white\")\n",
        "abline(v = obs_diff, col = \"red\", lwd = 2, lty = 2)  # Observed value\n"
      ]
    },
    {
      "cell_type": "markdown",
      "source": [
        "### Statistical Significance and p-Value"
      ],
      "metadata": {
        "id": "qS5sJx6XeqaC"
      }
    },
    {
      "cell_type": "markdown",
      "source": [
        "#####Statistical significance helps determine if an observed effect is likely genuine or due to chance. It is commonly evaluated using the **p-value** and a pre-set **alpha (α)** level.\n",
        "\n",
        "##### 1. p-Value\n",
        "The **p-value** is the probability of observing the data (or something more extreme) under the null hypothesis.\n",
        "\n",
        "- **p < 0.05**: Reject the null hypothesis (statistically significant).\n",
        "- **p ≥ 0.05**: Fail to reject the null hypothesis (not significant).\n",
        "\n",
        "##### 2. Alpha (α)\n",
        "**Alpha (α)** is the threshold for significance, typically set at 0.05. It represents the risk of rejecting the null hypothesis when it is true (Type I error).\n",
        "\n",
        "##### 3. Type I Error (False Positive)\n",
        "Occurs when we incorrectly reject the null hypothesis that is true. The probability of a Type I error is **α**.\n",
        "\n",
        "##### 4. Type II Error (False Negative)\n",
        "Occurs when we fail to reject the null hypothesis when it is false. The probability of a Type II error is **β**.\n",
        "\n",
        "##### Summary\n",
        "- **p-value**: Probability of observing data under the null hypothesis.\n",
        "- **α**: Significance level, the cutoff for rejection.\n",
        "- **Type I error**: False positive (rejecting a true null hypothesis).\n",
        "- **Type II error**: False negative (failing to reject a false null hypothesis).\n"
      ],
      "metadata": {
        "id": "u5ZwF4RveoU-"
      }
    },
    {
      "cell_type": "markdown",
      "source": [
        "### Student's t-Test"
      ],
      "metadata": {
        "id": "yHoLb2Y6k0Kv"
      }
    },
    {
      "cell_type": "markdown",
      "source": [
        "#####The Student's t-test is used to compare means between groups when the sample size is small and the population standard deviation is unknown.\n",
        "\n",
        "##### 1. Test Statistic\n",
        "\n",
        "The test statistic in the t-test (t-statistic) measures how far the sample mean is from the population mean, expressed in terms of the standard error. It is calculated using the following formula:\n",
        "\n",
        "$$\n",
        "t = \\frac{\\bar{x} - \\mu}{s / \\sqrt{n}}\n",
        "$$\n",
        "\n",
        "Where:\n",
        "- $\\bar{x}$ is the sample mean,\n",
        "- $\\mu$ is the population mean (the value being tested),\n",
        "- $s$ is the sample standard deviation,\n",
        "- $n$ is the sample size.\n",
        "\n",
        "##### 2. t-Statistic\n",
        "\n",
        "The t-statistic indicates how large the difference is between the sample mean and the population mean in relation to the variability in the data. The larger the t-statistic, the more significant the difference is.\n",
        "\n",
        "- **Interpretation**:\n",
        "  - The higher the t-value, the more likely the difference between the means is statistically significant.\n",
        "  - If the t-value is close to 0, it suggests the sample mean is close to the population mean.\n",
        "\n",
        "##### 3. t-Distribution\n",
        "\n",
        "The Student's t-distribution is used to evaluate the t-statistic in tests with small samples. It has **heavier tails** compared to the normal distribution, which accounts for the greater variability in small sample estimates.\n",
        "\n",
        "- **Degrees of Freedom (df)**: The t-distribution is characterized by degrees of freedom, calculated as:\n",
        "\n",
        "  $$\n",
        "  df = n - 1\n",
        "  $$\n",
        "\n",
        "  Where $n$ is the sample size. As the degrees of freedom increase, the t-distribution approaches the normal distribution.\n",
        "\n",
        "- **Using the t-distribution**: In the t-test, the t-statistic is compared to a critical value from the t-distribution to decide whether to reject the null hypothesis.\n",
        "\n"
      ],
      "metadata": {
        "id": "DRWIRVBMkxSy"
      }
    },
    {
      "cell_type": "markdown",
      "source": [
        "#### Exercise 3.2\n",
        "\n",
        "Given two related groups of data, `pre_intervention` and `post_intervention`, perform a **paired t-test** to determine whether the observed difference in means is statistically significant.\n",
        "\n",
        "1. Generate two sets of data representing scores before and after an intervention: `pre_intervention` and `post_intervention`.\n",
        "2. Perform a paired t-test to compare the means of the two groups.\n",
        "3. Calculate the observed mean difference between the two groups.\n",
        "4. Display the t-statistic, p-value, 95% confidence interval for the mean difference, and the observed mean difference.\n",
        "5. Interpret the results in terms of statistical significance based on the p-value.\n"
      ],
      "metadata": {
        "id": "1SDAuQ2In5t1"
      }
    },
    {
      "cell_type": "code",
      "source": [
        "# Data: scores before and after the intervention\n",
        "pre_intervention <- c(75, 80, 85, 70, 78, 82, 74, 79, 77, 80)\n",
        "post_intervention <- c(80, 85, 88, 75, 85, 87, 81, 84, 82, 85)\n",
        "\n",
        "# Perform the paired t-test\n",
        "t_test_result <- t.test(pre_intervention, post_intervention, paired = TRUE)\n",
        "\n",
        "# Display the results\n",
        "print(t_test_result)"
      ],
      "metadata": {
        "id": "7V8VeQKhnObd",
        "outputId": "517c7cbe-9ea1-4db4-e4bc-43f88a6f7b72",
        "colab": {
          "base_uri": "https://localhost:8080/"
        }
      },
      "execution_count": null,
      "outputs": [
        {
          "output_type": "stream",
          "name": "stdout",
          "text": [
            "\n",
            "\tPaired t-test\n",
            "\n",
            "data:  pre_intervention and post_intervention\n",
            "t = -14.484, df = 9, p-value = 1.528e-07\n",
            "alternative hypothesis: true mean difference is not equal to 0\n",
            "95 percent confidence interval:\n",
            " -6.012139 -4.387861\n",
            "sample estimates:\n",
            "mean difference \n",
            "           -5.2 \n",
            "\n"
          ]
        }
      ]
    },
    {
      "cell_type": "markdown",
      "source": [
        "### ANOVA (Analysis of Variance)"
      ],
      "metadata": {
        "id": "Vxk0bYEYvrM6"
      }
    },
    {
      "cell_type": "markdown",
      "source": [
        "#####ANOVA is a statistical method used to compare the means of three or more groups to determine if at least one group mean differs significantly.\n",
        "\n",
        "##### Key Concepts\n",
        "\n",
        "1. **Null Hypothesis ($H_0$)**: All group means are equal.\n",
        "2. **Alternative Hypothesis ($H_a$)**: At least one group mean is different.\n",
        "3. **F-statistic**: Measures the ratio of variance between groups to variance within groups.\n",
        "   $$\n",
        "   F = \\frac{\\text{Between-group variance}}{\\text{Within-group variance}}\n",
        "   $$\n",
        "4. **P-value**: Determines the significance of the F-statistic.\n",
        "\n",
        "##### Assumptions\n",
        "- Independence of observations.\n",
        "- Normally distributed data.\n",
        "- Homogeneity of variances."
      ],
      "metadata": {
        "id": "S2ONem0ivpmA"
      }
    },
    {
      "cell_type": "markdown",
      "source": [
        "#### Exercise 3.3\n",
        "\n",
        "Conduct a one-way **ANOVA** test to determine if there is a significant difference in means between three groups.\n",
        "\n",
        "1. Generate three groups of data (`group1`, `group2`, `group3`) with 10 values each, drawn from normal distributions with different means (e.g., 5, 6, and 7) and the same standard deviation (e.g., 1).\n",
        "2. Perform a one-way ANOVA test to compare the means of the three groups.\n",
        "3. Display the F-statistic, p-value, and a summary of the ANOVA table.\n",
        "4. Interpret the results in terms of statistical significance based on the p-value.\n"
      ],
      "metadata": {
        "id": "tpCIOyROwd_U"
      }
    },
    {
      "cell_type": "code",
      "source": [
        "# Step 1: Generate data for three groups\n",
        "set.seed(123)  # For reproducibility\n",
        "group1 <- rnorm(10, mean = 5, sd = 1)\n",
        "group2 <- rnorm(10, mean = 6, sd = 1)\n",
        "group3 <- rnorm(10, mean = 7, sd = 1)\n",
        "\n",
        "# Combine data into one dataset with group labels\n",
        "data <- data.frame(\n",
        "  values = c(group1, group2, group3),\n",
        "  group = factor(rep(c(\"Group 1\", \"Group 2\", \"Group 3\"), each = 10))\n",
        ")\n",
        "\n",
        "# Step 2: Perform one-way ANOVA\n",
        "anova_result <- aov(values ~ group, data = data)\n",
        "\n",
        "# Step 3: Display ANOVA summary\n",
        "summary(anova_result)\n",
        "\n",
        "# Step 4: Interpretation\n",
        "if (summary(anova_result)[[1]]$`Pr(>F)`[1] < 0.05) {\n",
        "  cat(\"The p-value is less than 0.05, indicating a significant difference between the group means.\\n\")\n",
        "} else {\n",
        "  cat(\"The p-value is greater than 0.05, indicating no significant difference between the group means.\\n\")\n",
        "}\n"
      ],
      "metadata": {
        "id": "QKljw3fVw3W5",
        "outputId": "2c03b7ea-e845-4d92-b44f-e619fc798174",
        "colab": {
          "base_uri": "https://localhost:8080/",
          "height": 121
        }
      },
      "execution_count": null,
      "outputs": [
        {
          "output_type": "display_data",
          "data": {
            "text/plain": [
              "            Df Sum Sq Mean Sq F value  Pr(>F)   \n",
              "group        2  12.24   6.122   6.435 0.00518 **\n",
              "Residuals   27  25.68   0.951                   \n",
              "---\n",
              "Signif. codes:  0 ‘***’ 0.001 ‘**’ 0.01 ‘*’ 0.05 ‘.’ 0.1 ‘ ’ 1"
            ]
          },
          "metadata": {}
        },
        {
          "output_type": "stream",
          "name": "stdout",
          "text": [
            "The p-value is less than 0.05, indicating a significant difference between the group means.\n"
          ]
        }
      ]
    },
    {
      "cell_type": "markdown",
      "source": [
        "### Chi-Square Test"
      ],
      "metadata": {
        "id": "ZfbchpSg_FfN"
      }
    },
    {
      "cell_type": "markdown",
      "source": [
        "#####The **chi-square test** is used to evaluate whether there is a significant association between categorical variables or whether observed frequencies differ from expected frequencies.\n",
        "\n",
        "##### Key Concepts:\n",
        "\n",
        "1. **Chi-Square Statistic**:\n",
        "   - The formula for the chi-square statistic is:\n",
        "     $$ \\chi^2 = \\sum \\frac{(O - E)^2}{E} $$\n",
        "   - Where:\n",
        "     - $O$: Observed frequency,\n",
        "     - $E$: Expected frequency.\n",
        "   - This statistic quantifies the discrepancy between observed and expected data.\n",
        "\n",
        "2. **Degrees of Freedom (df)**:\n",
        "   - For a contingency table, degrees of freedom are calculated as:\n",
        "     $$ df = (r - 1) \\times (c - 1) $$\n",
        "   - Where $r$ is the number of rows and $c$ is the number of columns.\n",
        "\n",
        "3. **Interpretation**:\n",
        "   - A larger $\\chi^2$ value indicates greater differences between observed and expected frequencies.\n",
        "   - The p-value determines the statistical significance of the result:\n",
        "     - If $p < \\alpha$ (e.g., 0.05), reject the null hypothesis, indicating a significant relationship.\n",
        "\n",
        "\n",
        "\n",
        "##### Fisher's Exact Test\n",
        "- An alternative to the chi-square test for small sample sizes or when expected frequencies are very low (< 5).\n",
        "- Provides an exact p-value for testing independence between categorical variables.\n",
        "\n",
        "\n",
        "##### Pearson Residuals\n",
        "- Residuals measure the contribution of each cell to the chi-square statistic:\n",
        "  $$ \\text{Residual} = \\frac{O - E}{\\sqrt{E}} $$\n",
        "- Useful for identifying which cells deviate most from the expected values.\n",
        "\n"
      ],
      "metadata": {
        "id": "N9-OyZqg-_d7"
      }
    },
    {
      "cell_type": "markdown",
      "source": [
        "#### Exercise 3.4\n",
        "\n",
        "#####Use the **chi-square test** to determine if there is an association between two categorical variables in a dataset.\n",
        "\n",
        "1. Create a contingency table for two variables: **Age Group** (e.g., \"Young,\" \"Middle-aged,\" \"Senior\") and **Preference** (e.g., \"Product A,\" \"Product B\").\n",
        "2. Perform a chi-square test of independence using the contingency table.\n",
        "3. Report the chi-square statistic, degrees of freedom, and p-value.\n",
        "4. Interpret the results to determine if the variables are independent or associated."
      ],
      "metadata": {
        "id": "aeRisueHDKYN"
      }
    },
    {
      "cell_type": "code",
      "source": [
        "# Create a contingency table\n",
        "age_group <- c(\"Young\", \"Middle-aged\", \"Senior\")\n",
        "preference <- c(\"Product A\", \"Product B\")\n",
        "\n",
        "# Frequency data: rows = Age Group, columns = Preference\n",
        "data <- matrix(c(30, 20, 25, 35, 20, 40),\n",
        "               nrow = 3,\n",
        "               byrow = TRUE,\n",
        "               dimnames = list(AgeGroup = age_group, Preference = preference))\n",
        "\n",
        "# Print the contingency table\n",
        "print(\"Contingency Table:\")\n",
        "print(data)\n",
        "\n",
        "# Perform the chi-square test\n",
        "chi_sq_result <- chisq.test(data)\n",
        "\n",
        "# Display the results\n",
        "print(\"Chi-Square Test Results:\")\n",
        "print(chi_sq_result)\n",
        "\n",
        "# Visualize the table with proportions\n",
        "prop_table <- prop.table(data, margin = 1)  # Row-wise proportions\n",
        "print(\"Row-Wise Proportions:\")\n",
        "print(prop_table)\n"
      ],
      "metadata": {
        "id": "2WJwnbZbC8SG",
        "outputId": "462b6a48-541d-4e1c-8b66-9522bd17f523",
        "colab": {
          "base_uri": "https://localhost:8080/"
        }
      },
      "execution_count": 5,
      "outputs": [
        {
          "output_type": "stream",
          "name": "stdout",
          "text": [
            "[1] \"Contingency Table:\"\n",
            "             Preference\n",
            "AgeGroup      Product A Product B\n",
            "  Young              30        20\n",
            "  Middle-aged        25        35\n",
            "  Senior             20        40\n",
            "[1] \"Chi-Square Test Results:\"\n",
            "\n",
            "\tPearson's Chi-squared test\n",
            "\n",
            "data:  data\n",
            "X-squared = 8.0924, df = 2, p-value = 0.01749\n",
            "\n",
            "[1] \"Row-Wise Proportions:\"\n",
            "             Preference\n",
            "AgeGroup      Product A Product B\n",
            "  Young       0.6000000 0.4000000\n",
            "  Middle-aged 0.4166667 0.5833333\n",
            "  Senior      0.3333333 0.6666667\n"
          ]
        }
      ]
    }
  ]
}