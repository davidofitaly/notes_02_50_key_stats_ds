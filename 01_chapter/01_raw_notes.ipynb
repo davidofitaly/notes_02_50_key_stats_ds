{
  "nbformat": 4,
  "nbformat_minor": 0,
  "metadata": {
    "colab": {
      "provenance": [],
      "authorship_tag": "ABX9TyMO3JYeQCvZ+++wo54Rvp6P",
      "include_colab_link": true
    },
    "kernelspec": {
      "name": "ir",
      "display_name": "R"
    },
    "language_info": {
      "name": "R"
    }
  },
  "cells": [
    {
      "cell_type": "markdown",
      "metadata": {
        "id": "view-in-github",
        "colab_type": "text"
      },
      "source": [
        "<a href=\"https://colab.research.google.com/github/davidofitaly/notes_02_50_key_stats_ds/blob/main/01_chapter/01_raw_notes.ipynb\" target=\"_parent\"><img src=\"https://colab.research.google.com/assets/colab-badge.svg\" alt=\"Open In Colab\"/></a>"
      ]
    },
    {
      "cell_type": "code",
      "source": [
        "install.packages(\"matrixStats\")\n",
        "library(matrixStats)"
      ],
      "metadata": {
        "id": "LwaVg3ct4PRb",
        "outputId": "f156577e-0a70-4943-d69a-de61746b7eec",
        "colab": {
          "base_uri": "https://localhost:8080/"
        }
      },
      "execution_count": 1,
      "outputs": [
        {
          "output_type": "stream",
          "name": "stderr",
          "text": [
            "Installing package into ‘/usr/local/lib/R/site-library’\n",
            "(as ‘lib’ is unspecified)\n",
            "\n"
          ]
        }
      ]
    },
    {
      "cell_type": "markdown",
      "source": [
        "###Ordered Data Elements  "
      ],
      "metadata": {
        "id": "gWlGzRydTZBJ"
      }
    },
    {
      "cell_type": "markdown",
      "source": [
        "#####In data analysis, **ordered data** refers to elements that can be arranged in a meaningful sequence. Data is often categorized into two main types: **numerical** and **categorical**.\n",
        "\n",
        "##### Types of Data:\n",
        "- **Numerical Data** (quantitative):  \n",
        "  - Represents measurable quantities.  \n",
        "  - Subtypes:  \n",
        "    - **Continuous:** Can take any value within a range (e.g., height, weight).  \n",
        "    - **Discrete:** Can take only specific values (e.g., number of students).\n",
        "\n",
        "- **Categorical Data** (qualitative):  \n",
        "  - Represents groupings or labels.  \n",
        "  - Subtypes:  \n",
        "    - **Binary:** Two categories (e.g., Yes/No).  \n",
        "    - **Ordinal:** Categories with a meaningful order (e.g., Low/Medium/High).\n",
        "\n",
        "##### Data Types Table:\n",
        "| **Data Type**      | **Subtype**  | **Examples**                 |\n",
        "|---------------------|--------------|------------------------------|\n",
        "| **Numerical**       | Continuous   | Height, Weight, Temperature |\n",
        "|                     | Discrete     | Number of items, Age in years |\n",
        "| **Categorical**     | Binary       | Yes/No, On/Off              |\n",
        "|                     | Ordinal      | Education Level, Rankings   |\n",
        "\n",
        "##### Numerical Data:\n",
        "- **Continuous Data:**  \n",
        "  Values can take any real number within a range:  \n",
        "  $$ x \\in \\mathbb{R} $$  \n",
        "  Example: height, weight.  \n",
        "\n",
        "- **Discrete Data:**  \n",
        "  Values are specific and countable:  \n",
        "  $$ x \\in \\mathbb{N} $$  \n",
        "  Example: number of students, age in years.  \n",
        "\n",
        "##### Categorical Data:\n",
        "- **Binary Data:**  \n",
        "  Two distinct categories:  \n",
        "  $$ x \\in \\{0, 1\\} $$  \n",
        "  Example: Yes/No, On/Off.  \n",
        "\n",
        "- **Ordinal Data:**  \n",
        "  Ordered categories where the sequence matters:  \n",
        "  $$ x_1 < x_2 < x_3 $$  \n",
        "  Example: Low < Medium < High.\n"
      ],
      "metadata": {
        "id": "TIAjw1jiS3lm"
      }
    },
    {
      "cell_type": "markdown",
      "source": [
        "###Tabular Data  \n"
      ],
      "metadata": {
        "id": "CtMzPCXVZuX0"
      }
    },
    {
      "cell_type": "markdown",
      "source": [
        "#####In data analysis, **tabular data** refers to data organized in a table format, where rows and columns represent structured information. This structure is commonly used in tools like spreadsheets, databases, and programming frameworks (e.g., pandas in Python, data frames in R).\n",
        "\n",
        "##### Key Concepts:\n",
        "1. **Data Frame:**  \n",
        "   A two-dimensional table structure where:  \n",
        "   - **Rows** represent individual records or observations.  \n",
        "   - **Columns** represent variables or features.  \n",
        "\n",
        "2. **Feature (Attribute):**  \n",
        "   A column in the table representing a specific variable or characteristic of the data.  \n",
        "   Example: Age, Height, Income.\n",
        "\n",
        "3. **Record (Observation):**  \n",
        "   A row in the table representing a single instance of data.  \n",
        "   Example: Data about one person or event.\n",
        "\n",
        "4. **Outcome (Target):**  \n",
        "   A specific feature that represents the result or value to predict or analyze.  \n",
        "   Example: Whether a customer makes a purchase (Yes/No).\n",
        "\n",
        "##### Example of a Data Frame:\n",
        "| **Record ID** | **Name**   | **Age** | **Height (cm)** | **Purchase** |\n",
        "|---------------|------------|---------|-----------------|--------------|\n",
        "| 1             | Alice      | 25      | 165             | Yes          |\n",
        "| 2             | Bob        | 30      | 175             | No           |\n",
        "| 3             | Charlie    | 28      | 180             | Yes          |\n",
        "\n",
        "- **Feature:** Name, Age, Height, Purchase.  \n",
        "- **Record:** Row 1 (Alice), Row 2 (Bob), etc.  \n",
        "- **Outcome:** Purchase column.\n",
        "\n",
        "#####Mathematical Representation:\n",
        "- Data frame:  \n",
        "  $$ D = \\{ (x_i, y_i) \\}_{i=1}^n $$  \n",
        "  Where $ x_i $ are features, and $ y_i $ is the outcome.\n",
        "\n",
        "- Features:  \n",
        "  $$ X = [x_1, x_2, \\dots, x_p] $$  \n",
        "  Where $ p $ is the number of features (columns).\n",
        "\n",
        "- Records:  \n",
        "  $$ R_i = (x_{i1}, x_{i2}, \\dots, x_{ip}, y_i) $$  \n",
        "  Where $ R_i $ represents a single row of data.\n",
        "\n",
        "##### Summary:\n",
        "- **Data Frame:** Organizes data in rows and columns.  \n",
        "- **Feature:** Describes a specific property or variable.  \n",
        "- **Record:** Represents a single observation.  \n",
        "- **Outcome:** The target variable for prediction or analysis.\n",
        "\n"
      ],
      "metadata": {
        "id": "KUpVpvXmYcFV"
      }
    },
    {
      "cell_type": "markdown",
      "source": [
        "###Measures of Central Tendency  "
      ],
      "metadata": {
        "id": "uzc48j-LjG_f"
      }
    },
    {
      "cell_type": "markdown",
      "source": [
        "#####In statistics, **measures of central tendency** are used to describe the center or typical value of a dataset. These measures summarize a set of data points into a single representative value. Key measures include **mean**, **median**, and others.\n",
        "\n",
        "##### Key Measures:\n",
        "\n",
        "1. **Mean (Average):**  \n",
        "   The mean is the sum of all values in a dataset divided by the number of values. It is the most common measure of central tendency.  \n",
        "   $$ \\text{Mean} = \\frac{1}{n} \\sum_{i=1}^{n} x_i $$  \n",
        "   Where $x_i$ are the values, and $n$ is the number of data points.\n",
        "\n",
        "2. **Weighted Mean:**  \n",
        "   The weighted mean accounts for the importance (weight) of each data point. It is calculated by multiplying each value by its corresponding weight, summing them, and then dividing by the total weight.  \n",
        "   $$ \\text{Weighted Mean} = \\frac{\\sum_{i=1}^{n} w_i x_i}{\\sum_{i=1}^{n} w_i} $$  \n",
        "   Where $w_i$ represents the weights.\n",
        "\n",
        "3. **Trimmed Mean:**  \n",
        "   The trimmed mean is calculated by removing a specified percentage of the smallest and largest values before computing the mean. This reduces the influence of extreme values (outliers).  \n",
        "   $$ \\text{Trimmed Mean} = \\frac{\\sum_{i=k+1}^{n-k} x_i}{n-2k} $$  \n",
        "   Where $k$ is the number of values removed from each end.\n",
        "\n",
        "4. **Median:**  \n",
        "   The median is the middle value of a dataset when arranged in ascending or descending order. If the dataset has an odd number of elements, the median is the middle one. If even, it is the average of the two middle values.  \n",
        "   - For an odd dataset:  \n",
        "     $$ \\text{Median} = x_{\\frac{n+1}{2}} $$  \n",
        "   - For an even dataset:  \n",
        "     $$ \\text{Median} = \\frac{x_{\\frac{n}{2}} + x_{\\frac{n}{2}+1}}{2} $$\n",
        "\n",
        "5. **Weighted Median:**  \n",
        "   The weighted median is the median of a dataset where each data point has a weight. It is the value that divides the dataset such that the sum of weights on one side is as close as possible to the sum of weights on the other side.  \n",
        "   - There is no simple closed-form formula for the weighted median, but it can be found through sorting and cumulative weight calculations.  \n",
        "   \n",
        "   Formally, the weighted median $ x_k $ satisfies the condition:\n",
        "   $$ W_1 + W_2 + \\dots + W_k \\geq \\frac{1}{2} \\sum_{i=1}^{n} W_i $$  \n",
        "   Where:\n",
        "   - $ W_i $ is the weight of each value $ x_i $,\n",
        "   - $ W_k $ is the cumulative sum of weights up to the value $ x_k $,\n",
        "   - $ n $ is the total number of data points.\n",
        "\n",
        "6. **Percentile:**  \n",
        "   A percentile is a value below which a certain percentage of data falls. For example, the 50th percentile is the median, the 25th percentile is the lower quartile, and the 75th percentile is the upper quartile.  \n",
        "   $$ P_k = x_{\\frac{k(n+1)}{100}} $$  \n",
        "   Where $P_k$ is the k-th percentile.\n",
        "\n",
        "7. **Resilience (Robustness):**  \n",
        "   Resilience refers to the ability of a measure to remain unaffected by extreme values or outliers. For example, the median is more robust than the mean because it is not influenced by large outliers.\n",
        "\n",
        "8. **Outlier:**  \n",
        "   An outlier is an observation that lies far outside the range of most other data points. It can significantly affect the mean but has a minimal effect on the median.  \n",
        "   An outlier can be defined as any data point that lies more than 1.5 times the interquartile range (IQR) above the 75th percentile or below the 25th percentile.  \n",
        "   $$ \\text{Outlier condition:} \\, x_i < Q_1 - 1.5 \\times IQR \\text{ or } x_i > Q_3 + 1.5 \\times IQR $$  \n",
        "   Where $Q_1$ and $Q_3$ are the first and third quartiles, and $IQR$ is the interquartile range ($Q_3 - Q_1$).\n"
      ],
      "metadata": {
        "id": "sGUfNYwLi-qj"
      }
    },
    {
      "cell_type": "markdown",
      "source": [
        "####Exercise 1.1\n",
        "\n",
        "#####Write a program that loads the \"state.csv\" dataset, and then calculates and displays the mean, trimmed mean (10%), median for the population, and the weighted mean and weighted median for the murder rate.\n"
      ],
      "metadata": {
        "id": "igFjAEcRxrwV"
      }
    },
    {
      "cell_type": "code",
      "source": [
        "#Define the URL of the CSV file on GitHub\n",
        "url <- \"https://raw.githubusercontent.com/davidofitaly/notes_02_50_key_stats_ds/main/01_chapter/files/state.csv\"\n",
        "\n",
        "#Load the data from the CSV file into the variable 'data_state'\n",
        "data_state <- read.csv(url)\n",
        "\n",
        "#Display the first few rows of the loaded dataset\n",
        "head(data_state)\n"
      ],
      "metadata": {
        "id": "RcCQINUkxjPI",
        "outputId": "ff6636ac-83cc-4572-8ef2-47949be15c42",
        "colab": {
          "base_uri": "https://localhost:8080/",
          "height": 286
        }
      },
      "execution_count": 3,
      "outputs": [
        {
          "output_type": "display_data",
          "data": {
            "text/html": [
              "<table class=\"dataframe\">\n",
              "<caption>A data.frame: 6 × 4</caption>\n",
              "<thead>\n",
              "\t<tr><th></th><th scope=col>State</th><th scope=col>Population</th><th scope=col>Murder.Rate</th><th scope=col>Abbreviation</th></tr>\n",
              "\t<tr><th></th><th scope=col>&lt;chr&gt;</th><th scope=col>&lt;int&gt;</th><th scope=col>&lt;dbl&gt;</th><th scope=col>&lt;chr&gt;</th></tr>\n",
              "</thead>\n",
              "<tbody>\n",
              "\t<tr><th scope=row>1</th><td>Alabama   </td><td> 4779736</td><td>5.7</td><td>AL</td></tr>\n",
              "\t<tr><th scope=row>2</th><td>Alaska    </td><td>  710231</td><td>5.6</td><td>AK</td></tr>\n",
              "\t<tr><th scope=row>3</th><td>Arizona   </td><td> 6392017</td><td>4.7</td><td>AZ</td></tr>\n",
              "\t<tr><th scope=row>4</th><td>Arkansas  </td><td> 2915918</td><td>5.6</td><td>AR</td></tr>\n",
              "\t<tr><th scope=row>5</th><td>California</td><td>37253956</td><td>4.4</td><td>CA</td></tr>\n",
              "\t<tr><th scope=row>6</th><td>Colorado  </td><td> 5029196</td><td>2.8</td><td>CO</td></tr>\n",
              "</tbody>\n",
              "</table>\n"
            ],
            "text/markdown": "\nA data.frame: 6 × 4\n\n| <!--/--> | State &lt;chr&gt; | Population &lt;int&gt; | Murder.Rate &lt;dbl&gt; | Abbreviation &lt;chr&gt; |\n|---|---|---|---|---|\n| 1 | Alabama    |  4779736 | 5.7 | AL |\n| 2 | Alaska     |   710231 | 5.6 | AK |\n| 3 | Arizona    |  6392017 | 4.7 | AZ |\n| 4 | Arkansas   |  2915918 | 5.6 | AR |\n| 5 | California | 37253956 | 4.4 | CA |\n| 6 | Colorado   |  5029196 | 2.8 | CO |\n\n",
            "text/latex": "A data.frame: 6 × 4\n\\begin{tabular}{r|llll}\n  & State & Population & Murder.Rate & Abbreviation\\\\\n  & <chr> & <int> & <dbl> & <chr>\\\\\n\\hline\n\t1 & Alabama    &  4779736 & 5.7 & AL\\\\\n\t2 & Alaska     &   710231 & 5.6 & AK\\\\\n\t3 & Arizona    &  6392017 & 4.7 & AZ\\\\\n\t4 & Arkansas   &  2915918 & 5.6 & AR\\\\\n\t5 & California & 37253956 & 4.4 & CA\\\\\n\t6 & Colorado   &  5029196 & 2.8 & CO\\\\\n\\end{tabular}\n",
            "text/plain": [
              "  State      Population Murder.Rate Abbreviation\n",
              "1 Alabama     4779736   5.7         AL          \n",
              "2 Alaska       710231   5.6         AK          \n",
              "3 Arizona     6392017   4.7         AZ          \n",
              "4 Arkansas    2915918   5.6         AR          \n",
              "5 California 37253956   4.4         CA          \n",
              "6 Colorado    5029196   2.8         CO          "
            ]
          },
          "metadata": {}
        }
      ]
    },
    {
      "cell_type": "code",
      "source": [
        "#1.Calculate the mean of the Population column\n",
        "mean_population <- mean(data_state$Population)\n",
        "\n",
        "#2.Calculate the trimmed mean (10%) of the population column\n",
        "trimmed_mean_population <- mean(data_state$Population, trim=.1)\n",
        "\n",
        "#3. Calculate the Weighted Mean of Murder Rate (using Population as weights)\n",
        "weighted_mean_murder_rate <- weighted.mean(data_state$Murder.Rate, w=data_state$Population)\n",
        "\n",
        "#4. Calculate Median\n",
        "median_population <- median(data_state$Population)\n",
        "\n",
        "#5. Calculate Weighted Median fof Murder RATE (using Population as weights)\n",
        "weighted_median_murder_rate <- weightedMedian(data_state$Murder.Rate, w=data_state$Population)\n",
        "\n",
        "#Print the results\n",
        "cat(\"Mean of Population:\", mean_population, \"\\n\")\n",
        "cat(\"Trimmed Mean (10%) of Population:\", trimmed_mean_population, \"\\n\")\n",
        "cat(\"Weighted Mean of Murder Rate\", weighted_mean_murder_rate, \"\\n\")\n",
        "cat(\"Median of Population:\", median_population, \"\\n\")\n",
        "cat(\"Weighted Median of Murder Rate:\", weighted_median_murder_rate, \"\\n\")\n"
      ],
      "metadata": {
        "id": "qXifDgb10Vgj",
        "outputId": "172721f3-30aa-4e96-960b-b9a90e3fb8fc",
        "colab": {
          "base_uri": "https://localhost:8080/"
        }
      },
      "execution_count": 4,
      "outputs": [
        {
          "output_type": "stream",
          "name": "stdout",
          "text": [
            "Mean of Population: 6162876 \n",
            "Trimmed Mean (10%) of Population: 4783697 \n",
            "Weighted Mean of Murder Rate 4.445834 \n",
            "Median of Population: 4436370 \n",
            "Weighted Median of Murder Rate: 4.4 \n"
          ]
        }
      ]
    },
    {
      "cell_type": "markdown",
      "source": [
        "###Measures of Dispersion"
      ],
      "metadata": {
        "id": "WF5FzVnCa3ut"
      }
    },
    {
      "cell_type": "markdown",
      "source": [
        "##### **In statistics, measures of dispersion** are used to describe the variability or spread in a dataset. These measures indicate how data points differ from each other or from the central tendency of the data.\n",
        "\n",
        "##### **Key Measures:**\n",
        "\n",
        "1. **Variance (Var):**  \n",
        "   Variance quantifies the average squared deviation of each data point from the mean.  \n",
        "   $$ \\text{Var} = \\frac{\\sum_{i=1}^{n} (x_i - \\text{mean})^2}{n} $$  \n",
        "   Where $x_i$ are the values, $n$ is the number of data points, and $\\text{mean}$ is the arithmetic mean of the dataset.\n",
        "\n",
        "2. **Standard Deviation (SD):**  \n",
        "   SD is the square root of the variance and is expressed in the same units as the data.  \n",
        "   $$ \\text{SD} = \\sqrt{\\text{Var}} $$  \n",
        "\n",
        "3. **Mean Absolute Deviation (MAD):**  \n",
        "   MAD measures the average absolute deviation of each data point from the mean.  \n",
        "   $$ \\text{MAD} = \\frac{1}{n} \\sum_{i=1}^{n} |x_i - \\text{mean}| $$  \n",
        "\n",
        "4. **Median Absolute Deviation (MAD from Median):**  \n",
        "   The MAD from the median is the median of the absolute deviations from the dataset's median.  \n",
        "   $$ \\text{MAD}_{\\text{median}} = \\text{median}(|x_i - \\text{median}(x)|) $$  \n",
        "\n",
        "5. **Range:**  \n",
        "   Range is the difference between the maximum and minimum values in the dataset.  \n",
        "   $$ \\text{Range} = x_{\\text{max}} - x_{\\text{min}} $$  \n",
        "\n",
        "6. **Order Statistics:**  \n",
        "   Order statistics refer to the sorted values of a dataset. Key values include:  \n",
        "   - **Minimum:** $x_1$ (smallest value).  \n",
        "   - **Maximum:** $x_n$ (largest value).  \n",
        "   - **Median:** Middle value when data is ordered.\n",
        "\n",
        "7. **Percentiles:**  \n",
        "   Percentiles divide the dataset into 100 equal parts. For example, the 50th percentile corresponds to the median, the 25th percentile to the lower quartile, and the 75th percentile to the upper quartile.  \n",
        "   $$ P_k = x_{\\frac{k(n+1)}{100}} $$  \n",
        "   Where $P_k$ is the k-th percentile.\n",
        "\n",
        "8. **Interquartile Range (IQR):**  \n",
        "   The IQR measures the range of the middle 50% of the data, calculated as the difference between the 75th and 25th percentiles.  \n",
        "   $$ \\text{IQR} = Q_3 - Q_1 $$  \n",
        "\n",
        "9. **Outliers (using IQR):**  \n",
        "   Outliers are data points that lie significantly outside the normal range of the dataset.  \n",
        "   $$ x_i < Q_1 - 1.5 \\times \\text{IQR} \\, \\text{or} \\, x_i > Q_3 + 1.5 \\times \\text{IQR} $$  \n",
        "   Where $Q_1$ is the first quartile and $Q_3$ is the third quartile.\n",
        "\n",
        "##### **Interpretation:**\n",
        "\n",
        "- **Variance (Var) and Standard Deviation (SD):**  \n",
        "  - **Higher values** of Var or SD indicate more spread or variability in the data.  \n",
        "  - **Lower values** suggest that the data points are closer to the mean, showing less variability.  \n",
        "  - SD is often preferred for interpretation because it is in the same unit as the data.\n",
        "\n",
        "- **Mean Absolute Deviation (MAD):**  \n",
        "  - MAD provides a robust measure of dispersion, particularly when there are outliers in the data.  \n",
        "  - **Smaller MAD** indicates that the data points are closer to the mean.\n",
        "\n",
        "- **Median Absolute Deviation (MAD from Median):**  \n",
        "  - MAD from Median is more robust to outliers than MAD from the mean and is useful for data with skewed distributions.\n",
        "\n",
        "- **Range:**  \n",
        "  - The range provides a simple view of the variability in the dataset. However, it can be affected significantly by outliers, so it is not always reliable for understanding the spread.\n",
        "\n",
        "- **Order Statistics:**  \n",
        "  - **Minimum** and **Maximum** values give insights into the extremes of the dataset.  \n",
        "  - **Median** helps in understanding the middle value, particularly in skewed datasets.\n",
        "\n",
        "- **Percentiles and IQR:**  \n",
        "  - Percentiles and IQR are effective for identifying the spread of the middle 50% of the data, while also being resistant to the influence of outliers.\n",
        "\n",
        "- **Outliers:**  \n",
        "  - Identifying outliers can help in understanding if extreme values significantly affect the analysis. Outliers may require additional attention, especially in skewed datasets.\n",
        "\n"
      ],
      "metadata": {
        "id": "ok2iFNkDa5mC"
      }
    },
    {
      "cell_type": "markdown",
      "source": [
        "####Exercise 1.2\n",
        "\n",
        "##### Based on the \"state.csv\" file, calculate and display the following measures of dispersion for the **Population** column:\n",
        "1. Variance\n",
        "2. Standard Deviation\n",
        "3. Mean Absolute Deviation (MAD)\n",
        "4. Median Absolute Deviation (MAD from Median)\n",
        "5. Range\n",
        "6. Percentiles (25th, 50th, and 75th)\n",
        "7. Interquartile Range (IQR)\n"
      ],
      "metadata": {
        "id": "4-vqYQmiivEr"
      }
    },
    {
      "cell_type": "code",
      "source": [
        "#1.Calculate Variance for Population\n",
        "variance_population <- var(data_state$Population)\n",
        "\n",
        "#2.Calculate Standard Deviation for Population\n",
        "std_dev_population <- sd(data_state$Population)\n",
        "\n",
        "#3.Calculate Mean Absolute Deivation (MAD) for Population\n",
        "mad_population <- mean(abs(data_state$Population - mean(data_state$Population)))\n",
        "\n",
        "#4.Calculate the Median Absolute Deviation (MAD from Median) for Population\n",
        "mad_median_population <- median(abs(data_state$Population - median(data_state$Population)))\n",
        "\n",
        "#5.Calculate Range for Population\n",
        "range_population <- range(data_state$Population)\n",
        "\n",
        "#6.Calculate Percentiles for Population (25th, 50th, 75th)\n",
        "percentiles_population <- quantile(data_state$Population, c(.25, .50, .75))\n",
        "\n",
        "#7.Calculate Interquantile Range (IQR) for Population\n",
        "iqr_population <- IQR(data_state$Population)\n",
        "\n",
        "# Print the results\n",
        "cat(\"Variance of Population:\", variance_population, \"\\n\")\n",
        "cat(\"Standard Deviation of Population:\", std_dev_population, \"\\n\")\n",
        "cat(\"Mean Absolute Deviation of Population:\", mad_population, \"\\n\")\n",
        "cat(\"Median Absolute Deviation of Population:\", mad_median_population, \"\\n\")\n",
        "cat(\"Range of Population:\", range_population, \"\\n\")\n",
        "cat(\"Percentiles of Population (25th, 50th, 75th):\", percentiles_population, \"\\n\")\n",
        "cat(\"IQR of Population:\", iqr_population, \"\\n\")"
      ],
      "metadata": {
        "id": "2y3DmKP6jKpT",
        "outputId": "50b9f7ac-6cc3-4a0c-cc69-e89eab85801b",
        "colab": {
          "base_uri": "https://localhost:8080/"
        }
      },
      "execution_count": 5,
      "outputs": [
        {
          "output_type": "stream",
          "name": "stdout",
          "text": [
            "Variance of Population: 4.689833e+13 \n",
            "Standard Deviation of Population: 6848235 \n",
            "Mean Absolute Deviation of Population: 4450933 \n",
            "Median Absolute Deviation of Population: 2596702 \n",
            "Range of Population: 563626 37253956 \n",
            "Percentiles of Population (25th, 50th, 75th): 1833004 4436370 6680312 \n",
            "IQR of Population: 4847308 \n"
          ]
        }
      ]
    },
    {
      "cell_type": "markdown",
      "source": [
        "###Exploring Data Distribution"
      ],
      "metadata": {
        "id": "sFLT1xkLnZ3T"
      }
    },
    {
      "cell_type": "markdown",
      "source": [
        "##### In data analysis, **data distribution** refers to the way values are spread or arranged within a dataset. Analyzing the distribution helps to understand patterns, identify outliers, and evaluate the central tendency and dispersion of the data.\n",
        "\n",
        "##### Types of Distribution Analysis:\n",
        "- **Visual Representation:**  \n",
        "  - **Boxplot:** A graphical representation of data distribution that shows the median, quartiles, and outliers.  \n",
        "  - **Histogram:** A bar chart that represents the frequency of data within certain ranges (bins).  \n",
        "  - **Density Plot:** A smooth curve that represents the probability density of the data.\n",
        "\n",
        "- **Tabular Representation:**  \n",
        "  - **Frequency Table:** A table that lists the frequency of each unique value or range in a dataset.  \n",
        "\n",
        "##### Methods for Exploring Data Distribution:\n",
        "\n",
        "- **Boxplot (Box-and-Whisker Plot):**  \n",
        "  A boxplot displays the spread and skewness of the data by showing the **minimum**, **first quartile (Q1)**, **median (Q2)**, **third quartile (Q3)**, and **maximum** values, along with any **outliers**. Boxplots are useful for comparing distributions across different datasets.\n",
        "\n",
        "  - **Key Components:**  \n",
        "    - **Interquartile Range (IQR):** The distance between Q1 and Q3, indicating the spread of the middle 50% of data.\n",
        "    - **Outliers:** Points outside 1.5 times the IQR from Q1 or Q3.\n",
        "\n",
        "- **Frequency Table:**  \n",
        "  A frequency table shows the count of occurrences for each value or range of values in a dataset. It helps summarize the data and identify patterns or trends in the distribution.\n",
        "\n",
        "  - **Example:**  \n",
        "    A frequency table of the dataset `[1, 2, 2, 3, 3, 3, 4, 4, 4, 4]` would show how many times each value occurs.\n",
        "\n",
        "- **Histogram:**  \n",
        "  A histogram divides the data into equal intervals (bins) and represents the frequency of data points within each bin. It is useful for understanding the **shape of the distribution** and the **spread** of data.\n",
        "\n",
        "  - **Example:**  \n",
        "    A dataset representing the ages of a group of people can be displayed as a histogram with age intervals as bins.\n",
        "\n",
        "- **Density Plot:**  \n",
        "  A density plot provides a smooth, continuous estimate of the probability density function of the data. It is particularly useful for visualizing the **probability distribution** of continuous data.\n",
        "\n",
        "  - **Example:**  \n",
        "    A density plot of test scores can show how scores are distributed across the range of values, highlighting areas where scores are more concentrated.\n",
        "\n",
        "\n"
      ],
      "metadata": {
        "id": "9anW0TJbmG6R"
      }
    },
    {
      "cell_type": "markdown",
      "source": [
        "#### Exercise 1.3\n",
        "\n",
        "#####In this task, you will calculate the **quantiles** for the **Murder Rate** column in the `data_state` dataset. You are required to find the 5th, 25th, 50th, 75th, and 95th percentiles."
      ],
      "metadata": {
        "id": "MZgZ14fAqoF9"
      }
    },
    {
      "cell_type": "code",
      "source": [
        "#Calculate the desired quantiles for the Murder Rate column\n",
        "quantile <- quantile(data_state$Murder.Rate, c(.05, .25, .5, .75, .95))\n",
        "\n",
        "# Round the quantiles to 2 decimal places\n",
        "quantile_rounded <- round(quantile, 2)\n",
        "\n",
        "# Print the rounded quantiles as a table\n",
        "print(quantile_rounded)"
      ],
      "metadata": {
        "id": "6bvELIJDqR7p",
        "outputId": "e7446312-97ff-4ac0-93ab-208cc5df30cd",
        "colab": {
          "base_uri": "https://localhost:8080/"
        }
      },
      "execution_count": 6,
      "outputs": [
        {
          "output_type": "stream",
          "name": "stdout",
          "text": [
            "  5%  25%  50%  75%  95% \n",
            "1.60 2.42 4.00 5.55 6.51 \n"
          ]
        }
      ]
    },
    {
      "cell_type": "markdown",
      "source": [
        "####Exercise 1.4\n",
        "\n",
        "\n",
        "#####Create a **boxplot** for the **population** data, but first convert the population values into millions. The boxplot should be customized with a title, axis labels, and color to enhance the visualization."
      ],
      "metadata": {
        "id": "C6_cTLcjsGkh"
      }
    },
    {
      "cell_type": "code",
      "source": [
        "#Convert Population data to millions\n",
        "\n",
        "data_state$Population_Millions <- data_state$Population / 10^6\n",
        "\n",
        "#Crate a boxplot for Population in millions\n",
        "boxplot(data_state$Population_Millions,\n",
        "        main = 'Boxplot of Population (in millions)',\n",
        "        ylab = 'Population (in millions)',\n",
        "        col = 'Lightblue')\n"
      ],
      "metadata": {
        "id": "8LXa6P5CrY6u",
        "outputId": "ef622797-b6d0-4ddd-9864-b65be1ffcc96",
        "colab": {
          "base_uri": "https://localhost:8080/",
          "height": 437
        }
      },
      "execution_count": 7,
      "outputs": [
        {
          "output_type": "display_data",
          "data": {
            "text/plain": [
              "Plot with title “Boxplot of Population (in millions)”"
            ],
            "image/png": "[encoded data removed]"
          },
          "metadata": {
            "image/png": {
              "width": 420,
              "height": 420
            }
          }
        }
      ]
    },
    {
      "cell_type": "markdown",
      "source": [
        "####Excercise 1.5\n",
        "\n",
        "#####Create a table that divides the `Population` column into 10 equal intervals.\n",
        "\n",
        "#####To do this, use the `cut()` function to categorize the `Population` values into intervals, and then display the frequency of each interval."
      ],
      "metadata": {
        "id": "QbYIYnhqxuJd"
      }
    },
    {
      "cell_type": "code",
      "source": [
        "# Create the boundary points for intervals (breaks) based on the minimum and maximum population values\n",
        "breaks <- seq(from=min(data_state$Population),  # minimum value in the data\n",
        "              to=max(data_state$Population),    # maximum value in the data\n",
        "              length=11)                        # number of intervals (10 intervals, 11 boundary points)\n",
        "\n",
        "# Divide the population data into intervals based on the defined \"breaks\"\n",
        "pop_freq <- cut(data_state$Population,           # Population column\n",
        "                breaks=breaks,                   # Defined intervals (breaks)\n",
        "                right=TRUE,                      # Right-closed intervals\n",
        "                include.lowest=TRUE)             # Include the lowest value in the first interval\n",
        "\n",
        "# Convert the result into a data frame to display the frequency table in a readable format\n",
        "pop_freq_table <- as.data.frame(table(pop_freq)) # Create a frequency table from the \"pop_freq\" result\n",
        "\n",
        "# Display the frequency table for each interval\n",
        "print(pop_freq_table) # Print the frequency table to see the distribution of data across intervals\n"
      ],
      "metadata": {
        "id": "QDACnmGgvant",
        "outputId": "b86ef53e-9b3c-4c25-de78-2709636db9e6",
        "colab": {
          "base_uri": "https://localhost:8080/"
        }
      },
      "execution_count": 23,
      "outputs": [
        {
          "output_type": "stream",
          "name": "stdout",
          "text": [
            "              pop_freq Freq\n",
            "1  [5.64e+05,4.23e+06]   24\n",
            "2   (4.23e+06,7.9e+06]   14\n",
            "3   (7.9e+06,1.16e+07]    6\n",
            "4  (1.16e+07,1.52e+07]    2\n",
            "5  (1.52e+07,1.89e+07]    1\n",
            "6  (1.89e+07,2.26e+07]    1\n",
            "7  (2.26e+07,2.62e+07]    1\n",
            "8  (2.62e+07,2.99e+07]    0\n",
            "9  (2.99e+07,3.36e+07]    0\n",
            "10 (3.36e+07,3.73e+07]    1\n"
          ]
        }
      ]
    },
    {
      "cell_type": "markdown",
      "source": [
        "####Exercise 1.6\n",
        "\n",
        "#####Task: Create a histogram based on the frequency table of the population data. Ensure that the histogram is displayed with custom improvements such as color, axis labels, and borders."
      ],
      "metadata": {
        "id": "yPboc_y8zFb0"
      }
    },
    {
      "cell_type": "code",
      "source": [
        "# Create the histogram with custom improvements\n",
        "hist_population = hist(data_state$Population,                 # Data to plot\n",
        "     breaks=breaks,                         # Define breaks (intervals)\n",
        "     col=\"lightblue\",                       # Color for the bars\n",
        "     main=\"Histogram of Population\",        # Title for the histogram\n",
        "     xlab=\"Population\",                     # Label for the x-axis\n",
        "     ylab=\"Frequency\",                      # Label for the y-axis\n",
        "     border=\"black\")                        # Border color for the bars\n",
        "\n"
      ],
      "metadata": {
        "id": "crtM_Qq3yVDP",
        "outputId": "e8cfaa33-af44-4b74-815d-5e208ec9241f",
        "colab": {
          "base_uri": "https://localhost:8080/",
          "height": 437
        }
      },
      "execution_count": 47,
      "outputs": [
        {
          "output_type": "display_data",
          "data": {
            "text/plain": [
              "Plot with title “Histogram of Population”"
            ],
            "image/png": "[encoded data removed]"
          },
          "metadata": {
            "image/png": {
              "width": 420,
              "height": 420
            }
          }
        }
      ]
    },
    {
      "cell_type": "code",
      "source": [
        "# Create a histogram of the murder rate in the US\n",
        "hist_murder = hist(data_state$Murder.Rate,                     # Data: Murder rates\n",
        "                   col=\"lightblue\",                            # Bar color: light blue\n",
        "                   main=\"Histogram of Murder Rates in the US\", # Title of the histogram\n",
        "                   xlab=\"Murder rate per (100 000 people)\",    # X-axis label\n",
        "                   ylab=\"Density\",                             # Y-axis label\n",
        "                   border=\"black\",                             # Border color of the bars\n",
        "                   freq=FALSE)                                 # Density scale (FALSE means density, not frequency)\n",
        "\n",
        "# Add a red density line to the histogram using the 'density' function\n",
        "lines(density(data_state[['Murder.Rate']]), lwd=3, col='red')  # Red line with a width of 3\n",
        "\n",
        "\n",
        "\n"
      ],
      "metadata": {
        "id": "IFa79Th7zqsf",
        "outputId": "132a46bb-72f0-41e5-b688-678ad2abcd20",
        "colab": {
          "base_uri": "https://localhost:8080/",
          "height": 437
        }
      },
      "execution_count": 63,
      "outputs": [
        {
          "output_type": "display_data",
          "data": {
            "text/plain": [
              "Plot with title “Histogram of Murder Rates in the US”"
            ],
            "image/png": "[encoded data removed]"
          },
          "metadata": {
            "image/png": {
              "width": 420,
              "height": 420
            }
          }
        }
      ]
    }
  ]
}