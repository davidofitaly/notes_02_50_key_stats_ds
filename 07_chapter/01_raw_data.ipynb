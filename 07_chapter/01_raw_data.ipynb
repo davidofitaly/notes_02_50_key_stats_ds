{
  "nbformat": 4,
  "nbformat_minor": 0,
  "metadata": {
    "colab": {
      "provenance": [],
      "authorship_tag": "ABX9TyPw2mEJw3TUsDBpGy2gHxdP",
      "include_colab_link": true
    },
    "kernelspec": {
      "name": "python3",
      "display_name": "Python 3"
    },
    "language_info": {
      "name": "python"
    }
  },
  "cells": [
    {
      "cell_type": "markdown",
      "metadata": {
        "id": "view-in-github",
        "colab_type": "text"
      },
      "source": [
        "<a href=\"https://colab.research.google.com/github/davidofitaly/notes_02_50_key_stats_ds/blob/main/07_chapter/01_raw_data.ipynb\" target=\"_parent\"><img src=\"https://colab.research.google.com/assets/colab-badge.svg\" alt=\"Open In Colab\"/></a>"
      ]
    },
    {
      "cell_type": "markdown",
      "source": [
        "### Principal Component Analysis (PCA)  "
      ],
      "metadata": {
        "id": "wAUCtCJu05jU"
      }
    },
    {
      "cell_type": "markdown",
      "source": [
        "#####**PCA (Principal Component Analysis)** is a dimensionality reduction technique that transforms data into a new space while preserving as much information as possible. It simplifies data, removes redundancy, and improves model efficiency.  \n",
        "\n",
        "##### Key Steps of PCA:  \n",
        "1. **Standardizing the Data** – ensuring all features have the same scale.  \n",
        "2. **Computing the Covariance Matrix** – analyzing feature co-variability.  \n",
        "3. **Calculating Eigenvalues and Eigenvectors** – identifying the main directions of variability.  \n",
        "4. **Selecting Principal Components** – choosing the most important components based on variance.  \n",
        "5. **Projecting Data** – transforming data into a lower-dimensional space.  \n",
        "\n",
        "##### Choosing the Number of Components  \n",
        "- **Explained Variance:** higher cumulative variance means more information retained.  \n",
        "- **Kaiser’s Rule:** keep components with eigenvalues > 1.  \n",
        "- **Scree Plot:** identifies the \"elbow point\" in the variance curve.  \n"
      ],
      "metadata": {
        "id": "TL1UVx86029d"
      }
    },
    {
      "cell_type": "code",
      "execution_count": null,
      "metadata": {
        "id": "P03RxFa9z-2X"
      },
      "outputs": [],
      "source": []
    }
  ]
}