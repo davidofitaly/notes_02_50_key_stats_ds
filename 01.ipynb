{
  "nbformat": 4,
  "nbformat_minor": 0,
  "metadata": {
    "colab": {
      "provenance": [],
      "authorship_tag": "ABX9TyNrbeSoLodIyAk0kBzFR2at",
      "include_colab_link": true
    },
    "kernelspec": {
      "name": "python3",
      "display_name": "Python 3"
    },
    "language_info": {
      "name": "python"
    }
  },
  "cells": [
    {
      "cell_type": "markdown",
      "metadata": {
        "id": "view-in-github",
        "colab_type": "text"
      },
      "source": [
        "<a href=\"https://colab.research.google.com/github/davidofitaly/notes_02_50_key_stats_ds/blob/main/01.ipynb\" target=\"_parent\"><img src=\"https://colab.research.google.com/assets/colab-badge.svg\" alt=\"Open In Colab\"/></a>"
      ]
    },
    {
      "cell_type": "code",
      "source": [
        "# Link do pobrania pliku CSV z Google Drive\n",
        "url <- \"https://drive.google.com/uc?export=download&id=1dah4LkSZoas-XedmpyJIWBb5R60VkqvM\"\n",
        "\n",
        "# Wczytanie pliku z URL\n",
        "df <- read.csv(url)\n",
        "\n",
        "# Sprawdzenie pierwszych kilku wierszy danych\n",
        "head(df)\n",
        "\n",
        "\n"
      ],
      "metadata": {
        "colab": {
          "base_uri": "https://localhost:8080/",
          "height": 286
        },
        "id": "EjGNZUO9saE8",
        "outputId": "4656c49c-dd8f-4ba3-9f2c-82d681dc61df"
      },
      "execution_count": 13,
      "outputs": [
        {
          "output_type": "display_data",
          "data": {
            "text/html": [
              "<table class=\"dataframe\">\n",
              "<caption>A data.frame: 6 × 4</caption>\n",
              "<thead>\n",
              "\t<tr><th></th><th scope=col>State</th><th scope=col>Population</th><th scope=col>Murder.Rate</th><th scope=col>Abbreviation</th></tr>\n",
              "\t<tr><th></th><th scope=col>&lt;chr&gt;</th><th scope=col>&lt;int&gt;</th><th scope=col>&lt;dbl&gt;</th><th scope=col>&lt;chr&gt;</th></tr>\n",
              "</thead>\n",
              "<tbody>\n",
              "\t<tr><th scope=row>1</th><td>Alabama   </td><td> 4779736</td><td>5.7</td><td>AL</td></tr>\n",
              "\t<tr><th scope=row>2</th><td>Alaska    </td><td>  710231</td><td>5.6</td><td>AK</td></tr>\n",
              "\t<tr><th scope=row>3</th><td>Arizona   </td><td> 6392017</td><td>4.7</td><td>AZ</td></tr>\n",
              "\t<tr><th scope=row>4</th><td>Arkansas  </td><td> 2915918</td><td>5.6</td><td>AR</td></tr>\n",
              "\t<tr><th scope=row>5</th><td>California</td><td>37253956</td><td>4.4</td><td>CA</td></tr>\n",
              "\t<tr><th scope=row>6</th><td>Colorado  </td><td> 5029196</td><td>2.8</td><td>CO</td></tr>\n",
              "</tbody>\n",
              "</table>\n"
            ],
            "text/markdown": "\nA data.frame: 6 × 4\n\n| <!--/--> | State &lt;chr&gt; | Population &lt;int&gt; | Murder.Rate &lt;dbl&gt; | Abbreviation &lt;chr&gt; |\n|---|---|---|---|---|\n| 1 | Alabama    |  4779736 | 5.7 | AL |\n| 2 | Alaska     |   710231 | 5.6 | AK |\n| 3 | Arizona    |  6392017 | 4.7 | AZ |\n| 4 | Arkansas   |  2915918 | 5.6 | AR |\n| 5 | California | 37253956 | 4.4 | CA |\n| 6 | Colorado   |  5029196 | 2.8 | CO |\n\n",
            "text/latex": "A data.frame: 6 × 4\n\\begin{tabular}{r|llll}\n  & State & Population & Murder.Rate & Abbreviation\\\\\n  & <chr> & <int> & <dbl> & <chr>\\\\\n\\hline\n\t1 & Alabama    &  4779736 & 5.7 & AL\\\\\n\t2 & Alaska     &   710231 & 5.6 & AK\\\\\n\t3 & Arizona    &  6392017 & 4.7 & AZ\\\\\n\t4 & Arkansas   &  2915918 & 5.6 & AR\\\\\n\t5 & California & 37253956 & 4.4 & CA\\\\\n\t6 & Colorado   &  5029196 & 2.8 & CO\\\\\n\\end{tabular}\n",
            "text/plain": [
              "  State      Population Murder.Rate Abbreviation\n",
              "1 Alabama     4779736   5.7         AL          \n",
              "2 Alaska       710231   5.6         AK          \n",
              "3 Arizona     6392017   4.7         AZ          \n",
              "4 Arkansas    2915918   5.6         AR          \n",
              "5 California 37253956   4.4         CA          \n",
              "6 Colorado    5029196   2.8         CO          "
            ]
          },
          "metadata": {}
        }
      ]
    },
    {
      "cell_type": "code",
      "source": [
        "from google.colab import drive\n",
        "drive.mount('/content/drive')"
      ],
      "metadata": {
        "id": "0sPgdm5EuMno"
      },
      "execution_count": null,
      "outputs": []
    },
    {
      "cell_type": "markdown",
      "source": [
        "###Ordered Data Elements  "
      ],
      "metadata": {
        "id": "gWlGzRydTZBJ"
      }
    },
    {
      "cell_type": "markdown",
      "source": [
        "#####In data analysis, **ordered data** refers to elements that can be arranged in a meaningful sequence. Data is often categorized into two main types: **numerical** and **categorical**.\n",
        "\n",
        "##### Types of Data:\n",
        "- **Numerical Data** (quantitative):  \n",
        "  - Represents measurable quantities.  \n",
        "  - Subtypes:  \n",
        "    - **Continuous:** Can take any value within a range (e.g., height, weight).  \n",
        "    - **Discrete:** Can take only specific values (e.g., number of students).\n",
        "\n",
        "- **Categorical Data** (qualitative):  \n",
        "  - Represents groupings or labels.  \n",
        "  - Subtypes:  \n",
        "    - **Binary:** Two categories (e.g., Yes/No).  \n",
        "    - **Ordinal:** Categories with a meaningful order (e.g., Low/Medium/High).\n",
        "\n",
        "##### Data Types Table:\n",
        "| **Data Type**      | **Subtype**  | **Examples**                 |\n",
        "|---------------------|--------------|------------------------------|\n",
        "| **Numerical**       | Continuous   | Height, Weight, Temperature |\n",
        "|                     | Discrete     | Number of items, Age in years |\n",
        "| **Categorical**     | Binary       | Yes/No, On/Off              |\n",
        "|                     | Ordinal      | Education Level, Rankings   |\n",
        "\n",
        "##### Numerical Data:\n",
        "- **Continuous Data:**  \n",
        "  Values can take any real number within a range:  \n",
        "  $$ x \\in \\mathbb{R} $$  \n",
        "  Example: height, weight.  \n",
        "\n",
        "- **Discrete Data:**  \n",
        "  Values are specific and countable:  \n",
        "  $$ x \\in \\mathbb{N} $$  \n",
        "  Example: number of students, age in years.  \n",
        "\n",
        "##### Categorical Data:\n",
        "- **Binary Data:**  \n",
        "  Two distinct categories:  \n",
        "  $$ x \\in \\{0, 1\\} $$  \n",
        "  Example: Yes/No, On/Off.  \n",
        "\n",
        "- **Ordinal Data:**  \n",
        "  Ordered categories where the sequence matters:  \n",
        "  $$ x_1 < x_2 < x_3 $$  \n",
        "  Example: Low < Medium < High.\n"
      ],
      "metadata": {
        "id": "TIAjw1jiS3lm"
      }
    },
    {
      "cell_type": "markdown",
      "source": [
        "###Tabular Data  \n"
      ],
      "metadata": {
        "id": "CtMzPCXVZuX0"
      }
    },
    {
      "cell_type": "markdown",
      "source": [
        "#####In data analysis, **tabular data** refers to data organized in a table format, where rows and columns represent structured information. This structure is commonly used in tools like spreadsheets, databases, and programming frameworks (e.g., pandas in Python, data frames in R).\n",
        "\n",
        "##### Key Concepts:\n",
        "1. **Data Frame:**  \n",
        "   A two-dimensional table structure where:  \n",
        "   - **Rows** represent individual records or observations.  \n",
        "   - **Columns** represent variables or features.  \n",
        "\n",
        "2. **Feature (Attribute):**  \n",
        "   A column in the table representing a specific variable or characteristic of the data.  \n",
        "   Example: Age, Height, Income.\n",
        "\n",
        "3. **Record (Observation):**  \n",
        "   A row in the table representing a single instance of data.  \n",
        "   Example: Data about one person or event.\n",
        "\n",
        "4. **Outcome (Target):**  \n",
        "   A specific feature that represents the result or value to predict or analyze.  \n",
        "   Example: Whether a customer makes a purchase (Yes/No).\n",
        "\n",
        "##### Example of a Data Frame:\n",
        "| **Record ID** | **Name**   | **Age** | **Height (cm)** | **Purchase** |\n",
        "|---------------|------------|---------|-----------------|--------------|\n",
        "| 1             | Alice      | 25      | 165             | Yes          |\n",
        "| 2             | Bob        | 30      | 175             | No           |\n",
        "| 3             | Charlie    | 28      | 180             | Yes          |\n",
        "\n",
        "- **Feature:** Name, Age, Height, Purchase.  \n",
        "- **Record:** Row 1 (Alice), Row 2 (Bob), etc.  \n",
        "- **Outcome:** Purchase column.\n",
        "\n",
        "#####Mathematical Representation:\n",
        "- Data frame:  \n",
        "  $$ D = \\{ (x_i, y_i) \\}_{i=1}^n $$  \n",
        "  Where $ x_i $ are features, and $ y_i $ is the outcome.\n",
        "\n",
        "- Features:  \n",
        "  $$ X = [x_1, x_2, \\dots, x_p] $$  \n",
        "  Where $ p $ is the number of features (columns).\n",
        "\n",
        "- Records:  \n",
        "  $$ R_i = (x_{i1}, x_{i2}, \\dots, x_{ip}, y_i) $$  \n",
        "  Where $ R_i $ represents a single row of data.\n",
        "\n",
        "##### Summary:\n",
        "- **Data Frame:** Organizes data in rows and columns.  \n",
        "- **Feature:** Describes a specific property or variable.  \n",
        "- **Record:** Represents a single observation.  \n",
        "- **Outcome:** The target variable for prediction or analysis.\n",
        "\n"
      ],
      "metadata": {
        "id": "KUpVpvXmYcFV"
      }
    },
    {
      "cell_type": "markdown",
      "source": [
        "###Measures of Central Tendency  "
      ],
      "metadata": {
        "id": "uzc48j-LjG_f"
      }
    },
    {
      "cell_type": "markdown",
      "source": [
        "#####In statistics, **measures of central tendency** are used to describe the center or typical value of a dataset. These measures summarize a set of data points into a single representative value. Key measures include **mean**, **median**, and others.\n",
        "\n",
        "##### Key Measures:\n",
        "\n",
        "1. **Mean (Average):**  \n",
        "   The mean is the sum of all values in a dataset divided by the number of values. It is the most common measure of central tendency.  \n",
        "   $$ \\text{Mean} = \\frac{1}{n} \\sum_{i=1}^{n} x_i $$  \n",
        "   Where $x_i$ are the values, and $n$ is the number of data points.\n",
        "\n",
        "2. **Weighted Mean:**  \n",
        "   The weighted mean accounts for the importance (weight) of each data point. It is calculated by multiplying each value by its corresponding weight, summing them, and then dividing by the total weight.  \n",
        "   $$ \\text{Weighted Mean} = \\frac{\\sum_{i=1}^{n} w_i x_i}{\\sum_{i=1}^{n} w_i} $$  \n",
        "   Where $w_i$ represents the weights.\n",
        "\n",
        "3. **Trimmed Mean:**  \n",
        "   The trimmed mean is calculated by removing a specified percentage of the smallest and largest values before computing the mean. This reduces the influence of extreme values (outliers).  \n",
        "   $$ \\text{Trimmed Mean} = \\frac{\\sum_{i=k+1}^{n-k} x_i}{n-2k} $$  \n",
        "   Where $k$ is the number of values removed from each end.\n",
        "\n",
        "4. **Median:**  \n",
        "   The median is the middle value of a dataset when arranged in ascending or descending order. If the dataset has an odd number of elements, the median is the middle one. If even, it is the average of the two middle values.  \n",
        "   - For an odd dataset:  \n",
        "     $$ \\text{Median} = x_{\\frac{n+1}{2}} $$  \n",
        "   - For an even dataset:  \n",
        "     $$ \\text{Median} = \\frac{x_{\\frac{n}{2}} + x_{\\frac{n}{2}+1}}{2} $$\n",
        "\n",
        "5. **Weighted Median:**  \n",
        "   The weighted median is the median of a dataset where each data point has a weight. It is the value that divides the dataset such that the sum of weights on one side is as close as possible to the sum of weights on the other side.  \n",
        "   - There is no simple closed-form formula for the weighted median, but it can be found through sorting and cumulative weight calculations.  \n",
        "   \n",
        "   Formally, the weighted median $ x_k $ satisfies the condition:\n",
        "   $$ W_1 + W_2 + \\dots + W_k \\geq \\frac{1}{2} \\sum_{i=1}^{n} W_i $$  \n",
        "   Where:\n",
        "   - $ W_i $ is the weight of each value $ x_i $,\n",
        "   - $ W_k $ is the cumulative sum of weights up to the value $ x_k $,\n",
        "   - $ n $ is the total number of data points.\n",
        "\n",
        "6. **Percentile:**  \n",
        "   A percentile is a value below which a certain percentage of data falls. For example, the 50th percentile is the median, the 25th percentile is the lower quartile, and the 75th percentile is the upper quartile.  \n",
        "   $$ P_k = x_{\\frac{k(n+1)}{100}} $$  \n",
        "   Where $P_k$ is the k-th percentile.\n",
        "\n",
        "7. **Resilience (Robustness):**  \n",
        "   Resilience refers to the ability of a measure to remain unaffected by extreme values or outliers. For example, the median is more robust than the mean because it is not influenced by large outliers.\n",
        "\n",
        "8. **Outlier:**  \n",
        "   An outlier is an observation that lies far outside the range of most other data points. It can significantly affect the mean but has a minimal effect on the median.  \n",
        "   An outlier can be defined as any data point that lies more than 1.5 times the interquartile range (IQR) above the 75th percentile or below the 25th percentile.  \n",
        "   $$ \\text{Outlier condition:} \\, x_i < Q_1 - 1.5 \\times IQR \\text{ or } x_i > Q_3 + 1.5 \\times IQR $$  \n",
        "   Where $Q_1$ and $Q_3$ are the first and third quartiles, and $IQR$ is the interquartile range ($Q_3 - Q_1$).\n"
      ],
      "metadata": {
        "id": "sGUfNYwLi-qj"
      }
    }
  ]
}