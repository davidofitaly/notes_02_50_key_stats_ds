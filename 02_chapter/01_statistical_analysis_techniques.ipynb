{
  "nbformat": 4,
  "nbformat_minor": 0,
  "metadata": {
    "colab": {
      "provenance": [],
      "authorship_tag": "ABX9TyPhWD4sbKFwLjTQQVGpH+oN",
      "include_colab_link": true
    },
    "kernelspec": {
      "name": "ir",
      "display_name": "R"
    },
    "language_info": {
      "name": "R"
    }
  },
  "cells": [
    {
      "cell_type": "markdown",
      "metadata": {
        "id": "view-in-github",
        "colab_type": "text"
      },
      "source": [
        "<a href=\"https://colab.research.google.com/github/davidofitaly/notes_02_50_key_stats_ds/blob/main/02_chapter/01_statistical_analysis_techniques.ipynb\" target=\"_parent\"><img src=\"https://colab.research.google.com/assets/colab-badge.svg\" alt=\"Open In Colab\"/></a>"
      ]
    },
    {
      "cell_type": "markdown",
      "source": [
        "### Table of contents:\n",
        "1. [Import of libraries](#0)\n",
        "2. [Random Sampling and Sample Bias](#1)\n",
        "3. [Selection Bias](#2)\n",
        "4. [Sampling Distribution for Statistics](#3)\n",
        "5. [Bootstrap Sampling](#4)\n",
        "6. [Confidence Intervals](#5)\n",
        "7. [Normal Distribution](#6)\n",
        "8. [Long-Tailed Distributions](#7)\n",
        "9. [t-Distribution (Student's t-distribution)](#8)\n",
        "10. [Binomial Distribution](#9)\n",
        "11. [Chi-Square Distribution](#10)\n",
        "12. [F-Statistic](#11)\n",
        "13. [Poisson Distribution](#12)\n",
        "14. [Exponential Distribution](#13)\n",
        "15. [Weibull Distribution](#14)\n"
      ],
      "metadata": {
        "id": "ILSFoH0VP2gq"
      }
    },
    {
      "cell_type": "markdown",
      "source": [
        "###<a name='0'></a>Import of libraries"
      ],
      "metadata": {
        "id": "NRzeORfZP3rJ"
      }
    },
    {
      "cell_type": "code",
      "source": [
        "# Load the libraries into the R session\n",
        "library(boot)"
      ],
      "metadata": {
        "id": "ldTMEqWurbcz"
      },
      "execution_count": 1,
      "outputs": []
    },
    {
      "cell_type": "markdown",
      "source": [
        "###<a name='1'></a>Random Sampling and Sample Bias"
      ],
      "metadata": {
        "id": "AqH_SAW_1ySn"
      }
    },
    {
      "cell_type": "markdown",
      "source": [
        "##### **1. Sample**\n",
        "#####A **sample** is a subset of units selected from the population for analysis. The goal is for the sample to be representative of the population, enabling valid inferences.\n",
        "\n",
        "##### **2. Population**\n",
        "#####The **population** refers to the entire set of individuals, items, or observations that are the subject of a study. It is the broader group from which the sample is drawn.\n",
        "\n",
        "##### **3. Population Size ($N$) and Sample Size ($n$)**\n",
        "- $N$: The total number of units in the population.  \n",
        "- $n$: The total number of units in the sample.\n",
        "\n",
        "##### **4. Random Sampling**\n",
        "#####**Random sampling** ensures that every unit in the population has an equal chance of being included in the sample. This method minimizes bias and enhances the representativeness of the sample.\n",
        "\n",
        "#####Key features of random sampling:\n",
        "- Equal probability of selection for all units.\n",
        "- Reduces the risk of systematic bias.\n",
        "- Results can be generalized to the population.\n",
        "\n",
        "##### **5. Stratified Sampling**\n",
        "#####**Stratified sampling** involves dividing the population into subgroups (strata) based on specific characteristics, then randomly sampling from each stratum. It ensures representation across key subgroups.\n",
        "\n",
        "##### **6. Strata**\n",
        "#####A **stratum** (plural: strata) is a subgroup of the population that shares a common characteristic, such as age, income level, or geographical region. Stratification improves the precision of sample estimates.\n",
        "\n",
        "##### **7. Random Sampling Within Strata**\n",
        "#####In **stratified sampling**, random samples are drawn from each stratum. This can be proportional to the stratum’s size in the population or equal across strata, depending on the research objective.\n",
        "\n",
        "##### **8. Bias**\n",
        "#####**Bias** refers to a systematic error that causes the sample to misrepresent the population. Common sources of bias include:\n",
        "- Non-random sampling methods.\n",
        "- Exclusion of specific groups.\n",
        "- Inconsistent data collection techniques.\n",
        "\n",
        "##### **9. Sample Bias**\n",
        "#####**Sample bias** occurs when the sample is not representative of the population, leading to distorted results. Examples include:\n",
        "- **Selection bias**: Overrepresentation or underrepresentation of certain groups.\n",
        "- **Non-response bias**: Results skewed due to a lack of participation from certain individuals."
      ],
      "metadata": {
        "id": "gmwsa5YX2Ask"
      }
    },
    {
      "cell_type": "markdown",
      "source": [
        "###<a name='2'></a>Selection Bias"
      ],
      "metadata": {
        "id": "uAYGiwy-CPXs"
      }
    },
    {
      "cell_type": "markdown",
      "source": [
        "#####Selection bias occurs when the sample data used in an analysis is not representative of the target population, leading to skewed or incorrect conclusions. This bias can arise from the way data is collected, the choice of sample, or the conditions under which the sample is observed.\n",
        "\n",
        "##### Important Concepts:\n",
        "\n",
        "1. **Selection Bias:**\n",
        "   - This is the distortion of a statistical analysis resulting from the method of selecting participants or data. It leads to non-random selection of data points, causing the sample to differ from the general population.\n",
        "\n",
        "\n",
        "2. **Data Hunting:**\n",
        "   - Data hunting refers to an exploratory approach where a researcher searches for patterns or insights within a dataset, often leading to overfitting or misinterpretation of findings.\n",
        "   - This can be problematic if it leads to confirmation bias, where the researcher finds patterns that support preconceived notions rather than unbiased data.\n",
        "\n",
        "3. **The Effect of Search Through Multiple Hypotheses:**\n",
        "   - This effect occurs when a researcher tests multiple hypotheses or multiple models on the same dataset. The more hypotheses tested, the higher the likelihood of finding a spurious relationship, simply by chance.\n",
        "   - Example: Testing 10 different hypotheses increases the likelihood that at least one will appear statistically significant due to random variation, even if there is no true effect.\n",
        "\n",
        "4. **Regression to the Mean:**\n",
        "   - This phenomenon occurs when extreme values tend to be closer to the average on subsequent measurements. It occurs because random variation causes extreme outcomes, which are less likely to persist over time.\n",
        "   - Example: If an unusually high-performing student has a very high score on a test, their score on the next test is likely to be closer to the average, as the first result was influenced by random factors.\n"
      ],
      "metadata": {
        "id": "KPUbV3rWB2KC"
      }
    },
    {
      "cell_type": "markdown",
      "source": [
        "###<a name='3'></a>Sampling Distribution for Statistics"
      ],
      "metadata": {
        "id": "1RGs4p01LCt4"
      }
    },
    {
      "cell_type": "markdown",
      "source": [
        "#####The sampling distribution is a probability distribution of a given statistic (such as the mean or variance) based on repeated sampling from a population. Understanding the sampling distribution is key to making inferences about the population from sample data.\n",
        "\n",
        "##### Important Concepts:\n",
        "\n",
        "1. **Statistic for the Sample:**\n",
        "   - A statistic is a numerical value calculated from a sample of data. Common statistics include the sample mean, sample variance, and sample proportion.\n",
        "   - Example: If you take a sample of 50 students' test scores and calculate the average, this average is a statistic for the sample.\n",
        "\n",
        "2. **Data Distribution:**\n",
        "   - The data distribution describes how the values of a dataset are spread or dispersed. It includes features like the central tendency, dispersion, and shape of the data.\n",
        "   - Example: A normal distribution has a bell-shaped curve, with most of the data points clustered around the mean.\n",
        "\n",
        "3. **Sampling Distribution:**\n",
        "   - The sampling distribution refers to the distribution of a statistic (such as the sample mean) that is obtained through repeated sampling from a population.\n",
        "   - When we take many random samples from a population and compute a statistic for each sample, the distribution of these statistics is known as the sampling distribution.\n",
        "   - Example: If we repeatedly take samples of 30 students' test scores and calculate the mean for each sample, the distribution of these means is the sampling distribution.\n",
        "\n",
        "4. **Central Limit Theorem:**\n",
        "   - The Central Limit Theorem (CLT) states that for sufficiently large sample sizes, the sampling distribution of the sample mean will be approximately normal, regardless of the population distribution, as long as the population has finite variance.\n",
        "   - This is a powerful result because it allows us to apply inferential statistics (such as confidence intervals and hypothesis tests) even if the underlying population distribution is not normal.\n",
        "   - Example: If you sample 30 students from a population of students and calculate their mean scores, the distribution of these means will be approximately normal even if the individual scores are not normally distributed.\n",
        "\n",
        "5. **Standard Error:**\n",
        "   - The standard error is the standard deviation of the sampling distribution of a statistic, typically the sample mean. It measures how much the sample statistic is expected to vary from the true population parameter.\n",
        "   - The formula for the standard error of the sample mean is:\n",
        "\n",
        "$$ SE = \\frac{\\sigma}{\\sqrt{n}} $$  \n",
        "\n",
        "   - where $ \\sigma $ is the population standard deviation and $n$ is the sample size.\n",
        "   - Example: A larger sample size leads to a smaller standard error, meaning that the sample mean is likely to be closer to the population mean.\n",
        "\n"
      ],
      "metadata": {
        "id": "U28a6Bt5LAN_"
      }
    },
    {
      "cell_type": "markdown",
      "source": [
        "###<a name='4'></a>Bootstrap Sampling\n"
      ],
      "metadata": {
        "id": "pacJoGunmuPB"
      }
    },
    {
      "cell_type": "markdown",
      "source": [
        "#####Bootstrap sampling is a statistical method used to estimate the sampling distribution of a statistic by resampling with replacement from the observed data. This technique is particularly useful when the theoretical distribution of a statistic is complex or unknown.\n",
        "\n",
        "##### Key Concepts:\n",
        "\n",
        "1. **Bootstrap Sample:**\n",
        "   - A bootstrap sample is a randomly selected subset of data obtained by sampling with replacement from the original dataset.\n",
        "   - Each bootstrap sample has the same size as the original dataset, but some observations may appear more than once, while others may not appear at all.\n",
        "   - Example: If your original dataset has 5 observations $\\{x_1, x_2, x_3, x_4, x_5\\}$, a bootstrap sample might look like $\\{x_1, x_2, x_2, x_4, x_5\\}$\n",
        "\n",
        "2. **Resampling:**\n",
        "   - Resampling refers to the process of repeatedly drawing samples from a dataset to compute a statistic multiple times.\n",
        "   - Bootstrap resampling allows for estimating the variability of a statistic, constructing confidence intervals, or performing hypothesis testing without relying on strong parametric assumptions.\n",
        "   - Example: Generate 1000 bootstrap samples from a dataset to calculate the sampling distribution of the mean.\n",
        "\n",
        "##### Steps for Bootstrap Sampling:\n",
        "\n",
        "1. Start with an original dataset of size $n$.\n",
        "2. Randomly draw $n$ observations from the dataset with replacement to create a bootstrap sample.\n",
        "3. Compute the statistic of interest (e.g., mean, median) for the bootstrap sample.\n",
        "4. Repeat steps 2 and 3 many times (e.g., 1000 iterations) to generate the bootstrap distribution of the statistic.\n",
        "5. Use the bootstrap distribution to calculate standard errors, confidence intervals, or other inferential measures.\n",
        "\n",
        "##### Example:\n",
        "Suppose you have a dataset of exam scores: $\\{78, 85, 92, 88, 76\\}$.  \n",
        "1. Generate a bootstrap sample: $\\{78, 85, 85, 92, 76\\}$.\n",
        "2. Compute the mean of the bootstrap sample: $\\bar{x}_{\\text{bootstrap}} = 83.2$.\n",
        "3. Repeat this process 1000 times to create the bootstrap distribution of the mean.\n",
        "\n",
        "##### Key Takeaways:\n",
        "- **Bootstrap sample** is created by resampling with replacement from the original data.\n",
        "- **Resampling** allows repeated estimation of statistics to assess their variability and build confidence intervals.\n",
        "- **Bootstrap** is a powerful tool for non-parametric statistical inference.\n"
      ],
      "metadata": {
        "id": "_htOKMnGmqqZ"
      }
    },
    {
      "cell_type": "markdown",
      "source": [
        "#### Exercise 2.1\n",
        "\n",
        "##### Write a program that performs the following tasks:  \n",
        "1. Load the `loans_income.csv` dataset from the given GitHub URL.  \n",
        "2. Display the first few rows of the dataset to understand its structure.  \n",
        "3. Define a custom statistic function to calculate the median of a sample.  \n",
        "4. Use the **bootstrap method** to resample the `x` variable from the dataset 1000 times and estimate the median for each resample.  \n",
        "5. Print the bootstrap results, including the original median, bias, and standard error.  \n"
      ],
      "metadata": {
        "id": "yTJ9W7I8tof3"
      }
    },
    {
      "cell_type": "code",
      "source": [
        "# Define the URL of the CSV file on GitHub\n",
        "url <- \"https://raw.githubusercontent.com/davidofitaly/notes_02_50_key_stats_ds/main/02_chapter/files/loans_income.csv\"\n",
        "\n",
        "# Load the data from the CSV file into the variable 'data_state'\n",
        "data_state <- read.csv(url)\n",
        "\n",
        "# Display the first few rows of the loaded dataset\n",
        "head(data_state)"
      ],
      "metadata": {
        "id": "xDvF9bXJqlfX",
        "outputId": "4b3b611f-f691-4d1e-fd63-b8046793eed8",
        "colab": {
          "base_uri": "https://localhost:8080/",
          "height": 321
        }
      },
      "execution_count": null,
      "outputs": [
        {
          "output_type": "display_data",
          "data": {
            "text/html": [
              "<table class=\"dataframe\">\n",
              "<caption>A data.frame: 6 × 1</caption>\n",
              "<thead>\n",
              "\t<tr><th></th><th scope=col>x</th></tr>\n",
              "\t<tr><th></th><th scope=col>&lt;int&gt;</th></tr>\n",
              "</thead>\n",
              "<tbody>\n",
              "\t<tr><th scope=row>1</th><td> 67000</td></tr>\n",
              "\t<tr><th scope=row>2</th><td> 52000</td></tr>\n",
              "\t<tr><th scope=row>3</th><td>100000</td></tr>\n",
              "\t<tr><th scope=row>4</th><td> 78762</td></tr>\n",
              "\t<tr><th scope=row>5</th><td> 37041</td></tr>\n",
              "\t<tr><th scope=row>6</th><td> 33000</td></tr>\n",
              "</tbody>\n",
              "</table>\n"
            ],
            "text/markdown": "\nA data.frame: 6 × 1\n\n| <!--/--> | x &lt;int&gt; |\n|---|---|\n| 1 |  67000 |\n| 2 |  52000 |\n| 3 | 100000 |\n| 4 |  78762 |\n| 5 |  37041 |\n| 6 |  33000 |\n\n",
            "text/latex": "A data.frame: 6 × 1\n\\begin{tabular}{r|l}\n  & x\\\\\n  & <int>\\\\\n\\hline\n\t1 &  67000\\\\\n\t2 &  52000\\\\\n\t3 & 100000\\\\\n\t4 &  78762\\\\\n\t5 &  37041\\\\\n\t6 &  33000\\\\\n\\end{tabular}\n",
            "text/plain": [
              "  x     \n",
              "1  67000\n",
              "2  52000\n",
              "3 100000\n",
              "4  78762\n",
              "5  37041\n",
              "6  33000"
            ]
          },
          "metadata": {}
        }
      ]
    },
    {
      "cell_type": "code",
      "source": [
        "# Define a function to calculate the median for bootstrap samples\n",
        "stat_fun_median <- function(x, idx) {median(x[idx])}\n",
        "\n",
        "# Perform bootstrap resampling with 1000 iterations\n",
        "boot_obj_median <- boot(data_state$x, R = 1000, statistic = stat_fun_median)\n",
        "\n",
        "# Print the bootstrap results\n",
        "print(boot_obj_median)"
      ],
      "metadata": {
        "id": "fY9IedQrrPFC",
        "outputId": "5c11d05e-12e7-43ef-dc61-1e7ad8c6dab4",
        "colab": {
          "base_uri": "https://localhost:8080/"
        }
      },
      "execution_count": null,
      "outputs": [
        {
          "output_type": "stream",
          "name": "stdout",
          "text": [
            "\n",
            "ORDINARY NONPARAMETRIC BOOTSTRAP\n",
            "\n",
            "\n",
            "Call:\n",
            "boot(data = data_state$x, statistic = stat_fun_median, R = 1000)\n",
            "\n",
            "\n",
            "Bootstrap Statistics :\n",
            "    original   bias    std. error\n",
            "t1*    62000 -82.6265    220.3621\n"
          ]
        }
      ]
    },
    {
      "cell_type": "markdown",
      "source": [
        "#### Exercise 2.2\n",
        "\n",
        "Load the `loans_income.csv` dataset and perform bootstrap resampling to calculate the mean of the data.\n",
        "\n",
        "1. Use bootstrap resampling with 1000 iterations.\n",
        "2. Calculate the mean for each resampled sample.\n",
        "3. Display the bootstrap results including the original mean, bias, and standard error."
      ],
      "metadata": {
        "id": "eAptSgHTuc3N"
      }
    },
    {
      "cell_type": "code",
      "source": [
        "# Define a function to calculate the mean for bootstrap samples\n",
        "stat_fun_mean <- function(x, idx) {mean(x[idx])}\n",
        "\n",
        "# Perform bootstrap resampling with 1000 iterations\n",
        "boot_obj_mean <- boot(data_state$x, R=1000, statistic=stat_fun_mean)\n",
        "\n",
        "# Print the bootstrap results\n",
        "print(boot_obj_mean)"
      ],
      "metadata": {
        "id": "IxP6RUtdupkf",
        "outputId": "5f46aabd-9600-4189-e420-2727e5687ae6",
        "colab": {
          "base_uri": "https://localhost:8080/"
        }
      },
      "execution_count": null,
      "outputs": [
        {
          "output_type": "stream",
          "name": "stdout",
          "text": [
            "\n",
            "ORDINARY NONPARAMETRIC BOOTSTRAP\n",
            "\n",
            "\n",
            "Call:\n",
            "boot(data = data_state$x, statistic = stat_fun_mean, R = 1000)\n",
            "\n",
            "\n",
            "Bootstrap Statistics :\n",
            "    original   bias    std. error\n",
            "t1* 68760.52 1.922167    152.4586\n"
          ]
        }
      ]
    },
    {
      "cell_type": "markdown",
      "source": [
        "###<a name='5'></a>Confidence Intervals"
      ],
      "metadata": {
        "id": "uJcq1FV4yP09"
      }
    },
    {
      "cell_type": "markdown",
      "source": [
        "#####A **Confidence Interval (CI)** is a range of values used to estimate the true value of a population parameter, based on sample data. It provides a measure of uncertainty about the estimate and tells us how confident we can be that the interval contains the true parameter value.\n",
        "\n",
        "##### **Key Elements of Confidence Intervals**:\n",
        "1. **Confidence Level**:\n",
        "   - The **confidence level** (e.g., 90%, 95%, 99%) represents the probability that the interval contains the true population parameter.\n",
        "   - For example, a 95% confidence interval means we expect the true parameter value to lie within this interval in 95% of repeated sampling.\n",
        "\n",
        "2. **Upper and Lower Bounds**:\n",
        "   - The **lower bound** is the smallest value in the interval.\n",
        "   - The **upper bound** is the largest value in the interval.\n",
        "\n",
        "##### **Formula for Confidence Interval**:\n",
        "For a population mean, the confidence interval is calculated as:\n",
        "$$\n",
        "CI = \\hat{\\mu} \\pm Z \\cdot \\frac{\\sigma}{\\sqrt{n}}\n",
        "$$\n",
        "Where:\n",
        "- $ \\hat{\\mu} $ is the sample mean,\n",
        "- $ Z $ is the Z-score corresponding to the desired confidence level (e.g., 1.96 for 95% confidence),\n",
        "- $ \\sigma $ is the population standard deviation (or its estimate from the sample),\n",
        "- $ n $ is the sample size.\n",
        "\n",
        "##### **Interpretation of Confidence Intervals**:\n",
        "- A **95% confidence interval** means that if we were to take many samples and compute a CI for each, 95% of those intervals would contain the true population parameter.\n",
        "- A **wider interval** indicates less precision in the estimate, while a **narrower interval** indicates a more precise estimate.\n",
        "\n",
        "##### **Example**:\n",
        "Suppose we compute the sample mean height of 100 individuals to be 170 cm with a standard deviation of 10 cm. For a 95% confidence interval, the Z-score is 1.96. The confidence interval for the mean height is calculated as:\n",
        "$$\n",
        "CI = 170 \\pm 1.96 \\cdot \\frac{10}{\\sqrt{100}} = 170 \\pm 1.96 \\cdot 1 = [168.04, 171.96]\n",
        "$$\n",
        "This means we are 95% confident that the true average height of the population lies between 168.04 cm and 171.96 cm.\n",
        "\n"
      ],
      "metadata": {
        "id": "8Jl850n9yNfp"
      }
    },
    {
      "cell_type": "markdown",
      "source": [
        "#### Exercise 2.3\n",
        "\n",
        "#####In this task, you are required to calculate the **95% confidence interval** for the **mean** of a dataset. The dataset contains the following income values (in USD): $[45000, 52000, 67000, 68000, 75000, 90000, 82000, 67000, 88000, 62000]$\n",
        "\n",
        "1. Load the dataset.\n",
        "2. Calculate the sample mean and sample standard deviation.\n",
        "3. Use the Z-score for a 95% confidence level to calculate the standard error.\n",
        "4. Compute the confidence interval using the formula:\n",
        "   $$ \\text{Confidence Interval} = \\text{mean} \\pm Z \\times \\text{standard error} $$"
      ],
      "metadata": {
        "id": "0vAEmF2v03T2"
      }
    },
    {
      "cell_type": "code",
      "source": [
        "# Dataset (income values)\n",
        "data <- c(45000,52000,67000,68000,75000,90000,82000,67000,88000,62000)\n",
        "\n",
        "# Number of elements in the sampl\n",
        "n <- length(data)\n",
        "\n",
        "# Sample mean\n",
        "mean_data <- mean(data)\n",
        "\n",
        "# Sample standard deviation\n",
        "sd_data <- sd(data)\n",
        "\n",
        "# Z-score for 95% confidence level\n",
        "z_score <- 1.96\n",
        "\n",
        "# Standard error calculation\n",
        "se <- sd_data / sqrt(n)\n",
        "\n",
        "# Calculate confidence interval\n",
        "lower_bound <- mean_data - z_score * se\n",
        "upper_bound <- mean_data + z_score * se\n",
        "\n",
        "# Print the result\n",
        "cat(\"95% Confidence Interval: [\", round(lower_bound, 2), \", \", round(upper_bound, 2), \"]\\n\")\n"
      ],
      "metadata": {
        "id": "lmWH8uhY0bD5",
        "outputId": "8798f601-1d78-4943-d10b-64b65dce3dcc",
        "colab": {
          "base_uri": "https://localhost:8080/"
        }
      },
      "execution_count": null,
      "outputs": [
        {
          "output_type": "stream",
          "name": "stdout",
          "text": [
            "95% Confidence Interval: [ 60532.07 ,  78667.93 ]\n"
          ]
        }
      ]
    },
    {
      "cell_type": "markdown",
      "source": [
        "###<a name='7'></a>Normal Distribution"
      ],
      "metadata": {
        "id": "Rgc1FnmCpb73"
      }
    },
    {
      "cell_type": "markdown",
      "source": [
        "#####The **normal distribution**, also called the **Gaussian distribution**, is one of the most important concepts in statistics. It describes a continuous probability distribution that is symmetric about its mean and has a characteristic bell-shaped curve.\n",
        "\n",
        "##### Key Characteristics:\n",
        "1. **Mean ($\\mu$):** The central point of the distribution.\n",
        "2. **Standard Deviation ($\\sigma$):** Measures the spread of data around the mean.\n",
        "3. **Symmetry:** The left and right halves of the distribution are mirror images.\n",
        "4. **Empirical Rule:** Approximately:\n",
        "   - 68% of the data falls within 1 standard deviation from the mean.\n",
        "   - 95% of the data falls within 2 standard deviations.\n",
        "   - 99.7% of the data falls within 3 standard deviations.\n",
        "\n",
        "##### Important Concepts:\n",
        "\n",
        "1. **Error:**\n",
        "   - Refers to the deviation of a data point or an estimate from its true value.\n",
        "   - In the context of the normal distribution, errors are often modeled as normally distributed, especially in regression and statistical inference.\n",
        "\n",
        "2. **Standardized Distribution:**\n",
        "   - Transforming a normal distribution into a standardized form allows for comparison across datasets.\n",
        "   - The formula for standardization:\n",
        "     $$\n",
        "     Z = \\frac{X - \\mu}{\\sigma}\n",
        "     $$\n",
        "   - Here:\n",
        "     - $X$ is the observed value.\n",
        "     - $\\mu$ is the mean.\n",
        "     - $\\sigma$ is the standard deviation.\n",
        "\n",
        "3. **Z-Score (Z-Value):**\n",
        "   - A **z-score** represents how many standard deviations a data point is from the mean.\n",
        "   - **Z > 0:** The value is above the mean.\n",
        "   - **Z < 0:** The value is below the mean.\n",
        "   - Example:\n",
        "     If a score has a z-value of 2, it is 2 standard deviations above the mean.\n",
        "\n",
        "4. **Standard Normal Distribution:**\n",
        "   - A special case of the normal distribution where:\n",
        "     - The mean is 0 ($\\mu = 0$).\n",
        "     - The standard deviation is 1 ($\\sigma = 1$).\n",
        "   - The standard normal distribution is often used to compute probabilities and percentiles using z-tables.\n",
        "\n",
        "5. **Q-Q Plot (Quantile-Quantile Plot):**\n",
        "   - A graphical tool to assess whether a dataset follows a normal distribution.\n",
        "   - **Interpretation:**\n",
        "     - If the points in the Q-Q plot align closely along the diagonal line, the data is approximately normal.\n",
        "     - Deviations from the line suggest departures from normality.\n",
        "\n",
        "##### Example: Z-Score Calculation\n",
        "Suppose a dataset has $\\mu = 50$ and $\\sigma = 10$. What is the z-score for $X = 70$?\n",
        "$$\n",
        "Z = \\frac{X - \\mu}{\\sigma} = \\frac{70 - 50}{10} = 2\n",
        "$$\n",
        "This means the value of 70 is **2 standard deviations above the mean**.\n"
      ],
      "metadata": {
        "id": "XMAF0wH7pYtc"
      }
    },
    {
      "cell_type": "markdown",
      "source": [
        "#### Exercise 2.4\n",
        "\n",
        "\n",
        "#####Generate 100 random values from a normal distribution with a mean of $0$ and a standard deviation of $1$. Calculate the mean and standard deviation of the generated values to confirm the parameters."
      ],
      "metadata": {
        "id": "ZcmcPLtSsvUX"
      }
    },
    {
      "cell_type": "code",
      "source": [
        "# Generate 100 random values from a normal distribution\n",
        "set.seed(42) # Setting seed for reproducibility\n",
        "random_values <- rnorm(n = 100, mean = 0, sd = 1)\n",
        "\n",
        "# Calculate the mean and standard deviation of the generated values\n",
        "calculated_mean <- mean(random_values)\n",
        "calculated_sd <- sd(random_values)\n",
        "\n",
        "# Print the results\n",
        "cat(\"Calculated Mean:\", calculated_mean, \"\\n\")\n",
        "cat(\"Calculated Standard Deviation:\", calculated_sd, \"\\n\")"
      ],
      "metadata": {
        "id": "tiXLpaCos9eQ",
        "outputId": "86dfd8c9-a587-4b6d-b925-6c5f342c7778",
        "colab": {
          "base_uri": "https://localhost:8080/"
        }
      },
      "execution_count": null,
      "outputs": [
        {
          "output_type": "stream",
          "name": "stdout",
          "text": [
            "Calculated Mean: 0.03251482 \n",
            "Calculated Standard Deviation: 1.041357 \n"
          ]
        }
      ]
    },
    {
      "cell_type": "markdown",
      "source": [
        "####Exercise 2.5\n",
        "\n",
        "#####Create a Q-Q plot to visually assess whether the 100 random values generated from a normal distribution (with mean = 0 and standard deviation = 1) follow a standard normal distribution."
      ],
      "metadata": {
        "id": "ZHuzIfZstytq"
      }
    },
    {
      "cell_type": "code",
      "source": [
        "# Create a Q-Q plot\n",
        "qqnorm(random_values, main = \"Q-Q Plot for Standard Normal Distribution\")\n",
        "qqline(random_values, col = \"red\", lwd = 3) # Add a reference line"
      ],
      "metadata": {
        "id": "VBvUqoWdt80J",
        "outputId": "00b4a1cb-9468-40fa-b9ec-57b78ff3c563",
        "colab": {
          "base_uri": "https://localhost:8080/",
          "height": 437
        }
      },
      "execution_count": null,
      "outputs": [
        {
          "output_type": "display_data",
          "data": {
            "text/plain": [
              "Plot with title “Q-Q Plot for Standard Normal Distribution”"
            ],
            "image/png": "[encoded data removed]"
          },
          "metadata": {
            "image/png": {
              "width": 420,
              "height": 420
            }
          }
        }
      ]
    },
    {
      "cell_type": "markdown",
      "source": [
        "###<a name='8'></a>Long-Tailed Distributions  "
      ],
      "metadata": {
        "id": "r8Llb6p5wmMV"
      }
    },
    {
      "cell_type": "markdown",
      "source": [
        "#####Long-tailed distributions are characterized by their **tails**, which extend farther than those of a normal distribution. These distributions often arise in datasets where extreme values are more common than expected under a normal distribution.  \n",
        "\n",
        "##### Key Concepts  \n",
        "\n",
        "1. **Tail**:  \n",
        "   - The \"tail\" of a distribution refers to the parts of the probability density function that taper off as you move away from the center (mean).  \n",
        "   - In long-tailed distributions, these tails decrease more slowly than in normal distributions, indicating a higher likelihood of extreme values.  \n",
        "\n",
        "2. **Skewness**:  \n",
        "   - Skewness measures the asymmetry of a distribution.  \n",
        "   - **Right-skewed (positive skew)**: The right tail is longer, and extreme large values dominate.  \n",
        "   - **Left-skewed (negative skew)**: The left tail is longer, and extreme small values dominate.  \n",
        "\n"
      ],
      "metadata": {
        "id": "cgIL82xbwgHQ"
      }
    },
    {
      "cell_type": "markdown",
      "source": [
        "###<a name='9'></a>t-Distribution (Student's t-distribution)"
      ],
      "metadata": {
        "id": "GWpdpSY30SAT"
      }
    },
    {
      "cell_type": "markdown",
      "source": [
        "#####The **t-distribution**, often referred to as the **Student's t-distribution**, is a type of probability distribution that is symmetric and bell-shaped, much like the normal distribution, but with heavier tails. This distribution is particularly useful when dealing with small sample sizes and when the population standard deviation is unknown. The t-distribution is key for hypothesis testing and estimating confidence intervals in these scenarios.\n",
        "\n",
        "##### Key Concepts:\n",
        "\n",
        "1. **Heavier Tails**:\n",
        "   The t-distribution has **heavier tails** compared to the normal distribution. This means it assigns more probability to extreme values, making it more robust for small sample sizes. The increased spread reflects the greater variability observed in small datasets.\n",
        "\n",
        "2. **Degrees of Freedom (df)**:\n",
        "   The t-distribution is characterized by **degrees of freedom (df)**, which are related to the sample size:\n",
        "   $$ df = n - 1 $$\n",
        "   where $n$ is the sample size. As the degrees of freedom increase, the t-distribution approaches the normal distribution.\n",
        "\n",
        "3. **t-Statistic**:\n",
        "   The **t-statistic** is a measure of how far a sample mean is from the population mean, expressed in terms of the standard error. It is calculated as:\n",
        "   $$ t = \\frac{\\bar{x} - \\mu}{s / \\sqrt{n}} $$\n",
        "   where:\n",
        "   - $\\bar{x}$ is the sample mean,\n",
        "   - $\\mu$ is the population mean,\n",
        "   - $s$ is the sample standard deviation,\n",
        "   - $n$ is the sample size.\n",
        "\n",
        "4. **Use in Hypothesis Testing**:\n",
        "   The t-distribution is commonly used in hypothesis testing, particularly for small sample sizes ($n$ < 30). It is applied in:\n",
        "   - **t-tests**: To compare sample means (one-sample, two-sample, paired sample).\n",
        "   - **Confidence intervals**: For estimating the population mean from a sample when the population standard deviation is unknown.\n",
        "\n",
        "5. **t-Distribution vs Normal Distribution**:\n",
        "   - For **large sample sizes**, the t-distribution approaches the normal distribution.\n",
        "   - For **small sample sizes**, the t-distribution has wider tails and more probability in the tails, which accounts for the uncertainty in estimating the population mean from a small sample.\n",
        "\n"
      ],
      "metadata": {
        "id": "_G1gJufe0OXI"
      }
    },
    {
      "cell_type": "markdown",
      "source": [
        "###<a name='10'></a>Binomial Distribution"
      ],
      "metadata": {
        "id": "R-ekEkJTkVGv"
      }
    },
    {
      "cell_type": "markdown",
      "source": [
        "#####The **binomial distribution** is a discrete probability distribution that describes the number of successes in a fixed number of independent trials, each with the same probability of success. It is commonly used in scenarios where the outcomes are binary (e.g., success/failure, yes/no, 1/0).\n",
        "\n",
        "##### Key Characteristics\n",
        "\n",
        "1. **Binary Outcomes**:\n",
        "   - Each trial results in one of two outcomes: success or failure.\n",
        "\n",
        "2. **Fixed Number of Trials**:\n",
        "   - The number of trials ($n$) is predetermined and does not change.\n",
        "\n",
        "3. **Independent Trials**:\n",
        "   - The outcome of one trial does not affect the outcome of another.\n",
        "\n",
        "4. **Constant Probability**:\n",
        "   - The probability of success ($p$) is the same for all trials.\n",
        "\n",
        "##### Probability Mass Function (PMF)\n",
        "\n",
        "The probability of observing exactly $k$ successes in $n$ trials is given by:\n",
        "\n",
        "$$\n",
        "P(X = k) = \\binom{n}{k} p^k (1-p)^{n-k}\n",
        "$$\n",
        "\n",
        "Where:\n",
        "- $X$: Random variable representing the number of successes.\n",
        "- $n$: Number of trials.\n",
        "- $k$: Number of successes.\n",
        "- $p$: Probability of success in a single trial.\n",
        "- $\\binom{n}{k} = \\frac{n!}{k!(n-k)!}$: Binomial coefficient.\n",
        "\n",
        "##### Mean and Variance\n",
        "\n",
        "- **Mean**: $E(X) = n \\cdot p$\n",
        "- **Variance**: $\\text{Var}(X) = n \\cdot p \\cdot (1-p)$\n",
        "\n",
        "##### Example Use Case\n",
        "\n",
        "A factory produces lightbulbs, and 90% of the bulbs pass quality control. If a batch contains 10 bulbs, the probability of exactly 8 passing quality control can be calculated using the binomial distribution:\n",
        "\n",
        "$$\n",
        "P(X = 8) = \\binom{10}{8} (0.9)^8 (0.1)^2\n",
        "$$\n"
      ],
      "metadata": {
        "id": "7-aPToaGkGRM"
      }
    },
    {
      "cell_type": "markdown",
      "source": [
        "####Exercise 2.6\n",
        "\n",
        "1. Define a **binomial distribution** with:\n",
        "   - Number of trials ($n$) = 10\n",
        "   - Probability of success ($p$) = 0.9\n",
        "2. Calculate the probability of **exactly 8 successes**.\n",
        "3. Display the result of the calculated probability.\n",
        "4. Create a **bar plot** for the binomial distribution, with:\n",
        "   - Adjusted y-axis scale ranging from 0 to 0.4.\n",
        "   - Proper labels and title for the plot.\n"
      ],
      "metadata": {
        "id": "d5gLt1G4sLe-"
      }
    },
    {
      "cell_type": "code",
      "source": [
        "# Parameters\n",
        "n <- 10   # Number of trials\n",
        "p <- 0.9  # Probability of success\n",
        "\n",
        "# Calculate probability for exactly 8 successes\n",
        "k <- 8\n",
        "probability <- dbinom(k, size = n, prob = p)\n",
        "print(probability)\n",
        "\n",
        "# Plot the binomial distribution with adjusted y-axis\n",
        "x <- 0:n\n",
        "probabilities <- dbinom(x, size = n, prob = p)\n",
        "barplot(probabilities, names.arg = x, main = \"Binomial Distribution (n=10, p=0.9)\",\n",
        "        xlab = \"Number of Successes\", ylab = \"Probability\", col = \"skyblue\",\n",
        "        ylim = c(0, 0.4))  # Set y-axis scale from 0 to 1\n"
      ],
      "metadata": {
        "id": "6DQ3OkB7kKmx",
        "outputId": "25af96c8-28eb-46ad-b0cd-64de6ca7d557",
        "colab": {
          "base_uri": "https://localhost:8080/",
          "height": 454
        }
      },
      "execution_count": null,
      "outputs": [
        {
          "output_type": "stream",
          "name": "stdout",
          "text": [
            "[1] 0.1937102\n"
          ]
        },
        {
          "output_type": "display_data",
          "data": {
            "text/plain": [
              "Plot with title “Binomial Distribution (n=10, p=0.9)”"
            ],
            "image/png": "[encoded data removed]"
          },
          "metadata": {
            "image/png": {
              "width": 420,
              "height": 420
            }
          }
        }
      ]
    },
    {
      "cell_type": "markdown",
      "source": [
        "####Exercise 2.7\n",
        "\n",
        "\n",
        "1. Define a **binomial distribution** with:\n",
        "   - Number of trials ($n$) = 10\n",
        "   - Probability of success ($p$) = 0.6\n",
        "2. Calculate and display:\n",
        "   - The probability of having **4 or fewer successes** ($P(X \\leq 4)$).\n",
        "   - The probability of having **more than 4 successes** ($P(X > 4)$).\n",
        "3. Create a **step plot** showing the **cumulative probabilities** for the binomial distribution."
      ],
      "metadata": {
        "id": "acJKZOEWrv37"
      }
    },
    {
      "cell_type": "code",
      "source": [
        "# Parameters\n",
        "n <- 10   # Number of trials\n",
        "p <- 0.6  # Probability of success\n",
        "\n",
        "# 1. Probability that number of successes is <= 4\n",
        "k <- 4\n",
        "probability_less_equal_4 <- pbinom(k, size = n, prob = p)\n",
        "print(probability_less_equal_4)  # Output: 0.317\n",
        "\n",
        "# 2. Probability that number of successes is > 4\n",
        "probability_greater_4 <- pbinom(k, size = n, prob = p, lower.tail = FALSE)\n",
        "print(probability_greater_4)  # Output: 0.683\n",
        "\n",
        "# 3. Plot cumulative probability\n",
        "x <- 0:n\n",
        "cumulative_probabilities <- pbinom(x, size = n, prob = p)\n",
        "plot(x, cumulative_probabilities, type = \"s\", col = \"blue\",\n",
        "     main = \"Cumulative Probability of Binomial Distribution (n=10, p=0.6)\",\n",
        "     xlab = \"Number of Successes\", ylab = \"Cumulative Probability\")\n"
      ],
      "metadata": {
        "id": "8r1F6GsFocUk",
        "outputId": "5fe47b1d-8701-4078-9874-bcc1edeca10d",
        "colab": {
          "base_uri": "https://localhost:8080/",
          "height": 472
        }
      },
      "execution_count": null,
      "outputs": [
        {
          "output_type": "stream",
          "name": "stdout",
          "text": [
            "[1] 0.1662386\n",
            "[1] 0.8337614\n"
          ]
        },
        {
          "output_type": "display_data",
          "data": {
            "text/plain": [
              "Plot with title “Cumulative Probability of Binomial Distribution (n=10, p=0.6)”"
            ],
            "image/png": "[encoded data removed]"
          },
          "metadata": {
            "image/png": {
              "width": 420,
              "height": 420
            }
          }
        }
      ]
    },
    {
      "cell_type": "markdown",
      "source": [
        "###<a name='11'></a>Chi-Square Distribution"
      ],
      "metadata": {
        "id": "h6opsRFRvyFo"
      }
    },
    {
      "cell_type": "markdown",
      "source": [
        "#####The **Chi-Square Distribution** is a special case of the **Gamma Distribution**, widely used in statistical tests like **goodness-of-fit** and **test for independence**.\n",
        "\n",
        "##### Key Characteristics\n",
        "\n",
        "1. **Degrees of Freedom (df):** Defines the shape of the distribution. It typically represents the number of independent observations.\n",
        "2. **Shape:**\n",
        "   - For small df, the distribution is skewed right.\n",
        "   - As df increases, the distribution becomes more symmetric and approaches a normal distribution.\n",
        "3. **Skewness:** Decreases as df increases, becoming symmetric for large df.\n",
        "\n",
        "##### Applications\n",
        "\n",
        "- **Goodness-of-Fit Test:** Compares observed data to a theoretical distribution.\n",
        "- **Test for Independence:** Determines if two categorical variables are independent.\n",
        "- **Confidence Interval for Variance:** Calculates confidence intervals for variance in a normal population.\n",
        "\n",
        "##### Probability Density Function (PDF)\n",
        "\n",
        "The probability density function (PDF) of the Chi-Square distribution is:\n",
        "\n",
        "$$ f(x, df) = \\frac{x^{\\frac{df}{2} - 1} e^{-\\frac{x}{2}}}{2^{\\frac{df}{2}} \\Gamma(\\frac{df}{2})} $$\n",
        "\n",
        "where:\n",
        "- $ x $ is the random variable,\n",
        "- $ df $ is the degrees of freedom,\n",
        "- $ \\Gamma(\\cdot) $ is the Gamma function.\n"
      ],
      "metadata": {
        "id": "rOy3z9xWvqpt"
      }
    },
    {
      "cell_type": "markdown",
      "source": [
        "###<a name='12'></a>F-Statistic"
      ],
      "metadata": {
        "id": "jyj_UQEbye4r"
      }
    },
    {
      "cell_type": "markdown",
      "source": [
        "#####The F-statistic is used to compare variances in statistical hypothesis testing and ANOVA (Analysis of Variance). It helps determine if there are significant differences between group means.\n",
        "\n",
        "#### Formula\n",
        "\n",
        "$$\n",
        "F = \\frac{\\text{Variance Between Groups}}{\\text{Variance Within Groups}}\n",
        "$$\n",
        "\n",
        "#### Applications\n",
        "\n",
        "1. **ANOVA**: Tests if the means of multiple groups are significantly different.\n",
        "2. **Comparing Variances**: Assesses if two population variances are equal.\n",
        "3. **Regression**: Tests the overall significance of a regression model.\n",
        "\n",
        "#### F-Distribution\n",
        "\n",
        "- The F-distribution is right-skewed and defined by two degrees of freedom:\n",
        "  - **df1**: Variance between groups.\n",
        "  - **df2**: Variance within groups.\n",
        "\n",
        "#### Interpreting F-Statistic\n",
        "\n",
        "- **Large F-value**: Indicates significant differences between group means.\n",
        "- **Small F-value**: Suggests no significant differences.\n"
      ],
      "metadata": {
        "id": "NbafvORJyce3"
      }
    },
    {
      "cell_type": "markdown",
      "source": [
        "###<a name='13'></a>Poisson Distribution"
      ],
      "metadata": {
        "id": "XNhU5ptL9LHZ"
      }
    },
    {
      "cell_type": "markdown",
      "source": [
        "#####The Poisson distribution models the number of events occurring within a fixed interval of time, space, or another domain, assuming these events occur independently and at a constant average rate.\n",
        "\n",
        "##### Key Characteristics\n",
        "\n",
        "1. **Discrete Distribution**: Counts the number of events.\n",
        "2. **Parameter ($\\lambda$)**: Represents the average rate of events in the interval.\n",
        "3. **Skewness**: Right-skewed for small $\\lambda$, becomes symmetric as $\\lambda$ increases.\n",
        "\n",
        "##### Probability Mass Function (PMF)\n",
        "\n",
        "#####The probability of observing $k$ events is given by:\n",
        "\n",
        "$$\n",
        "P(X = k) = \\frac{\\lambda^k e^{-\\lambda}}{k!}\n",
        "$$\n",
        "\n",
        "#####Where:\n",
        "- $k$: Number of events ($k = 0, 1, 2, \\dots$),\n",
        "- $\\lambda$: Average rate of events,\n",
        "- $e$: Euler's number ($\\approx 2.718$).\n",
        "\n",
        "##### Properties\n",
        "\n",
        "1. **Mean**: $E(X) = \\lambda$\n",
        "2. **Variance**: $\\text{Var}(X) = \\lambda$\n"
      ],
      "metadata": {
        "id": "J60XiPY58wBr"
      }
    },
    {
      "cell_type": "markdown",
      "source": [
        "####Exercise 2.8\n",
        "\n",
        "#####Simulate 100 random samples from a Poisson distribution with:\n",
        "#####Mean ($\\lambda$) = 4.\n",
        "#####Plot a histogram to visualize the distribution of the simulated values."
      ],
      "metadata": {
        "id": "Kqkfj0nW-Vr8"
      }
    },
    {
      "cell_type": "code",
      "source": [
        "# Parameters\n",
        "lambda <- 4  # Mean of the Poisson distribution\n",
        "n <- 100     # Number of samples to generate\n",
        "\n",
        "# Simulate random samples\n",
        "poisson_samples <- rpois(n, lambda = lambda)\n",
        "\n",
        "# Plot a histogram\n",
        "hist(poisson_samples, breaks = 10, main = \"Simulated Poisson Distribution (λ = 4)\",\n",
        "     xlab = \"Number of Events\", col = \"lightblue\", border = \"black\")\n"
      ],
      "metadata": {
        "colab": {
          "base_uri": "https://localhost:8080/",
          "height": 437
        },
        "id": "CzLca7lE-c8h",
        "outputId": "c6507578-ec48-4b23-c53b-e59ca5c99c44"
      },
      "execution_count": 2,
      "outputs": [
        {
          "output_type": "display_data",
          "data": {
            "text/plain": [
              "Plot with title “Simulated Poisson Distribution (λ = 4)”"
            ],
            "image/png": "[encoded data removed]"
          },
          "metadata": {
            "image/png": {
              "width": 420,
              "height": 420
            }
          }
        }
      ]
    },
    {
      "cell_type": "markdown",
      "source": [
        "####Exercise 2.9\n",
        "#####For a Poisson distribution with a mean ($\\lambda$) of 4, calculate and display:\n",
        "#####The probability of observing exactly 2 events ($P(X = 2)$).\n",
        "#####The probability of observing exactly 6 events ($P(X = 6)$)."
      ],
      "metadata": {
        "id": "rtY6Q5N1-ggu"
      }
    },
    {
      "cell_type": "code",
      "source": [
        "# Parameters\n",
        "lambda <- 4  # Mean of the Poisson distribution\n",
        "\n",
        "# Calculate probabilities\n",
        "prob_2 <- dpois(2, lambda = lambda)  # Probability of exactly 2 events\n",
        "prob_6 <- dpois(6, lambda = lambda)  # Probability of exactly 6 events\n",
        "\n",
        "# Print results\n",
        "cat(\"P(X = 2):\", prob_2, \"\\n\")  # Output: ~0.1465251\n",
        "cat(\"P(X = 6):\", prob_6, \"\\n\")  # Output: ~0.1041956\n"
      ],
      "metadata": {
        "colab": {
          "base_uri": "https://localhost:8080/"
        },
        "id": "wubpB6lj-sGY",
        "outputId": "2665dda0-596f-4c87-bf7d-7750fcaa925e"
      },
      "execution_count": 3,
      "outputs": [
        {
          "output_type": "stream",
          "name": "stdout",
          "text": [
            "P(X = 2): 0.1465251 \n",
            "P(X = 6): 0.1041956 \n"
          ]
        }
      ]
    },
    {
      "cell_type": "markdown",
      "source": [
        "###<a name='14'></a> Exponential Distribution"
      ],
      "metadata": {
        "id": "PJZ6Oy5FAAFJ"
      }
    },
    {
      "cell_type": "markdown",
      "source": [
        "#####The **exponential distribution** is a continuous probability distribution that describes the time between events in a **Poisson process**, where events occur continuously and independently at a constant average rate. It is often used to model waiting times.\n",
        "\n",
        "\n",
        "\n",
        "##### Key Properties of the Exponential Distribution\n",
        "\n",
        "1. **Probability Density Function (PDF):**  \n",
        "   The formula for the exponential distribution is:  \n",
        "   $\n",
        "   f(x; \\lambda) =\n",
        "   \\begin{cases}\n",
        "   \\lambda e^{-\\lambda x}, & x \\geq 0 \\\\\n",
        "   0, & x < 0\n",
        "   \\end{cases}\n",
        "   $\n",
        "   - $\\lambda > 0$: rate parameter (average number of events per unit time).  \n",
        "   - $x$: the variable (time or distance).\n",
        "\n",
        "2. **Cumulative Distribution Function (CDF):**  \n",
        "   $\n",
        "   F(x; \\lambda) = 1 - e^{-\\lambda x}, \\quad x \\geq 0\n",
        "   $\n",
        "\n",
        "3. **Mean and Variance:**  \n",
        "   - Mean ($\\mu$): $\\frac{1}{\\lambda}$  \n",
        "   - Variance ($\\sigma^2$): $\\frac{1}{\\lambda^2}$\n",
        "\n",
        "4. **Memoryless Property:**  \n",
        "   The probability of waiting for another $t$ units of time does not depend on how much time has already passed. Formally:\n",
        "   $\n",
        "   P(X > s + t | X > s) = P(X > t)\n",
        "   $\n",
        "\n",
        "\n",
        "##### Applications\n",
        "- **Queueing systems:** Time between arrivals of customers.\n",
        "- **Reliability analysis:** Time to failure of systems.\n",
        "- **Natural processes:** Time between radioactive decay events.\n",
        "\n",
        "\n",
        "##### R Functions for Exponential Distribution\n",
        "- `rexp(n, rate)`: Generate random numbers from the exponential distribution.\n",
        "- `dexp(x, rate)`: Compute the probability density.\n",
        "- `pexp(q, rate)`: Compute the cumulative probability.\n",
        "- `qexp(p, rate)`: Compute the quantile for a given cumulative probability.\n",
        "\n"
      ],
      "metadata": {
        "id": "a0Zg6WDd_TYS"
      }
    },
    {
      "cell_type": "markdown",
      "source": [
        "#### Exercise 2.10\n",
        "\n",
        "1. **Define an Exponential Distribution:**\n",
        "   - Set the rate parameter $\\lambda = 2$ (average number of events per unit time).\n",
        "\n",
        "2. **Generate a Sample:**\n",
        "   - Generate 100 random values from the exponential distribution with parameter $\\lambda$.\n",
        "\n",
        "3. **Calculations:**\n",
        "   - Compute and display the probability density function (PDF) value for $x = 1$.\n",
        "   - Compute and display the cumulative distribution function (CDF) value for $x \\leq 1$.\n",
        "\n",
        "4. **Visualization:**\n",
        "   - Create a plot of the PDF for the exponential distribution with parameter $\\lambda = 2$ over the range $x \\in [0, 3]$.\n",
        "\n",
        "**Hints:**\n",
        "- Use R functions `rexp()`, `dexp()`, and `pexp()` to perform the tasks.\n",
        "- Set the random seed using `set.seed()` to ensure reproducibility.\n",
        "- Use the `curve()` function in R to generate the plot.\n"
      ],
      "metadata": {
        "id": "uIcg5PTCBusp"
      }
    },
    {
      "cell_type": "code",
      "source": [
        "# Parameters\n",
        "lambda <- 2  # Rate parameter\n",
        "\n",
        "# Generate 100 random values from the exponential distribution\n",
        "set.seed(42)\n",
        "data <- rexp(100, rate = lambda)\n",
        "\n",
        "# Calculate the probability density for x = 1\n",
        "pdf_value <- dexp(1, rate = lambda)\n",
        "print(pdf_value)\n",
        "\n",
        "# Calculate cumulative probability for x <= 1\n",
        "cdf_value <- pexp(1, rate = lambda)\n",
        "print(cdf_value)\n",
        "\n",
        "# Plot the PDF\n",
        "curve(dexp(x, rate = lambda), from = 0, to = 3, col = \"blue\",\n",
        "      main = \"Exponential Distribution PDF (λ = 2)\",\n",
        "      xlab = \"x\", ylab = \"Density\")"
      ],
      "metadata": {
        "colab": {
          "base_uri": "https://localhost:8080/",
          "height": 472
        },
        "id": "KPB6RnplBU3a",
        "outputId": "109ee03c-53bd-4829-c909-615a00f2ff71"
      },
      "execution_count": 7,
      "outputs": [
        {
          "output_type": "stream",
          "name": "stdout",
          "text": [
            "[1] 0.2706706\n",
            "[1] 0.8646647\n"
          ]
        },
        {
          "output_type": "display_data",
          "data": {
            "text/plain": [
              "Plot with title “Exponential Distribution PDF (λ = 2)”"
            ],
            "image/png": "[encoded data removed]"
          },
          "metadata": {
            "image/png": {
              "width": 420,
              "height": 420
            }
          }
        }
      ]
    },
    {
      "cell_type": "markdown",
      "source": [
        "###<a name='15'></a> Weibull Distribution"
      ],
      "metadata": {
        "id": "PJ1FLJ_7DP-M"
      }
    },
    {
      "cell_type": "markdown",
      "source": [
        "#####The Weibull distribution is a continuous probability distribution widely used in reliability analysis and survival studies. It is particularly useful for modeling the time until the first failure of a process or system.\n",
        "\n",
        "**Probability Density Function (PDF):**\n",
        "The PDF of the Weibull distribution is given by:\n",
        "\n",
        "$$\n",
        "f(x; \\lambda, k) =\n",
        "\\begin{cases}\n",
        "\\frac{k}{\\lambda} \\left( \\frac{x}{\\lambda} \\right)^{k-1} e^{-(x/\\lambda)^k}, & x \\geq 0 \\\\\n",
        "0, & x < 0\n",
        "\\end{cases}\n",
        "$$\n",
        "\n",
        "where:\n",
        "- $k > 0$ is the shape parameter, which determines the distribution's shape.\n",
        "- $\\lambda > 0$ is the scale parameter, which stretches or compresses the distribution.\n",
        "\n",
        "**Cumulative Distribution Function (CDF):**\n",
        "The CDF of the Weibull distribution is:\n",
        "\n",
        "$$\n",
        "F(x; \\lambda, k) = 1 - e^{-(x/\\lambda)^k}, \\quad x \\geq 0\n",
        "$$\n",
        "\n",
        "**Properties:**\n",
        "- **Shape Parameter ($k$):**\n",
        "  - $k < 1$: Indicates a decreasing failure rate over time, often associated with \"infant mortality\" failures.\n",
        "  - $k = 1$: Represents a constant failure rate, corresponding to the exponential distribution.\n",
        "  - $k > 1$: Suggests an increasing failure rate over time, typical of \"wear-out\" failures.\n",
        "\n",
        "- **Scale Parameter ($\\lambda$):**\n",
        "  - Scales the distribution; larger values of $\\lambda$ result in a distribution stretched along the x-axis, indicating longer lifetimes.\n",
        "\n",
        "\n"
      ],
      "metadata": {
        "id": "XMduI9AQDJ_j"
      }
    },
    {
      "cell_type": "markdown",
      "source": [
        "####Excercise 2.11\n",
        "\n",
        "1. **Define the Weibull Distribution:**\n",
        "   - Set the **shape parameter** ($k$) to 1.5.\n",
        "   - Set the **scale parameter** ($\\lambda$) to 2.\n",
        "\n",
        "2. **Generate Random Data:**\n",
        "   - Create a sample of 1000 random values from the defined Weibull distribution.\n",
        "\n",
        "3. **Calculate Probabilities:**\n",
        "   - Compute the **probability density function (PDF)** value for $x = 1$.\n",
        "   - Compute the **cumulative distribution function (CDF)** value for $x = 1$.\n",
        "\n",
        "4. **Visualize the Distribution:**\n",
        "   - Plot a histogram of the generated data.\n",
        "\n"
      ],
      "metadata": {
        "id": "HAqkvwyxFmAl"
      }
    },
    {
      "cell_type": "code",
      "source": [
        "# Parameters\n",
        "lambda <- 2  # Scale parameter\n",
        "k <- 1.5     # Shape parameter\n",
        "\n",
        "# Generate 1000 random values from the Weibull distribution\n",
        "set.seed(42)\n",
        "data <- rweibull(1000, shape = k, scale = lambda)\n",
        "\n",
        "# Calculate the probability density for x = 1\n",
        "pdf_value <- dweibull(1, shape = k, scale = lambda)\n",
        "print(pdf_value)\n",
        "\n",
        "# Calculate the cumulative probability for x <= 1\n",
        "cdf_value <- pweibull(1, shape = k, scale = lambda)\n",
        "print(cdf_value)\n",
        "\n",
        "# Plot the histogram with the Weibull density curve\n",
        "hist(data, probability = TRUE, col = \"lightblue\", main = \"Histogram with Weibull Density Curve\",\n",
        "     xlab = \"Time to Failure\", ylab = \"Density\", ylim = c(0, 0.4))\n",
        "curve(dweibull(x, shape = k, scale = lambda), add = TRUE, col = \"red\", lwd = 2)"
      ],
      "metadata": {
        "colab": {
          "base_uri": "https://localhost:8080/",
          "height": 472
        },
        "id": "dWVYn9r8E8na",
        "outputId": "090909e0-1c0e-4499-eeb0-15e95dbc7895"
      },
      "execution_count": 9,
      "outputs": [
        {
          "output_type": "stream",
          "name": "stdout",
          "text": [
            "[1] 0.3723917\n",
            "[1] 0.2978115\n"
          ]
        },
        {
          "output_type": "display_data",
          "data": {
            "text/plain": [
              "Plot with title “Histogram with Weibull Density Curve”"
            ],
            "image/png": "[encoded data removed]"
          },
          "metadata": {
            "image/png": {
              "width": 420,
              "height": 420
            }
          }
        }
      ]
    }
  ]
}