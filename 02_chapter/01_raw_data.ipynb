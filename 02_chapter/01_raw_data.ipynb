{
  "nbformat": 4,
  "nbformat_minor": 0,
  "metadata": {
    "colab": {
      "provenance": [],
      "authorship_tag": "ABX9TyOWCMIFwX3HOhgHlea5s8Ft",
      "include_colab_link": true
    },
    "kernelspec": {
      "name": "python3",
      "display_name": "Python 3"
    },
    "language_info": {
      "name": "python"
    }
  },
  "cells": [
    {
      "cell_type": "markdown",
      "metadata": {
        "id": "view-in-github",
        "colab_type": "text"
      },
      "source": [
        "<a href=\"https://colab.research.google.com/github/davidofitaly/notes_02_50_key_stats_ds/blob/main/02_chapter/01_raw_data.ipynb\" target=\"_parent\"><img src=\"https://colab.research.google.com/assets/colab-badge.svg\" alt=\"Open In Colab\"/></a>"
      ]
    },
    {
      "cell_type": "markdown",
      "source": [
        "###Random Sampling and Sample Bias"
      ],
      "metadata": {
        "id": "AqH_SAW_1ySn"
      }
    },
    {
      "cell_type": "markdown",
      "source": [
        "##### **1. Sample**\n",
        "#####A **sample** is a subset of units selected from the population for analysis. The goal is for the sample to be representative of the population, enabling valid inferences.\n",
        "\n",
        "##### **2. Population**\n",
        "#####The **population** refers to the entire set of individuals, items, or observations that are the subject of a study. It is the broader group from which the sample is drawn.\n",
        "\n",
        "##### **3. Population Size ($N$) and Sample Size ($n$)**\n",
        "- $N$: The total number of units in the population.  \n",
        "- $n$: The total number of units in the sample.\n",
        "\n",
        "##### **4. Random Sampling**\n",
        "#####**Random sampling** ensures that every unit in the population has an equal chance of being included in the sample. This method minimizes bias and enhances the representativeness of the sample.\n",
        "\n",
        "#####Key features of random sampling:\n",
        "- Equal probability of selection for all units.\n",
        "- Reduces the risk of systematic bias.\n",
        "- Results can be generalized to the population.\n",
        "\n",
        "##### **5. Stratified Sampling**\n",
        "#####**Stratified sampling** involves dividing the population into subgroups (strata) based on specific characteristics, then randomly sampling from each stratum. It ensures representation across key subgroups.\n",
        "\n",
        "##### **6. Strata**\n",
        "#####A **stratum** (plural: strata) is a subgroup of the population that shares a common characteristic, such as age, income level, or geographical region. Stratification improves the precision of sample estimates.\n",
        "\n",
        "##### **7. Random Sampling Within Strata**\n",
        "#####In **stratified sampling**, random samples are drawn from each stratum. This can be proportional to the stratum’s size in the population or equal across strata, depending on the research objective.\n",
        "\n",
        "##### **8. Bias**\n",
        "#####**Bias** refers to a systematic error that causes the sample to misrepresent the population. Common sources of bias include:\n",
        "- Non-random sampling methods.\n",
        "- Exclusion of specific groups.\n",
        "- Inconsistent data collection techniques.\n",
        "\n",
        "##### **9. Sample Bias**\n",
        "#####**Sample bias** occurs when the sample is not representative of the population, leading to distorted results. Examples include:\n",
        "- **Selection bias**: Overrepresentation or underrepresentation of certain groups.\n",
        "- **Non-response bias**: Results skewed due to a lack of participation from certain individuals."
      ],
      "metadata": {
        "id": "gmwsa5YX2Ask"
      }
    },
    {
      "cell_type": "markdown",
      "source": [
        "###Selection Bias"
      ],
      "metadata": {
        "id": "uAYGiwy-CPXs"
      }
    },
    {
      "cell_type": "markdown",
      "source": [
        "#####Selection bias occurs when the sample data used in an analysis is not representative of the target population, leading to skewed or incorrect conclusions. This bias can arise from the way data is collected, the choice of sample, or the conditions under which the sample is observed.\n",
        "\n",
        "##### Important Concepts:\n",
        "\n",
        "1. **Selection Bias:**\n",
        "   - This is the distortion of a statistical analysis resulting from the method of selecting participants or data. It leads to non-random selection of data points, causing the sample to differ from the general population.\n",
        "\n",
        "\n",
        "2. **Data Hunting:**\n",
        "   - Data hunting refers to an exploratory approach where a researcher searches for patterns or insights within a dataset, often leading to overfitting or misinterpretation of findings.\n",
        "   - This can be problematic if it leads to confirmation bias, where the researcher finds patterns that support preconceived notions rather than unbiased data.\n",
        "\n",
        "3. **The Effect of Search Through Multiple Hypotheses:**\n",
        "   - This effect occurs when a researcher tests multiple hypotheses or multiple models on the same dataset. The more hypotheses tested, the higher the likelihood of finding a spurious relationship, simply by chance.\n",
        "   - Example: Testing 10 different hypotheses increases the likelihood that at least one will appear statistically significant due to random variation, even if there is no true effect.\n",
        "\n",
        "4. **Regression to the Mean:**\n",
        "   - This phenomenon occurs when extreme values tend to be closer to the average on subsequent measurements. It occurs because random variation causes extreme outcomes, which are less likely to persist over time.\n",
        "   - Example: If an unusually high-performing student has a very high score on a test, their score on the next test is likely to be closer to the average, as the first result was influenced by random factors.\n"
      ],
      "metadata": {
        "id": "KPUbV3rWB2KC"
      }
    },
    {
      "cell_type": "markdown",
      "source": [
        "###Sampling Distribution for Statistics"
      ],
      "metadata": {
        "id": "1RGs4p01LCt4"
      }
    },
    {
      "cell_type": "markdown",
      "source": [
        "#####The sampling distribution is a probability distribution of a given statistic (such as the mean or variance) based on repeated sampling from a population. Understanding the sampling distribution is key to making inferences about the population from sample data.\n",
        "\n",
        "##### Important Concepts:\n",
        "\n",
        "1. **Statistic for the Sample:**\n",
        "   - A statistic is a numerical value calculated from a sample of data. Common statistics include the sample mean, sample variance, and sample proportion.\n",
        "   - Example: If you take a sample of 50 students' test scores and calculate the average, this average is a statistic for the sample.\n",
        "\n",
        "2. **Data Distribution:**\n",
        "   - The data distribution describes how the values of a dataset are spread or dispersed. It includes features like the central tendency, dispersion, and shape of the data.\n",
        "   - Example: A normal distribution has a bell-shaped curve, with most of the data points clustered around the mean.\n",
        "\n",
        "3. **Sampling Distribution:**\n",
        "   - The sampling distribution refers to the distribution of a statistic (such as the sample mean) that is obtained through repeated sampling from a population.\n",
        "   - When we take many random samples from a population and compute a statistic for each sample, the distribution of these statistics is known as the sampling distribution.\n",
        "   - Example: If we repeatedly take samples of 30 students' test scores and calculate the mean for each sample, the distribution of these means is the sampling distribution.\n",
        "\n",
        "4. **Central Limit Theorem:**\n",
        "   - The Central Limit Theorem (CLT) states that for sufficiently large sample sizes, the sampling distribution of the sample mean will be approximately normal, regardless of the population distribution, as long as the population has finite variance.\n",
        "   - This is a powerful result because it allows us to apply inferential statistics (such as confidence intervals and hypothesis tests) even if the underlying population distribution is not normal.\n",
        "   - Example: If you sample 30 students from a population of students and calculate their mean scores, the distribution of these means will be approximately normal even if the individual scores are not normally distributed.\n",
        "\n",
        "5. **Standard Error:**\n",
        "   - The standard error is the standard deviation of the sampling distribution of a statistic, typically the sample mean. It measures how much the sample statistic is expected to vary from the true population parameter.\n",
        "   - The formula for the standard error of the sample mean is:\n",
        "\n",
        "$$ SE = \\frac{\\sigma}{\\sqrt{n}} $$  \n",
        "\n",
        "   - where $ \\sigma $ is the population standard deviation and $n$ is the sample size.\n",
        "   - Example: A larger sample size leads to a smaller standard error, meaning that the sample mean is likely to be closer to the population mean.\n",
        "\n"
      ],
      "metadata": {
        "id": "U28a6Bt5LAN_"
      }
    },
    {
      "cell_type": "code",
      "execution_count": null,
      "metadata": {
        "id": "sTQMFFMCu9OX"
      },
      "outputs": [],
      "source": []
    }
  ]
}