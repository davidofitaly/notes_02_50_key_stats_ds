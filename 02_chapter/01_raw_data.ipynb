{
  "nbformat": 4,
  "nbformat_minor": 0,
  "metadata": {
    "colab": {
      "provenance": [],
      "authorship_tag": "ABX9TyOwGY4asBPO2defmmmWUfMu",
      "include_colab_link": true
    },
    "kernelspec": {
      "name": "ir",
      "display_name": "R"
    },
    "language_info": {
      "name": "R"
    }
  },
  "cells": [
    {
      "cell_type": "markdown",
      "metadata": {
        "id": "view-in-github",
        "colab_type": "text"
      },
      "source": [
        "<a href=\"https://colab.research.google.com/github/davidofitaly/notes_02_50_key_stats_ds/blob/main/02_chapter/01_raw_data.ipynb\" target=\"_parent\"><img src=\"https://colab.research.google.com/assets/colab-badge.svg\" alt=\"Open In Colab\"/></a>"
      ]
    },
    {
      "cell_type": "code",
      "source": [
        "library(boot)"
      ],
      "metadata": {
        "id": "ldTMEqWurbcz"
      },
      "execution_count": 3,
      "outputs": []
    },
    {
      "cell_type": "markdown",
      "source": [
        "###Random Sampling and Sample Bias"
      ],
      "metadata": {
        "id": "AqH_SAW_1ySn"
      }
    },
    {
      "cell_type": "markdown",
      "source": [
        "##### **1. Sample**\n",
        "#####A **sample** is a subset of units selected from the population for analysis. The goal is for the sample to be representative of the population, enabling valid inferences.\n",
        "\n",
        "##### **2. Population**\n",
        "#####The **population** refers to the entire set of individuals, items, or observations that are the subject of a study. It is the broader group from which the sample is drawn.\n",
        "\n",
        "##### **3. Population Size ($N$) and Sample Size ($n$)**\n",
        "- $N$: The total number of units in the population.  \n",
        "- $n$: The total number of units in the sample.\n",
        "\n",
        "##### **4. Random Sampling**\n",
        "#####**Random sampling** ensures that every unit in the population has an equal chance of being included in the sample. This method minimizes bias and enhances the representativeness of the sample.\n",
        "\n",
        "#####Key features of random sampling:\n",
        "- Equal probability of selection for all units.\n",
        "- Reduces the risk of systematic bias.\n",
        "- Results can be generalized to the population.\n",
        "\n",
        "##### **5. Stratified Sampling**\n",
        "#####**Stratified sampling** involves dividing the population into subgroups (strata) based on specific characteristics, then randomly sampling from each stratum. It ensures representation across key subgroups.\n",
        "\n",
        "##### **6. Strata**\n",
        "#####A **stratum** (plural: strata) is a subgroup of the population that shares a common characteristic, such as age, income level, or geographical region. Stratification improves the precision of sample estimates.\n",
        "\n",
        "##### **7. Random Sampling Within Strata**\n",
        "#####In **stratified sampling**, random samples are drawn from each stratum. This can be proportional to the stratum’s size in the population or equal across strata, depending on the research objective.\n",
        "\n",
        "##### **8. Bias**\n",
        "#####**Bias** refers to a systematic error that causes the sample to misrepresent the population. Common sources of bias include:\n",
        "- Non-random sampling methods.\n",
        "- Exclusion of specific groups.\n",
        "- Inconsistent data collection techniques.\n",
        "\n",
        "##### **9. Sample Bias**\n",
        "#####**Sample bias** occurs when the sample is not representative of the population, leading to distorted results. Examples include:\n",
        "- **Selection bias**: Overrepresentation or underrepresentation of certain groups.\n",
        "- **Non-response bias**: Results skewed due to a lack of participation from certain individuals."
      ],
      "metadata": {
        "id": "gmwsa5YX2Ask"
      }
    },
    {
      "cell_type": "markdown",
      "source": [
        "###Selection Bias"
      ],
      "metadata": {
        "id": "uAYGiwy-CPXs"
      }
    },
    {
      "cell_type": "markdown",
      "source": [
        "#####Selection bias occurs when the sample data used in an analysis is not representative of the target population, leading to skewed or incorrect conclusions. This bias can arise from the way data is collected, the choice of sample, or the conditions under which the sample is observed.\n",
        "\n",
        "##### Important Concepts:\n",
        "\n",
        "1. **Selection Bias:**\n",
        "   - This is the distortion of a statistical analysis resulting from the method of selecting participants or data. It leads to non-random selection of data points, causing the sample to differ from the general population.\n",
        "\n",
        "\n",
        "2. **Data Hunting:**\n",
        "   - Data hunting refers to an exploratory approach where a researcher searches for patterns or insights within a dataset, often leading to overfitting or misinterpretation of findings.\n",
        "   - This can be problematic if it leads to confirmation bias, where the researcher finds patterns that support preconceived notions rather than unbiased data.\n",
        "\n",
        "3. **The Effect of Search Through Multiple Hypotheses:**\n",
        "   - This effect occurs when a researcher tests multiple hypotheses or multiple models on the same dataset. The more hypotheses tested, the higher the likelihood of finding a spurious relationship, simply by chance.\n",
        "   - Example: Testing 10 different hypotheses increases the likelihood that at least one will appear statistically significant due to random variation, even if there is no true effect.\n",
        "\n",
        "4. **Regression to the Mean:**\n",
        "   - This phenomenon occurs when extreme values tend to be closer to the average on subsequent measurements. It occurs because random variation causes extreme outcomes, which are less likely to persist over time.\n",
        "   - Example: If an unusually high-performing student has a very high score on a test, their score on the next test is likely to be closer to the average, as the first result was influenced by random factors.\n"
      ],
      "metadata": {
        "id": "KPUbV3rWB2KC"
      }
    },
    {
      "cell_type": "markdown",
      "source": [
        "###Sampling Distribution for Statistics"
      ],
      "metadata": {
        "id": "1RGs4p01LCt4"
      }
    },
    {
      "cell_type": "markdown",
      "source": [
        "#####The sampling distribution is a probability distribution of a given statistic (such as the mean or variance) based on repeated sampling from a population. Understanding the sampling distribution is key to making inferences about the population from sample data.\n",
        "\n",
        "##### Important Concepts:\n",
        "\n",
        "1. **Statistic for the Sample:**\n",
        "   - A statistic is a numerical value calculated from a sample of data. Common statistics include the sample mean, sample variance, and sample proportion.\n",
        "   - Example: If you take a sample of 50 students' test scores and calculate the average, this average is a statistic for the sample.\n",
        "\n",
        "2. **Data Distribution:**\n",
        "   - The data distribution describes how the values of a dataset are spread or dispersed. It includes features like the central tendency, dispersion, and shape of the data.\n",
        "   - Example: A normal distribution has a bell-shaped curve, with most of the data points clustered around the mean.\n",
        "\n",
        "3. **Sampling Distribution:**\n",
        "   - The sampling distribution refers to the distribution of a statistic (such as the sample mean) that is obtained through repeated sampling from a population.\n",
        "   - When we take many random samples from a population and compute a statistic for each sample, the distribution of these statistics is known as the sampling distribution.\n",
        "   - Example: If we repeatedly take samples of 30 students' test scores and calculate the mean for each sample, the distribution of these means is the sampling distribution.\n",
        "\n",
        "4. **Central Limit Theorem:**\n",
        "   - The Central Limit Theorem (CLT) states that for sufficiently large sample sizes, the sampling distribution of the sample mean will be approximately normal, regardless of the population distribution, as long as the population has finite variance.\n",
        "   - This is a powerful result because it allows us to apply inferential statistics (such as confidence intervals and hypothesis tests) even if the underlying population distribution is not normal.\n",
        "   - Example: If you sample 30 students from a population of students and calculate their mean scores, the distribution of these means will be approximately normal even if the individual scores are not normally distributed.\n",
        "\n",
        "5. **Standard Error:**\n",
        "   - The standard error is the standard deviation of the sampling distribution of a statistic, typically the sample mean. It measures how much the sample statistic is expected to vary from the true population parameter.\n",
        "   - The formula for the standard error of the sample mean is:\n",
        "\n",
        "$$ SE = \\frac{\\sigma}{\\sqrt{n}} $$  \n",
        "\n",
        "   - where $ \\sigma $ is the population standard deviation and $n$ is the sample size.\n",
        "   - Example: A larger sample size leads to a smaller standard error, meaning that the sample mean is likely to be closer to the population mean.\n",
        "\n"
      ],
      "metadata": {
        "id": "U28a6Bt5LAN_"
      }
    },
    {
      "cell_type": "markdown",
      "source": [
        "### Bootstrap Sampling\n"
      ],
      "metadata": {
        "id": "pacJoGunmuPB"
      }
    },
    {
      "cell_type": "markdown",
      "source": [
        "#####Bootstrap sampling is a statistical method used to estimate the sampling distribution of a statistic by resampling with replacement from the observed data. This technique is particularly useful when the theoretical distribution of a statistic is complex or unknown.\n",
        "\n",
        "##### Key Concepts:\n",
        "\n",
        "1. **Bootstrap Sample:**\n",
        "   - A bootstrap sample is a randomly selected subset of data obtained by sampling with replacement from the original dataset.\n",
        "   - Each bootstrap sample has the same size as the original dataset, but some observations may appear more than once, while others may not appear at all.\n",
        "   - Example: If your original dataset has 5 observations $\\{x_1, x_2, x_3, x_4, x_5\\}$, a bootstrap sample might look like $\\{x_1, x_2, x_2, x_4, x_5\\}$\n",
        "\n",
        "2. **Resampling:**\n",
        "   - Resampling refers to the process of repeatedly drawing samples from a dataset to compute a statistic multiple times.\n",
        "   - Bootstrap resampling allows for estimating the variability of a statistic, constructing confidence intervals, or performing hypothesis testing without relying on strong parametric assumptions.\n",
        "   - Example: Generate 1000 bootstrap samples from a dataset to calculate the sampling distribution of the mean.\n",
        "\n",
        "##### Steps for Bootstrap Sampling:\n",
        "\n",
        "1. Start with an original dataset of size $n$.\n",
        "2. Randomly draw $n$ observations from the dataset with replacement to create a bootstrap sample.\n",
        "3. Compute the statistic of interest (e.g., mean, median) for the bootstrap sample.\n",
        "4. Repeat steps 2 and 3 many times (e.g., 1000 iterations) to generate the bootstrap distribution of the statistic.\n",
        "5. Use the bootstrap distribution to calculate standard errors, confidence intervals, or other inferential measures.\n",
        "\n",
        "##### Example:\n",
        "Suppose you have a dataset of exam scores: $\\{78, 85, 92, 88, 76\\}$.  \n",
        "1. Generate a bootstrap sample: $\\{78, 85, 85, 92, 76\\}$.\n",
        "2. Compute the mean of the bootstrap sample: $\\bar{x}_{\\text{bootstrap}} = 83.2$.\n",
        "3. Repeat this process 1000 times to create the bootstrap distribution of the mean.\n",
        "\n",
        "##### Key Takeaways:\n",
        "- **Bootstrap sample** is created by resampling with replacement from the original data.\n",
        "- **Resampling** allows repeated estimation of statistics to assess their variability and build confidence intervals.\n",
        "- **Bootstrap** is a powerful tool for non-parametric statistical inference.\n"
      ],
      "metadata": {
        "id": "_htOKMnGmqqZ"
      }
    },
    {
      "cell_type": "markdown",
      "source": [
        "#### Exercise 2.1\n",
        "\n",
        "##### Write a program that performs the following tasks:  \n",
        "1. Load the `loans_income.csv` dataset from the given GitHub URL.  \n",
        "2. Display the first few rows of the dataset to understand its structure.  \n",
        "3. Define a custom statistic function to calculate the median of a sample.  \n",
        "4. Use the **bootstrap method** to resample the `x` variable from the dataset 1000 times and estimate the median for each resample.  \n",
        "5. Print the bootstrap results, including the original median, bias, and standard error.  \n"
      ],
      "metadata": {
        "id": "yTJ9W7I8tof3"
      }
    },
    {
      "cell_type": "code",
      "source": [
        "# Define the URL of the CSV file on GitHub\n",
        "url <- \"https://raw.githubusercontent.com/davidofitaly/notes_02_50_key_stats_ds/main/02_chapter/files/loans_income.csv\"\n",
        "\n",
        "# Load the data from the CSV file into the variable 'data_state'\n",
        "data_state <- read.csv(url)\n",
        "\n",
        "# Display the first few rows of the loaded dataset\n",
        "head(data_state)"
      ],
      "metadata": {
        "id": "xDvF9bXJqlfX",
        "outputId": "170c7464-af09-49fc-c574-c4e3e81a0fb3",
        "colab": {
          "base_uri": "https://localhost:8080/",
          "height": 321
        }
      },
      "execution_count": 1,
      "outputs": [
        {
          "output_type": "display_data",
          "data": {
            "text/html": [
              "<table class=\"dataframe\">\n",
              "<caption>A data.frame: 6 × 1</caption>\n",
              "<thead>\n",
              "\t<tr><th></th><th scope=col>x</th></tr>\n",
              "\t<tr><th></th><th scope=col>&lt;int&gt;</th></tr>\n",
              "</thead>\n",
              "<tbody>\n",
              "\t<tr><th scope=row>1</th><td> 67000</td></tr>\n",
              "\t<tr><th scope=row>2</th><td> 52000</td></tr>\n",
              "\t<tr><th scope=row>3</th><td>100000</td></tr>\n",
              "\t<tr><th scope=row>4</th><td> 78762</td></tr>\n",
              "\t<tr><th scope=row>5</th><td> 37041</td></tr>\n",
              "\t<tr><th scope=row>6</th><td> 33000</td></tr>\n",
              "</tbody>\n",
              "</table>\n"
            ],
            "text/markdown": "\nA data.frame: 6 × 1\n\n| <!--/--> | x &lt;int&gt; |\n|---|---|\n| 1 |  67000 |\n| 2 |  52000 |\n| 3 | 100000 |\n| 4 |  78762 |\n| 5 |  37041 |\n| 6 |  33000 |\n\n",
            "text/latex": "A data.frame: 6 × 1\n\\begin{tabular}{r|l}\n  & x\\\\\n  & <int>\\\\\n\\hline\n\t1 &  67000\\\\\n\t2 &  52000\\\\\n\t3 & 100000\\\\\n\t4 &  78762\\\\\n\t5 &  37041\\\\\n\t6 &  33000\\\\\n\\end{tabular}\n",
            "text/plain": [
              "  x     \n",
              "1  67000\n",
              "2  52000\n",
              "3 100000\n",
              "4  78762\n",
              "5  37041\n",
              "6  33000"
            ]
          },
          "metadata": {}
        }
      ]
    },
    {
      "cell_type": "code",
      "source": [
        "# Define a function to calculate the median for bootstrap samples\n",
        "stat_fun_median <- function(x, idx) {median(x[idx])}\n",
        "\n",
        "# Perform bootstrap resampling with 1000 iterations\n",
        "boot_obj_median <- boot(data_state$x, R = 1000, statistic = stat_fun_median)\n",
        "\n",
        "# Print the bootstrap results\n",
        "print(boot_obj_median)"
      ],
      "metadata": {
        "id": "fY9IedQrrPFC",
        "outputId": "89658c51-c310-4a41-daab-0835dc036137",
        "colab": {
          "base_uri": "https://localhost:8080/"
        }
      },
      "execution_count": 9,
      "outputs": [
        {
          "output_type": "stream",
          "name": "stdout",
          "text": [
            "\n",
            "ORDINARY NONPARAMETRIC BOOTSTRAP\n",
            "\n",
            "\n",
            "Call:\n",
            "boot(data = data_state$x, statistic = stat_fun_median, R = 1000)\n",
            "\n",
            "\n",
            "Bootstrap Statistics :\n",
            "    original   bias    std. error\n",
            "t1*    62000 -65.7235    204.4154\n"
          ]
        }
      ]
    },
    {
      "cell_type": "markdown",
      "source": [
        "#### Exercise 2.2\n",
        "\n",
        "Load the `loans_income.csv` dataset and perform bootstrap resampling to calculate the mean of the data.\n",
        "\n",
        "1. Use bootstrap resampling with 1000 iterations.\n",
        "2. Calculate the mean for each resampled sample.\n",
        "3. Display the bootstrap results including the original mean, bias, and standard error."
      ],
      "metadata": {
        "id": "eAptSgHTuc3N"
      }
    },
    {
      "cell_type": "code",
      "source": [
        "# Define a function to calculate the mean for bootstrap samples\n",
        "stat_fun_mean <- function(x, idx) {mean(x[idx])}\n",
        "\n",
        "# Perform bootstrap resampling with 1000 iterations\n",
        "boot_obj_mean <- boot(data_state$x, R=1000, statistic=stat_fun_mean)\n",
        "\n",
        "# Print the bootstrap results\n",
        "print(boot_obj_mean)"
      ],
      "metadata": {
        "id": "IxP6RUtdupkf",
        "outputId": "a77ffd6a-5cf2-48f8-d22c-ea1fedb4ed5f",
        "colab": {
          "base_uri": "https://localhost:8080/"
        }
      },
      "execution_count": 10,
      "outputs": [
        {
          "output_type": "stream",
          "name": "stdout",
          "text": [
            "\n",
            "ORDINARY NONPARAMETRIC BOOTSTRAP\n",
            "\n",
            "\n",
            "Call:\n",
            "boot(data = data_state$x, statistic = stat_fun_mean, R = 1000)\n",
            "\n",
            "\n",
            "Bootstrap Statistics :\n",
            "    original   bias    std. error\n",
            "t1* 68760.52 6.022033    151.9284\n"
          ]
        }
      ]
    },
    {
      "cell_type": "markdown",
      "source": [
        "### Confidence Intervals"
      ],
      "metadata": {
        "id": "uJcq1FV4yP09"
      }
    },
    {
      "cell_type": "markdown",
      "source": [
        "#####A **Confidence Interval (CI)** is a range of values used to estimate the true value of a population parameter, based on sample data. It provides a measure of uncertainty about the estimate and tells us how confident we can be that the interval contains the true parameter value.\n",
        "\n",
        "##### **Key Elements of Confidence Intervals**:\n",
        "1. **Confidence Level**:\n",
        "   - The **confidence level** (e.g., 90%, 95%, 99%) represents the probability that the interval contains the true population parameter.\n",
        "   - For example, a 95% confidence interval means we expect the true parameter value to lie within this interval in 95% of repeated sampling.\n",
        "\n",
        "2. **Upper and Lower Bounds**:\n",
        "   - The **lower bound** is the smallest value in the interval.\n",
        "   - The **upper bound** is the largest value in the interval.\n",
        "\n",
        "##### **Formula for Confidence Interval**:\n",
        "For a population mean, the confidence interval is calculated as:\n",
        "$$\n",
        "CI = \\hat{\\mu} \\pm Z \\cdot \\frac{\\sigma}{\\sqrt{n}}\n",
        "$$\n",
        "Where:\n",
        "- $ \\hat{\\mu} $ is the sample mean,\n",
        "- $ Z $ is the Z-score corresponding to the desired confidence level (e.g., 1.96 for 95% confidence),\n",
        "- $ \\sigma $ is the population standard deviation (or its estimate from the sample),\n",
        "- $ n $ is the sample size.\n",
        "\n",
        "##### **Interpretation of Confidence Intervals**:\n",
        "- A **95% confidence interval** means that if we were to take many samples and compute a CI for each, 95% of those intervals would contain the true population parameter.\n",
        "- A **wider interval** indicates less precision in the estimate, while a **narrower interval** indicates a more precise estimate.\n",
        "\n",
        "##### **Example**:\n",
        "Suppose we compute the sample mean height of 100 individuals to be 170 cm with a standard deviation of 10 cm. For a 95% confidence interval, the Z-score is 1.96. The confidence interval for the mean height is calculated as:\n",
        "$$\n",
        "CI = 170 \\pm 1.96 \\cdot \\frac{10}{\\sqrt{100}} = 170 \\pm 1.96 \\cdot 1 = [168.04, 171.96]\n",
        "$$\n",
        "This means we are 95% confident that the true average height of the population lies between 168.04 cm and 171.96 cm.\n",
        "\n"
      ],
      "metadata": {
        "id": "8Jl850n9yNfp"
      }
    },
    {
      "cell_type": "markdown",
      "source": [
        "#### Exercise 2.3\n",
        "\n",
        "#####In this task, you are required to calculate the **95% confidence interval** for the **mean** of a dataset. The dataset contains the following income values (in USD): $[45000, 52000, 67000, 68000, 75000, 90000, 82000, 67000, 88000, 62000]$\n",
        "\n",
        "1. Load the dataset.\n",
        "2. Calculate the sample mean and sample standard deviation.\n",
        "3. Use the Z-score for a 95% confidence level to calculate the standard error.\n",
        "4. Compute the confidence interval using the formula:\n",
        "   $$ \\text{Confidence Interval} = \\text{mean} \\pm Z \\times \\text{standard error} $$"
      ],
      "metadata": {
        "id": "0vAEmF2v03T2"
      }
    },
    {
      "cell_type": "code",
      "source": [
        "# Dataset (income values)\n",
        "data <- c(45000,52000,67000,68000,75000,90000,82000,67000,88000,62000)\n",
        "\n",
        "# Number of elements in the sampl\n",
        "n <- length(data)\n",
        "\n",
        "# Sample mean\n",
        "mean_data <- mean(data)\n",
        "\n",
        "# Sample standard deviation\n",
        "sd_data <- sd(data)\n",
        "\n",
        "# Z-score for 95% confidence level\n",
        "z_score <- 1.96\n",
        "\n",
        "# Standard error calculation\n",
        "se <- sd_data / sqrt(n)\n",
        "\n",
        "# Calculate confidence interval\n",
        "lower_bound <- mean_data - z_score * se\n",
        "upper_bound <- mean_data + z_score * se\n",
        "\n",
        "# Print the result\n",
        "cat(\"95% Confidence Interval: [\", round(lower_bound, 2), \", \", round(upper_bound, 2), \"]\\n\")\n"
      ],
      "metadata": {
        "id": "lmWH8uhY0bD5",
        "outputId": "5c40a773-3fdb-4506-dc05-5c2d420a87b8",
        "colab": {
          "base_uri": "https://localhost:8080/"
        }
      },
      "execution_count": 13,
      "outputs": [
        {
          "output_type": "stream",
          "name": "stdout",
          "text": [
            "95% Confidence Interval: [ 60532.07 ,  78667.93 ]\n"
          ]
        }
      ]
    }
  ]
}