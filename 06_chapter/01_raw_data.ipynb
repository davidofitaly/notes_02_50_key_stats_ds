{
  "nbformat": 4,
  "nbformat_minor": 0,
  "metadata": {
    "colab": {
      "provenance": [],
      "authorship_tag": "ABX9TyOSWFtxaynpHhBZr8eZAquV",
      "include_colab_link": true
    },
    "kernelspec": {
      "name": "ir",
      "display_name": "R"
    },
    "language_info": {
      "name": "R"
    }
  },
  "cells": [
    {
      "cell_type": "markdown",
      "metadata": {
        "id": "view-in-github",
        "colab_type": "text"
      },
      "source": [
        "<a href=\"https://colab.research.google.com/github/davidofitaly/notes_02_50_key_stats_ds/blob/main/06_chapter/01_raw_data.ipynb\" target=\"_parent\"><img src=\"https://colab.research.google.com/assets/colab-badge.svg\" alt=\"Open In Colab\"/></a>"
      ]
    },
    {
      "cell_type": "markdown",
      "source": [
        "### k-Nearest Neighbors (k-NN)"
      ],
      "metadata": {
        "id": "NFrScaEnCNdh"
      }
    },
    {
      "cell_type": "markdown",
      "source": [
        "#####**k-Nearest Neighbors (k-NN)** is a simple and effective classification and regression algorithm based on the idea that similar data points tend to be close to each other.\n",
        "\n",
        "##### 1. Algorithm  \n",
        "For a given data point:\n",
        "1. Calculate the distance to all other points (e.g., **Euclidean distance**):\n",
        "   $$\n",
        "   d(x, y) = \\sqrt{\\sum_{i=1}^{n} (x_i - y_i)^2}\n",
        "   $$\n",
        "2. Select the **k** nearest neighbors.\n",
        "3. Assign the class label based on majority voting (**classification**) or compute the average value (**regression**).\n",
        "\n",
        "##### 2. Choosing \\( k \\)  \n",
        "- Small \\( k \\) → **More sensitive** to noise, low bias, high variance.  \n",
        "- Large \\( k \\) → **Smoother** decision boundary, high bias, low variance.\n",
        "\n",
        "##### 3. Distance Metrics  \n",
        "Common distance metrics:\n",
        "- **Euclidean Distance**: Default metric for continuous data.\n",
        "- **Manhattan Distance**: Sum of absolute differences.\n",
        "- **Minkowski Distance**: Generalized version of Euclidean and Manhattan.\n",
        "\n"
      ],
      "metadata": {
        "id": "mjbNaMPQCIOe"
      }
    }
  ]
}